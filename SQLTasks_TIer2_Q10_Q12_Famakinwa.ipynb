{
 "cells": [
  {
   "cell_type": "markdown",
   "id": "4ca447d3",
   "metadata": {},
   "source": [
    "# Q10:\n",
    "Produce a list of facilities with a total revenue less than 1000.\n",
    "The output of facility name and total revenue, sorted by revenue. Remember\n",
    "that there's a different cost for guests and members!"
   ]
  },
  {
   "cell_type": "code",
   "execution_count": 1,
   "id": "21b966ac",
   "metadata": {},
   "outputs": [],
   "source": [
    "# Import necessary module: sqlite and pands\n",
    "\n",
    "import sqlite3\n",
    "\n",
    "import pandas as pd\n",
    "\n",
    "\n",
    "# Create connection, con, with context manager, using local instance of SQL lite\n",
    "with sqlite3.connect(r'C:\\Users\\fabby\\OneDrive\\Springboard\\SQLFiles Tier 2\\sqlite_db_pythonsqlite.db') as con:\n",
    "    # Import results of a query into pandas dataframe. The query finds the total revenue (from July 2012 through September 2012)\n",
    "    # of each facility in the dataframe (accounting for guest and member usage separately).\n",
    "    df = pd.read_sql_query(\"SELECT info.name as Facility_Name, info.Facility_Revenue\\\n",
    "                            FROM\\\n",
    "                            (SELECT\\\n",
    "                                name,\\\n",
    "                                CASE WHEN b.memid = 0 THEN SUM(b.slots* f.guestcost)\\\n",
    "                                ELSE SUM(b.slots * f.membercost) END AS Facility_Revenue\\\n",
    "                            FROM Facilities as f\\\n",
    "                               LEFT JOIN Bookings AS b\\\n",
    "                                   ON f.facid = b.facid\\\n",
    "                               LEFT JOIN Members AS m\\\n",
    "                                   ON b.memid = m.memid\\\n",
    "                            GROUP BY f.name\\\n",
    "                            ORDER BY Facility_Revenue DESC) AS info\", con)\n",
    "\n"
   ]
  },
  {
   "cell_type": "code",
   "execution_count": 2,
   "id": "95ea4da2",
   "metadata": {},
   "outputs": [
    {
     "name": "stdout",
     "output_type": "stream",
     "text": [
      "     Facility_Name  Facility_Revenue\n",
      "0   Massage Room 1          112320.0\n",
      "1   Tennis Court 1           33000.0\n",
      "2   Tennis Court 2           31950.0\n",
      "3     Squash Court           19320.0\n",
      "4  Badminton Court           18739.5\n",
      "5   Massage Room 2           18240.0\n",
      "6       Pool Table            4550.0\n",
      "7    Snooker Table            4540.0\n",
      "8     Table Tennis            4150.0\n"
     ]
    }
   ],
   "source": [
    "print(df)"
   ]
  },
  {
   "cell_type": "markdown",
   "id": "39ae32ac",
   "metadata": {},
   "source": [
    "df shows that the maximum revenue comes from Massage Room 1 while the minimum revenue came from the Table Tennis facility."
   ]
  },
  {
   "cell_type": "code",
   "execution_count": 3,
   "id": "c728de4c",
   "metadata": {},
   "outputs": [],
   "source": [
    "# Follow same procedure as above but filter for where revenue is less than 1000\n",
    "with sqlite3.connect(r'C:\\Users\\fabby\\OneDrive\\Springboard\\SQLFiles Tier 2\\sqlite_db_pythonsqlite.db') as con:\n",
    "    df1 = pd.read_sql_query(\"SELECT info.name as Facility_Name, info.Facility_Revenue\\\n",
    "                            FROM\\\n",
    "                            (SELECT\\\n",
    "                                name,\\\n",
    "                                CASE WHEN b.memid = 0 THEN SUM(b.slots* f.guestcost)\\\n",
    "                                ELSE SUM(b.slots * f.membercost) END AS Facility_Revenue\\\n",
    "                            FROM Facilities as f\\\n",
    "                               LEFT JOIN Bookings AS b\\\n",
    "                                   ON f.facid = b.facid\\\n",
    "                               LEFT JOIN Members AS m\\\n",
    "                                   ON b.memid = m.memid\\\n",
    "                            GROUP BY f.name\\\n",
    "                            ORDER BY Facility_Revenue DESC) AS info\\\n",
    "                            WHERE Facility_Revenue < 1000\", con)"
   ]
  },
  {
   "cell_type": "code",
   "execution_count": 4,
   "id": "4b3bb2db",
   "metadata": {},
   "outputs": [
    {
     "name": "stdout",
     "output_type": "stream",
     "text": [
      "Empty DataFrame\n",
      "Columns: [Facility_Name, Facility_Revenue]\n",
      "Index: []\n"
     ]
    }
   ],
   "source": [
    "print(df1)"
   ]
  },
  {
   "cell_type": "markdown",
   "id": "4374b253",
   "metadata": {},
   "source": [
    "df1 shows that none of the facilities generated revenue under 1000 over the time period in the country club database."
   ]
  },
  {
   "cell_type": "markdown",
   "id": "dd59594f",
   "metadata": {},
   "source": [
    "# Q11: \n",
    "Produce a report of members and who recommended them in alphabetic surname,firstname order."
   ]
  },
  {
   "cell_type": "code",
   "execution_count": 5,
   "id": "776f891b",
   "metadata": {},
   "outputs": [],
   "source": [
    "# Create connection, con, with context manager, using local instance of SQL lite\n",
    "with sqlite3.connect(r'C:\\Users\\fabby\\OneDrive\\Springboard\\SQLFiles Tier 2\\sqlite_db_pythonsqlite.db') as con:\n",
    "    # Import a query into pandas dataframe. The query finds a list of members in alphabetical order and who recommended them.\n",
    "    df2 = pd.read_sql_query(\"SELECT m1.surname || ', ' || m1.firstname AS Member_Name,\\\n",
    "                                CASE WHEN m1.recommendedby = 0 THEN ''\\\n",
    "                                WHEN m1.recommendedby IS NULL THEN ''\\\n",
    "                                ELSE m2.surname || ', ' || m2.firstname END AS Recommend_By\\\n",
    "                            FROM Members AS m1\\\n",
    "                                LEFT JOIN Members as m2\\\n",
    "                                    ON m1.recommendedby = m2.memid\\\n",
    "                            ORDER BY Member_Name\", con)"
   ]
  },
  {
   "cell_type": "code",
   "execution_count": 6,
   "id": "85144b5a",
   "metadata": {},
   "outputs": [
    {
     "name": "stdout",
     "output_type": "stream",
     "text": [
      "                 Member_Name        Recommend_By\n",
      "0            Bader, Florence    Stibbons, Ponder\n",
      "1                Baker, Anne    Stibbons, Ponder\n",
      "2             Baker, Timothy     Farrell, Jemima\n",
      "3                Boothe, Tim         Rownam, Tim\n",
      "4            Butters, Gerald       Smith, Darren\n",
      "5               Coplin, Joan      Baker, Timothy\n",
      "6             Crumpet, Erica        Smith, Tracy\n",
      "7                Dare, Nancy    Joplette, Janice\n",
      "8             Farrell, David                None\n",
      "9            Farrell, Jemima                None\n",
      "10              GUEST, GUEST                None\n",
      "11          Genting, Matthew     Butters, Gerald\n",
      "12                Hunt, John  Purview, Millicent\n",
      "13              Jones, David    Joplette, Janice\n",
      "14            Jones, Douglas        Jones, David\n",
      "15          Joplette, Janice       Smith, Darren\n",
      "16           Mackenzie, Anna       Smith, Darren\n",
      "17             Owen, Charles       Smith, Darren\n",
      "18             Pinker, David     Farrell, Jemima\n",
      "19        Purview, Millicent        Smith, Tracy\n",
      "20               Rownam, Tim                None\n",
      "21         Rumney, Henrietta    Genting, Matthew\n",
      "22         Sarwin, Ramnaresh     Bader, Florence\n",
      "23             Smith, Darren                None\n",
      "24             Smith, Darren                None\n",
      "25               Smith, Jack       Smith, Darren\n",
      "26              Smith, Tracy                None\n",
      "27          Stibbons, Ponder       Tracy, Burton\n",
      "28             Tracy, Burton                None\n",
      "29      Tupperware, Hyacinth                None\n",
      "30  Worthington-Smyth, Henry        Smith, Tracy\n"
     ]
    }
   ],
   "source": [
    "print(df2)"
   ]
  },
  {
   "cell_type": "markdown",
   "id": "b4252193",
   "metadata": {},
   "source": [
    "# Q12: \n",
    "Find the facilities with their usage by member, but not guests "
   ]
  },
  {
   "cell_type": "code",
   "execution_count": 7,
   "id": "d90ba7c9",
   "metadata": {},
   "outputs": [],
   "source": [
    "# Create connection, con, with context manager, using local instance of SQL lite\n",
    "with sqlite3.connect(r'C:\\Users\\fabby\\OneDrive\\Springboard\\SQLFiles Tier 2\\sqlite_db_pythonsqlite.db') as con:\n",
    "    # Import a query into pandas dataframe. The query finds usage of facilities by member.\n",
    "    df3 = pd.read_sql_query(\"SELECT\\\n",
    "                                f.name AS Facility_Name,\\\n",
    "                                m.firstname || ', ' || m.surname AS Member_Name,\\\n",
    "                                COUNT(b.bookid) AS Number_of_Bookings\\\n",
    "                            FROM `Bookings` as b\\\n",
    "                                LEFT JOIN `Members` AS m\\\n",
    "                                    ON b.memid = m.memid\\\n",
    "                                LEFT JOIN `Facilities` AS f\\\n",
    "                                    ON b.facid = f.facid\\\n",
    "                            WHERE m.memid > 0\\\n",
    "                            GROUP BY Facility_Name, Member_Name\\\n",
    "                            ORDER by Facility_Name, Number_of_Bookings\", con)"
   ]
  },
  {
   "cell_type": "code",
   "execution_count": 8,
   "id": "1bef648a",
   "metadata": {},
   "outputs": [
    {
     "name": "stdout",
     "output_type": "stream",
     "text": [
      "       Facility_Name           Member_Name  Number_of_Bookings\n",
      "0    Badminton Court  Hyacinth, Tupperware                   1\n",
      "1    Badminton Court         Burton, Tracy                   2\n",
      "2    Badminton Court        Douglas, Jones                   2\n",
      "3    Badminton Court        Erica, Crumpet                   2\n",
      "4    Badminton Court            John, Hunt                   2\n",
      "..               ...                   ...                 ...\n",
      "197   Tennis Court 2          David, Jones                  30\n",
      "198   Tennis Court 2      Ponder, Stibbons                  31\n",
      "199   Tennis Court 2           Anne, Baker                  35\n",
      "200   Tennis Court 2         Charles, Owen                  41\n",
      "201   Tennis Court 2           Tim, Boothe                  52\n",
      "\n",
      "[202 rows x 3 columns]\n"
     ]
    }
   ],
   "source": [
    "print(df3)"
   ]
  },
  {
   "cell_type": "markdown",
   "id": "a8ca26a4",
   "metadata": {},
   "source": [
    "# Q13: \n",
    "Find the facilities usage by month, but not guests."
   ]
  },
  {
   "cell_type": "code",
   "execution_count": 9,
   "id": "f4c491ec",
   "metadata": {},
   "outputs": [],
   "source": [
    "# Create connection, con, with context manager, using local instance of SQL lite\n",
    "with sqlite3.connect(r'C:\\Users\\fabby\\OneDrive\\Springboard\\SQLFiles Tier 2\\sqlite_db_pythonsqlite.db') as con:\n",
    "    # Import a query into pandas dataframe. The query finds usage of facilities by month.\n",
    "    df4 = pd.read_sql_query(\"SELECT\\\n",
    "                                f.name AS Facility_Name,\\\n",
    "                                strftime('%m', starttime) AS Month,\\\n",
    "                                COUNT(b.bookid) AS Number_of_Bookings\\\n",
    "                            FROM `Bookings` AS b\\\n",
    "                                LEFT JOIN Members AS m\\\n",
    "                                    ON b.memid = m.memid\\\n",
    "                                LEFT JOIN `Facilities` AS f\\\n",
    "                                    ON b.facid = f.facid\\\n",
    "                            WHERE m.memid > 0\\\n",
    "                            GROUP BY Facility_Name, Month\\\n",
    "                            ORDER by Facility_Name, Month\", con)"
   ]
  },
  {
   "cell_type": "code",
   "execution_count": 10,
   "id": "111b6c52",
   "metadata": {},
   "outputs": [
    {
     "name": "stdout",
     "output_type": "stream",
     "text": [
      "      Facility_Name Month  Number_of_Bookings\n",
      "0   Badminton Court    07                  51\n",
      "1   Badminton Court    08                 132\n",
      "2   Badminton Court    09                 161\n",
      "3    Massage Room 1    07                  77\n",
      "4    Massage Room 1    08                 153\n",
      "5    Massage Room 1    09                 191\n",
      "6    Massage Room 2    07                   4\n",
      "7    Massage Room 2    08                   9\n",
      "8    Massage Room 2    09                  14\n",
      "9        Pool Table    07                 103\n",
      "10       Pool Table    08                 272\n",
      "11       Pool Table    09                 408\n",
      "12    Snooker Table    07                  68\n",
      "13    Snooker Table    08                 154\n",
      "14    Snooker Table    09                 199\n",
      "15     Squash Court    07                  23\n",
      "16     Squash Court    08                  85\n",
      "17     Squash Court    09                  87\n",
      "18     Table Tennis    07                  48\n",
      "19     Table Tennis    08                 143\n",
      "20     Table Tennis    09                 194\n",
      "21   Tennis Court 1    07                  65\n",
      "22   Tennis Court 1    08                 111\n",
      "23   Tennis Court 1    09                 132\n",
      "24   Tennis Court 2    07                  41\n",
      "25   Tennis Court 2    08                 109\n",
      "26   Tennis Court 2    09                 126\n"
     ]
    }
   ],
   "source": [
    "print(df4)"
   ]
  },
  {
   "cell_type": "code",
   "execution_count": null,
   "id": "845ef9c1",
   "metadata": {},
   "outputs": [],
   "source": []
  }
 ],
 "metadata": {
  "kernelspec": {
   "display_name": "Python 3 (ipykernel)",
   "language": "python",
   "name": "python3"
  },
  "language_info": {
   "codemirror_mode": {
    "name": "ipython",
    "version": 3
   },
   "file_extension": ".py",
   "mimetype": "text/x-python",
   "name": "python",
   "nbconvert_exporter": "python",
   "pygments_lexer": "ipython3",
   "version": "3.11.5"
  }
 },
 "nbformat": 4,
 "nbformat_minor": 5
}
