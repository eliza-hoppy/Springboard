{
 "cells": [
  {
   "cell_type": "markdown",
   "metadata": {},
   "source": [
    "This exercise will require you to pull some data from https://data.nasdaq.com/ (formerly Quandl API)."
   ]
  },
  {
   "cell_type": "markdown",
   "metadata": {},
   "source": [
    "As a first step, you will need to register a free account on the https://data.nasdaq.com/ website."
   ]
  },
  {
   "cell_type": "markdown",
   "metadata": {},
   "source": [
    "After you register, you will be provided with a unique API key, that you should store:\n",
    "\n",
    "*Note*: Use a `.env` file and put your key in there and `python-dotenv` to access it in this notebook. \n",
    "\n",
    "The code below uses a key that was used when generating this project but has since been deleted. Never submit your keys to source control. There is a `.env-example` file in this repository to illusrtate what you need. Copy that to a file called `.env` and use your own api key in that `.env` file. Make sure you also have a `.gitignore` file with a line for `.env` added to it. \n",
    "\n",
    "The standard Python gitignore is [here](https://github.com/github/gitignore/blob/master/Python.gitignore) you can just copy that. "
   ]
  },
  {
   "cell_type": "code",
   "execution_count": 177,
   "metadata": {},
   "outputs": [
    {
     "name": "stdout",
     "output_type": "stream",
     "text": [
      "Retrieving notices: ...working... done\n",
      "Collecting package metadata (current_repodata.json): ...working... done\n",
      "Solving environment: ...working... done\n",
      "\n",
      "## Package Plan ##\n",
      "\n",
      "  environment location: C:\\Users\\fabby\\anaconda3\n",
      "\n",
      "  added / updated specs:\n",
      "    - python-dotenv\n",
      "\n",
      "\n",
      "The following NEW packages will be INSTALLED:\n",
      "\n",
      "  jsonschema         pkgs/main/win-64::jsonschema-4.17.3-py310haa95532_0 \n",
      "  qtpy               pkgs/main/win-64::qtpy-2.2.0-py310haa95532_0 \n",
      "\n",
      "\n",
      "\n",
      "Downloading and Extracting Packages: ...working... done\n",
      "Preparing transaction: ...working... done\n",
      "Verifying transaction: ...working... done\n",
      "Executing transaction: ...working... done\n"
     ]
    },
    {
     "name": "stderr",
     "output_type": "stream",
     "text": [
      "\n",
      "The environment is inconsistent, please check the package plan carefully\n",
      "The following packages are causing the inconsistency:\n",
      "\n",
      "  - defaults/win-64::anaconda-client==1.11.2=py310haa95532_0\n",
      "  - defaults/win-64::anaconda-navigator==2.4.1=py310haa95532_0\n",
      "  - defaults/win-64::anaconda-project==0.11.1=py310haa95532_0\n",
      "  - defaults/win-64::conda-repo-cli==1.0.75=py310haa95532_0\n",
      "  - defaults/win-64::navigator-updater==0.4.0=py310haa95532_1\n",
      "  - defaults/win-64::nbformat==5.9.2=py310haa95532_0\n"
     ]
    }
   ],
   "source": [
    "# Install a conda package in the current Jupyter kernel\n",
    "import sys\n",
    "!conda install --yes --prefix {sys.prefix} python-dotenv"
   ]
  },
  {
   "cell_type": "code",
   "execution_count": 181,
   "metadata": {},
   "outputs": [],
   "source": [
    "# get api key from your .env file\n",
    "import os\n",
    "from dotenv import load_dotenv\n",
    "\n",
    "load_dotenv()\n",
    "#print(os.environ.get('NASDAQ_API_KEY'))\n",
    "API_KEY = os.getenv('NASDAQ_API_KEY')\n",
    "#print(API_KEY)"
   ]
  },
  {
   "cell_type": "markdown",
   "metadata": {},
   "source": [
    "Nasdaq Data has a large number of data sources, but, unfortunately, most of them require a Premium subscription. Still, there are also a good number of free datasets."
   ]
  },
  {
   "cell_type": "markdown",
   "metadata": {},
   "source": [
    "For this mini project, we will focus on equities data from the Frankfurt Stock Exhange (FSE), which is available for free. We'll try and analyze the stock prices of a company called Carl Zeiss Meditec, which manufactures tools for eye examinations, as well as medical lasers for laser eye surgery: https://www.zeiss.com/meditec/int/home.html. The company is listed under the stock ticker AFX_X."
   ]
  },
  {
   "cell_type": "markdown",
   "metadata": {},
   "source": [
    "You can find the detailed Nasdaq Data API instructions here: https://docs.data.nasdaq.com/docs/in-depth-usage"
   ]
  },
  {
   "cell_type": "markdown",
   "metadata": {},
   "source": [
    "While there is a dedicated Python package for connecting to the Nasdaq API, we would prefer that you use the *requests* package, which can be easily downloaded using *pip* or *conda*. You can find the documentation for the package here: http://docs.python-requests.org/en/master/ "
   ]
  },
  {
   "cell_type": "markdown",
   "metadata": {},
   "source": [
    "Finally, apart from the *requests* package, you are encouraged to not use any third party Python packages, such as *pandas*, and instead focus on what's available in the Python Standard Library (the *collections* module might come in handy: https://pymotw.com/3/collections/).\n",
    "Also, since you won't have access to DataFrames, you are encouraged to us Python's native data structures - preferably dictionaries, though some questions can also be answered using lists.\n",
    "You can read more on these data structures here: https://docs.python.org/3/tutorial/datastructures.html"
   ]
  },
  {
   "cell_type": "markdown",
   "metadata": {},
   "source": [
    "Keep in mind that the JSON responses you will be getting from the API map almost one-to-one to Python's dictionaries. Unfortunately, they can be very nested, so make sure you read up on indexing dictionaries in the documentation provided above."
   ]
  },
  {
   "cell_type": "code",
   "execution_count": 182,
   "metadata": {},
   "outputs": [],
   "source": [
    "# First, import the relevant modules\n",
    "import requests\n",
    "import collections\n",
    "import json"
   ]
  },
  {
   "cell_type": "markdown",
   "metadata": {},
   "source": [
    "Note: API's can change a bit with each version, for this exercise it is reccomended to use the nasdaq api at `https://data.nasdaq.com/api/v3/`. This is the same api as what used to be quandl so `https://www.quandl.com/api/v3/` should work too.\n",
    "\n",
    "Hint: We are looking for the `AFX_X` data on the `datasets/FSE/` dataset."
   ]
  },
  {
   "cell_type": "code",
   "execution_count": 184,
   "metadata": {},
   "outputs": [],
   "source": [
    "# Now, call the Nasdaq API and pull out a small sample of the data (only one day) to get a glimpse\n",
    "# into the JSON structure that will be returned\n",
    "url = f\"https://data.nasdaq.com/api/v3/datasets/FSE/AFX_X/data.json?start_date=2014-01-01&end_date=2014-01-02&api_key={API_KEY}\"\n",
    "r = requests.get(url)\n",
    "AFX_data_json = r.json()"
   ]
  },
  {
   "cell_type": "code",
   "execution_count": 185,
   "metadata": {},
   "outputs": [
    {
     "data": {
      "text/plain": [
       "{'dataset_data': {'limit': None,\n",
       "  'transform': None,\n",
       "  'column_index': None,\n",
       "  'column_names': ['Date',\n",
       "   'Open',\n",
       "   'High',\n",
       "   'Low',\n",
       "   'Close',\n",
       "   'Change',\n",
       "   'Traded Volume',\n",
       "   'Turnover',\n",
       "   'Last Price of the Day',\n",
       "   'Daily Traded Units',\n",
       "   'Daily Turnover'],\n",
       "  'start_date': '2014-01-01',\n",
       "  'end_date': '2014-01-02',\n",
       "  'frequency': 'daily',\n",
       "  'data': [['2014-01-02',\n",
       "    24.24,\n",
       "    24.76,\n",
       "    23.77,\n",
       "    24.18,\n",
       "    None,\n",
       "    55735.0,\n",
       "    1355658.0,\n",
       "    None,\n",
       "    None,\n",
       "    None]],\n",
       "  'collapse': None,\n",
       "  'order': None}}"
      ]
     },
     "execution_count": 185,
     "metadata": {},
     "output_type": "execute_result"
    }
   ],
   "source": [
    "# Inspect the JSON structure of the object you created, and take note of how nested it is,\n",
    "# as well as the overall structure\n",
    "AFX_data_json"
   ]
  },
  {
   "cell_type": "markdown",
   "metadata": {},
   "source": [
    "These are your tasks for this mini project:\n",
    "\n",
    "1. Collect data from the Franfurt Stock Exchange, for the ticker AFX_X, for the whole year 2017 (keep in mind that the date format is YYYY-MM-DD).\n",
    "2. Convert the returned JSON object into a Python dictionary.\n",
    "3. Calculate what the highest and lowest opening prices were for the stock in this period.\n",
    "4. What was the largest change in any one day (based on High and Low price)?\n",
    "5. What was the largest change between any two days (based on Closing Price)?\n",
    "6. What was the average daily trading volume during this year?\n",
    "7. (Optional) What was the median trading volume during this year. (Note: you may need to implement your own function for calculating the median.)"
   ]
  },
  {
   "cell_type": "markdown",
   "metadata": {},
   "source": [
    "1. Collect data from the Franfurt Stock Exchange, for the ticker AFX_X, for the whole year 2017 (keep in mind that the date format is YYYY-MM-DD)."
   ]
  },
  {
   "cell_type": "code",
   "execution_count": 186,
   "metadata": {},
   "outputs": [
    {
     "data": {
      "text/plain": [
       "dict"
      ]
     },
     "execution_count": 186,
     "metadata": {},
     "output_type": "execute_result"
    }
   ],
   "source": [
    "#Get data from Jan 1st, 2017 to December 31st, 2017.\n",
    "url = f\"https://data.nasdaq.com/api/v3/datasets/FSE/AFX_X/data.json?start_date=2017-01-01&end_date=2017-12-31&api_key={API_KEY}\"\n",
    "r = requests.get(url)\n",
    "AFX_2017_json = r.json()\n",
    "type(AFX_2017_json) # Check data type"
   ]
  },
  {
   "cell_type": "markdown",
   "metadata": {},
   "source": [
    "2. Convert the returned JSON object into a Python dictionary."
   ]
  },
  {
   "cell_type": "markdown",
   "metadata": {},
   "source": [
    "The file is already in a dictionary format as shown in line 33. However below, converted it to string and back to dict."
   ]
  },
  {
   "cell_type": "code",
   "execution_count": 187,
   "metadata": {},
   "outputs": [
    {
     "data": {
      "text/plain": [
       "str"
      ]
     },
     "execution_count": 187,
     "metadata": {},
     "output_type": "execute_result"
    }
   ],
   "source": [
    "#Convert to string\n",
    "AFX_2017_str = json.dumps(AFX_2017_json)\n",
    "type(AFX_2017_str)"
   ]
  },
  {
   "cell_type": "code",
   "execution_count": 188,
   "metadata": {},
   "outputs": [
    {
     "data": {
      "text/plain": [
       "dict"
      ]
     },
     "execution_count": 188,
     "metadata": {},
     "output_type": "execute_result"
    }
   ],
   "source": [
    "#Convert to python dictionary\n",
    "AFX_2017_dict = json.loads(AFX_2017_str)\n",
    "type(AFX_2017_dict)"
   ]
  },
  {
   "cell_type": "markdown",
   "metadata": {},
   "source": [
    "3. Calculate what the highest and lowest opening prices were for the stock in this period."
   ]
  },
  {
   "cell_type": "code",
   "execution_count": 190,
   "metadata": {},
   "outputs": [
    {
     "name": "stdout",
     "output_type": "stream",
     "text": [
      "255 is the number of elements in AFX opening price list total.\n",
      "252 is the number of elements in AFX opening price list after taking out None data.\n",
      "Highest opening price in 2017: $53.11\n",
      "Lowest opening price in 2017: $34.0\n"
     ]
    }
   ],
   "source": [
    "#Extract data dictionary which is a list of lists\n",
    "AFX_data = AFX_2017_dict['dataset_data']['data']\n",
    "#Check if there are none data types\n",
    "print(str(len(AFX_data_opening_1)) + \" is the number of elements in AFX opening price list total.\")\n",
    "print(str(len(AFX_data_opening)) + \" is the number of elements in AFX opening price list after taking out None data.\")\n",
    "\n",
    "#Create list AFX_data_opening containing all opening prices in 2017\n",
    "AFX_data_opening_1 = [sublist[1] for sublist in AFX_data]\n",
    "AFX_data_opening = [sublist[1] for sublist in AFX_data if sublist[1]!= None]\n",
    "\n",
    "#Find maximum and minimum values in AFX_data_opening which will be the highest and lowest list prices, respectively.\n",
    "print(\"Highest opening price in 2017: $\" + str(max(AFX_data_opening)))\n",
    "print(\"Lowest opening price in 2017: $\" + str(min(AFX_data_opening)))"
   ]
  },
  {
   "cell_type": "markdown",
   "metadata": {},
   "source": [
    "4. What was the largest change in any one day (based on High and Low price)?"
   ]
  },
  {
   "cell_type": "code",
   "execution_count": 191,
   "metadata": {},
   "outputs": [
    {
     "name": "stdout",
     "output_type": "stream",
     "text": [
      "Largest change in one day (based on high and low price): $ 2.81\n"
     ]
    }
   ],
   "source": [
    "#Calculate the difference in high and low price for each day in 2017\n",
    "AFX_day_delta = [abs(sublist[2] - sublist[3]) for sublist in AFX_data]\n",
    "#Format to two decimal places for each values\n",
    "AFX_day_delta = [\"% .2f\" % val for val in  AFX_day_delta]\n",
    "print(\"Largest change in one day (based on high and low price): $\" +str(max(AFX_day_delta)))"
   ]
  },
  {
   "cell_type": "markdown",
   "metadata": {},
   "source": [
    "5. What was the largest change between any two days (based on Closing Price)?"
   ]
  },
  {
   "cell_type": "code",
   "execution_count": 155,
   "metadata": {},
   "outputs": [
    {
     "name": "stdout",
     "output_type": "stream",
     "text": [
      "Largest change between two days (based on closing price): $ 2.56\n"
     ]
    }
   ],
   "source": [
    "#Filter closing price data only\n",
    "AFX_data_closing = [sublist[4] for sublist in AFX_data]\n",
    "#Initiate empty list to store delta values\n",
    "twoday_delta =[]\n",
    "#Use for loop to calculate delta between each day\n",
    "for i in range(len(AFX_data_closing)):\n",
    "    delta = abs(AFX_data_closing[i] - AFX_data_closing[i-1])\n",
    "    twoday_delta.append(delta)\n",
    "#Sort deltas from highest to lowest\n",
    "AFX_twoday_delta = sorted(twoday_delta, reverse = True)\n",
    "#Format deltas to two decimal places\n",
    "AFX_twoday_delta = [\"% .2f\"  % val for val in AFX_twoday_delta]\n",
    "#Select highest delta that is NOT the first value; first value is delta between the start and end of the year.\n",
    "print(\"Largest change between two days (based on closing price): $\" + str(AFX_twoday_delta[1]))"
   ]
  },
  {
   "cell_type": "markdown",
   "metadata": {},
   "source": [
    "6. What was the average daily trading volume during this year?"
   ]
  },
  {
   "cell_type": "code",
   "execution_count": 163,
   "metadata": {},
   "outputs": [
    {
     "name": "stdout",
     "output_type": "stream",
     "text": [
      "The average daily traded volume for AFX in 2017 was: 89124 shares.\n"
     ]
    }
   ],
   "source": [
    "#Filter trading volume data only\n",
    "AFX_traded_volume = [sublist[6] for sublist in AFX_data]\n",
    "#Calculate average over the whole year\n",
    "ave_traded_vol = round(sum(AFX_traded_volume)/len(AFX_traded_volume))\n",
    "print(\"The average daily traded volume for AFX in 2017 was: \" + str(ave_traded_vol) + \" shares.\")"
   ]
  },
  {
   "cell_type": "markdown",
   "metadata": {},
   "source": [
    "7. (Optional) What was the median trading volume during this year. (Note: you may need to implement your own function for calculating the median.)"
   ]
  },
  {
   "cell_type": "code",
   "execution_count": 173,
   "metadata": {},
   "outputs": [
    {
     "name": "stdout",
     "output_type": "stream",
     "text": [
      "The meidan trading volume for AFX in 2017 was: 76600.0 shares.\n"
     ]
    }
   ],
   "source": [
    "#Filter the trading volume only\n",
    "AFX_traded_volume = [sublist[6] for sublist in AFX_data]\n",
    "#Sort the trading volume \n",
    "AFX_traded_volume_sorted = sorted(AFX_traded_volume)\n",
    "#Filter out any None values (if any)\n",
    "AFX_vol_srt_flt = [val for val in AFX_traded_volume_sorted if val != None]\n",
    "#Calculate median based on if length of the filtered list AFX_vol_srt_flt is even or odd\n",
    "if len(AFX_vol_srt_flt) % 2 == 0:\n",
    "    midpoint = len(AFX_vol_srt_flt)/2\n",
    "    median = (AFX_vol_srt_flt[midpoint] + AFX_vol_srt_flt[midpoint + 1])/2\n",
    "else:\n",
    "    midpoint = round(len(AFX_vol_srt_flt)/2)\n",
    "    median = AFX_vol_srt_flt[midpoint]\n",
    "print(\"The meidan trading volume for AFX in 2017 was: \" + str(median) + \" shares.\")"
   ]
  },
  {
   "cell_type": "code",
   "execution_count": null,
   "metadata": {},
   "outputs": [],
   "source": []
  }
 ],
 "metadata": {
  "interpreter": {
   "hash": "7635eb1b9d0fe97add78a7368b6b431c09bb8ad5c42e437d64abdd99821c31ae"
  },
  "kernelspec": {
   "display_name": "Python 3 (ipykernel)",
   "language": "python",
   "name": "python3"
  },
  "language_info": {
   "codemirror_mode": {
    "name": "ipython",
    "version": 3
   },
   "file_extension": ".py",
   "mimetype": "text/x-python",
   "name": "python",
   "nbconvert_exporter": "python",
   "pygments_lexer": "ipython3",
   "version": "3.10.9"
  }
 },
 "nbformat": 4,
 "nbformat_minor": 4
}
