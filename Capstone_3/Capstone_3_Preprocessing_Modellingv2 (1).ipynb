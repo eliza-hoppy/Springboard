{
  "nbformat": 4,
  "nbformat_minor": 0,
  "metadata": {
    "colab": {
      "provenance": []
    },
    "kernelspec": {
      "name": "python3",
      "display_name": "Python 3"
    },
    "language_info": {
      "name": "python"
    }
  },
  "cells": [
    {
      "cell_type": "markdown",
      "source": [
        "#**Preprocessing and Modeling**\n",
        "\n",
        "The project seeks to build a model to predict Starbucks customers' sentiment based on reviews between 2000-2023. This model can be used to track sentiment of customers toward Starbucks as the new CEO, Brian Niccols, begins to implementnew strategies to grow the company.\n",
        "\n",
        "In this notebook, we will process the reviews dataframe and build 3 kinds of neural network models.\n",
        "\n",
        "The models will be:\n",
        "\n",
        "\n",
        "*   Simple Recurrent Neural Network Model\n",
        "*   Long-Short Term Memory Model\n",
        "*   Transfer Learning-based Model\n",
        "\n",
        "The models will be evaluated based on accuracy, loss and receiver operatore characterstics (ROC) curve. Finally, hyperparameter tuning will be performed on the best performing model.\n",
        "\n",
        "\n",
        "\n"
      ],
      "metadata": {
        "id": "fxZxpq-9fPFs"
      }
    },
    {
      "cell_type": "markdown",
      "source": [
        "## Import Pacakges\n",
        "\n",
        "Relevant packages were transformed and imported. These included tensorforflow and keras related packages, text processing, visualization and scikit learn packages.\n",
        "\n",
        "Specific versions of tensorflow, tensorflow-text and tensorflow_hub were installed to support the building a model that combined an LSTM model with  a BERT model within Keras."
      ],
      "metadata": {
        "id": "ueyi58LDftuQ"
      }
    },
    {
      "cell_type": "code",
      "source": [
        "# Install pacakges.\n",
        "! pip install contractions\n",
        "! pip install transformers\n",
        "! pip install tensorflow == 2.15.1\n",
        "! pip install tensorflow-text==2.15.0\n",
        "! pip install tensorflow_hub==0.16.1\n",
        "! pip install keras-tuner\n",
        "! pip install watermark"
      ],
      "metadata": {
        "colab": {
          "base_uri": "https://localhost:8080/"
        },
        "id": "k1yCzE_BKCD5",
        "outputId": "282e8cc2-88c2-469d-bca2-6ae04b364265"
      },
      "execution_count": 1,
      "outputs": [
        {
          "output_type": "stream",
          "name": "stdout",
          "text": [
            "Collecting contractions\n",
            "  Downloading contractions-0.1.73-py2.py3-none-any.whl.metadata (1.2 kB)\n",
            "Collecting textsearch>=0.0.21 (from contractions)\n",
            "  Downloading textsearch-0.0.24-py2.py3-none-any.whl.metadata (1.2 kB)\n",
            "Collecting anyascii (from textsearch>=0.0.21->contractions)\n",
            "  Downloading anyascii-0.3.2-py3-none-any.whl.metadata (1.5 kB)\n",
            "Collecting pyahocorasick (from textsearch>=0.0.21->contractions)\n",
            "  Downloading pyahocorasick-2.1.0-cp310-cp310-manylinux_2_5_x86_64.manylinux1_x86_64.manylinux_2_12_x86_64.manylinux2010_x86_64.whl.metadata (13 kB)\n",
            "Downloading contractions-0.1.73-py2.py3-none-any.whl (8.7 kB)\n",
            "Downloading textsearch-0.0.24-py2.py3-none-any.whl (7.6 kB)\n",
            "Downloading anyascii-0.3.2-py3-none-any.whl (289 kB)\n",
            "\u001b[2K   \u001b[90m━━━━━━━━━━━━━━━━━━━━━━━━━━━━━━━━━━━━━━━━\u001b[0m \u001b[32m289.9/289.9 kB\u001b[0m \u001b[31m11.5 MB/s\u001b[0m eta \u001b[36m0:00:00\u001b[0m\n",
            "\u001b[?25hDownloading pyahocorasick-2.1.0-cp310-cp310-manylinux_2_5_x86_64.manylinux1_x86_64.manylinux_2_12_x86_64.manylinux2010_x86_64.whl (110 kB)\n",
            "\u001b[2K   \u001b[90m━━━━━━━━━━━━━━━━━━━━━━━━━━━━━━━━━━━━━━━━\u001b[0m \u001b[32m110.7/110.7 kB\u001b[0m \u001b[31m8.7 MB/s\u001b[0m eta \u001b[36m0:00:00\u001b[0m\n",
            "\u001b[?25hInstalling collected packages: pyahocorasick, anyascii, textsearch, contractions\n",
            "Successfully installed anyascii-0.3.2 contractions-0.1.73 pyahocorasick-2.1.0 textsearch-0.0.24\n",
            "Requirement already satisfied: transformers in /usr/local/lib/python3.10/dist-packages (4.44.2)\n",
            "Requirement already satisfied: filelock in /usr/local/lib/python3.10/dist-packages (from transformers) (3.16.1)\n",
            "Requirement already satisfied: huggingface-hub<1.0,>=0.23.2 in /usr/local/lib/python3.10/dist-packages (from transformers) (0.24.7)\n",
            "Requirement already satisfied: numpy>=1.17 in /usr/local/lib/python3.10/dist-packages (from transformers) (1.26.4)\n",
            "Requirement already satisfied: packaging>=20.0 in /usr/local/lib/python3.10/dist-packages (from transformers) (24.1)\n",
            "Requirement already satisfied: pyyaml>=5.1 in /usr/local/lib/python3.10/dist-packages (from transformers) (6.0.2)\n",
            "Requirement already satisfied: regex!=2019.12.17 in /usr/local/lib/python3.10/dist-packages (from transformers) (2024.9.11)\n",
            "Requirement already satisfied: requests in /usr/local/lib/python3.10/dist-packages (from transformers) (2.32.3)\n",
            "Requirement already satisfied: safetensors>=0.4.1 in /usr/local/lib/python3.10/dist-packages (from transformers) (0.4.5)\n",
            "Requirement already satisfied: tokenizers<0.20,>=0.19 in /usr/local/lib/python3.10/dist-packages (from transformers) (0.19.1)\n",
            "Requirement already satisfied: tqdm>=4.27 in /usr/local/lib/python3.10/dist-packages (from transformers) (4.66.5)\n",
            "Requirement already satisfied: fsspec>=2023.5.0 in /usr/local/lib/python3.10/dist-packages (from huggingface-hub<1.0,>=0.23.2->transformers) (2024.6.1)\n",
            "Requirement already satisfied: typing-extensions>=3.7.4.3 in /usr/local/lib/python3.10/dist-packages (from huggingface-hub<1.0,>=0.23.2->transformers) (4.12.2)\n",
            "Requirement already satisfied: charset-normalizer<4,>=2 in /usr/local/lib/python3.10/dist-packages (from requests->transformers) (3.3.2)\n",
            "Requirement already satisfied: idna<4,>=2.5 in /usr/local/lib/python3.10/dist-packages (from requests->transformers) (3.10)\n",
            "Requirement already satisfied: urllib3<3,>=1.21.1 in /usr/local/lib/python3.10/dist-packages (from requests->transformers) (2.2.3)\n",
            "Requirement already satisfied: certifi>=2017.4.17 in /usr/local/lib/python3.10/dist-packages (from requests->transformers) (2024.8.30)\n",
            "\u001b[31mERROR: Invalid requirement: '==': Expected package name at the start of dependency specifier\n",
            "    ==\n",
            "    ^\u001b[0m\u001b[31m\n",
            "\u001b[0mCollecting tensorflow-text==2.15.0\n",
            "  Downloading tensorflow_text-2.15.0-cp310-cp310-manylinux_2_17_x86_64.manylinux2014_x86_64.whl.metadata (1.9 kB)\n",
            "Requirement already satisfied: tensorflow-hub>=0.13.0 in /usr/local/lib/python3.10/dist-packages (from tensorflow-text==2.15.0) (0.16.1)\n",
            "Collecting tensorflow<2.16,>=2.15.0 (from tensorflow-text==2.15.0)\n",
            "  Downloading tensorflow-2.15.1-cp310-cp310-manylinux_2_17_x86_64.manylinux2014_x86_64.whl.metadata (4.2 kB)\n",
            "Requirement already satisfied: absl-py>=1.0.0 in /usr/local/lib/python3.10/dist-packages (from tensorflow<2.16,>=2.15.0->tensorflow-text==2.15.0) (1.4.0)\n",
            "Requirement already satisfied: astunparse>=1.6.0 in /usr/local/lib/python3.10/dist-packages (from tensorflow<2.16,>=2.15.0->tensorflow-text==2.15.0) (1.6.3)\n",
            "Requirement already satisfied: flatbuffers>=23.5.26 in /usr/local/lib/python3.10/dist-packages (from tensorflow<2.16,>=2.15.0->tensorflow-text==2.15.0) (24.3.25)\n",
            "Requirement already satisfied: gast!=0.5.0,!=0.5.1,!=0.5.2,>=0.2.1 in /usr/local/lib/python3.10/dist-packages (from tensorflow<2.16,>=2.15.0->tensorflow-text==2.15.0) (0.6.0)\n",
            "Requirement already satisfied: google-pasta>=0.1.1 in /usr/local/lib/python3.10/dist-packages (from tensorflow<2.16,>=2.15.0->tensorflow-text==2.15.0) (0.2.0)\n",
            "Requirement already satisfied: h5py>=2.9.0 in /usr/local/lib/python3.10/dist-packages (from tensorflow<2.16,>=2.15.0->tensorflow-text==2.15.0) (3.11.0)\n",
            "Requirement already satisfied: libclang>=13.0.0 in /usr/local/lib/python3.10/dist-packages (from tensorflow<2.16,>=2.15.0->tensorflow-text==2.15.0) (18.1.1)\n",
            "Collecting ml-dtypes~=0.3.1 (from tensorflow<2.16,>=2.15.0->tensorflow-text==2.15.0)\n",
            "  Downloading ml_dtypes-0.3.2-cp310-cp310-manylinux_2_17_x86_64.manylinux2014_x86_64.whl.metadata (20 kB)\n",
            "Requirement already satisfied: numpy<2.0.0,>=1.23.5 in /usr/local/lib/python3.10/dist-packages (from tensorflow<2.16,>=2.15.0->tensorflow-text==2.15.0) (1.26.4)\n",
            "Requirement already satisfied: opt-einsum>=2.3.2 in /usr/local/lib/python3.10/dist-packages (from tensorflow<2.16,>=2.15.0->tensorflow-text==2.15.0) (3.4.0)\n",
            "Requirement already satisfied: packaging in /usr/local/lib/python3.10/dist-packages (from tensorflow<2.16,>=2.15.0->tensorflow-text==2.15.0) (24.1)\n",
            "Requirement already satisfied: protobuf!=4.21.0,!=4.21.1,!=4.21.2,!=4.21.3,!=4.21.4,!=4.21.5,<5.0.0dev,>=3.20.3 in /usr/local/lib/python3.10/dist-packages (from tensorflow<2.16,>=2.15.0->tensorflow-text==2.15.0) (3.20.3)\n",
            "Requirement already satisfied: setuptools in /usr/local/lib/python3.10/dist-packages (from tensorflow<2.16,>=2.15.0->tensorflow-text==2.15.0) (71.0.4)\n",
            "Requirement already satisfied: six>=1.12.0 in /usr/local/lib/python3.10/dist-packages (from tensorflow<2.16,>=2.15.0->tensorflow-text==2.15.0) (1.16.0)\n",
            "Requirement already satisfied: termcolor>=1.1.0 in /usr/local/lib/python3.10/dist-packages (from tensorflow<2.16,>=2.15.0->tensorflow-text==2.15.0) (2.5.0)\n",
            "Requirement already satisfied: typing-extensions>=3.6.6 in /usr/local/lib/python3.10/dist-packages (from tensorflow<2.16,>=2.15.0->tensorflow-text==2.15.0) (4.12.2)\n",
            "Collecting wrapt<1.15,>=1.11.0 (from tensorflow<2.16,>=2.15.0->tensorflow-text==2.15.0)\n",
            "  Downloading wrapt-1.14.1-cp310-cp310-manylinux_2_5_x86_64.manylinux1_x86_64.manylinux_2_17_x86_64.manylinux2014_x86_64.whl.metadata (6.7 kB)\n",
            "Requirement already satisfied: tensorflow-io-gcs-filesystem>=0.23.1 in /usr/local/lib/python3.10/dist-packages (from tensorflow<2.16,>=2.15.0->tensorflow-text==2.15.0) (0.37.1)\n",
            "Requirement already satisfied: grpcio<2.0,>=1.24.3 in /usr/local/lib/python3.10/dist-packages (from tensorflow<2.16,>=2.15.0->tensorflow-text==2.15.0) (1.64.1)\n",
            "Collecting tensorboard<2.16,>=2.15 (from tensorflow<2.16,>=2.15.0->tensorflow-text==2.15.0)\n",
            "  Downloading tensorboard-2.15.2-py3-none-any.whl.metadata (1.7 kB)\n",
            "Collecting tensorflow-estimator<2.16,>=2.15.0 (from tensorflow<2.16,>=2.15.0->tensorflow-text==2.15.0)\n",
            "  Downloading tensorflow_estimator-2.15.0-py2.py3-none-any.whl.metadata (1.3 kB)\n",
            "Collecting keras<2.16,>=2.15.0 (from tensorflow<2.16,>=2.15.0->tensorflow-text==2.15.0)\n",
            "  Downloading keras-2.15.0-py3-none-any.whl.metadata (2.4 kB)\n",
            "Requirement already satisfied: tf-keras>=2.14.1 in /usr/local/lib/python3.10/dist-packages (from tensorflow-hub>=0.13.0->tensorflow-text==2.15.0) (2.17.0)\n",
            "Requirement already satisfied: wheel<1.0,>=0.23.0 in /usr/local/lib/python3.10/dist-packages (from astunparse>=1.6.0->tensorflow<2.16,>=2.15.0->tensorflow-text==2.15.0) (0.44.0)\n",
            "Requirement already satisfied: google-auth<3,>=1.6.3 in /usr/local/lib/python3.10/dist-packages (from tensorboard<2.16,>=2.15->tensorflow<2.16,>=2.15.0->tensorflow-text==2.15.0) (2.27.0)\n",
            "Requirement already satisfied: google-auth-oauthlib<2,>=0.5 in /usr/local/lib/python3.10/dist-packages (from tensorboard<2.16,>=2.15->tensorflow<2.16,>=2.15.0->tensorflow-text==2.15.0) (1.2.1)\n",
            "Requirement already satisfied: markdown>=2.6.8 in /usr/local/lib/python3.10/dist-packages (from tensorboard<2.16,>=2.15->tensorflow<2.16,>=2.15.0->tensorflow-text==2.15.0) (3.7)\n",
            "Requirement already satisfied: requests<3,>=2.21.0 in /usr/local/lib/python3.10/dist-packages (from tensorboard<2.16,>=2.15->tensorflow<2.16,>=2.15.0->tensorflow-text==2.15.0) (2.32.3)\n",
            "Requirement already satisfied: tensorboard-data-server<0.8.0,>=0.7.0 in /usr/local/lib/python3.10/dist-packages (from tensorboard<2.16,>=2.15->tensorflow<2.16,>=2.15.0->tensorflow-text==2.15.0) (0.7.2)\n",
            "Requirement already satisfied: werkzeug>=1.0.1 in /usr/local/lib/python3.10/dist-packages (from tensorboard<2.16,>=2.15->tensorflow<2.16,>=2.15.0->tensorflow-text==2.15.0) (3.0.4)\n",
            "INFO: pip is looking at multiple versions of tf-keras to determine which version is compatible with other requirements. This could take a while.\n",
            "Collecting tf-keras>=2.14.1 (from tensorflow-hub>=0.13.0->tensorflow-text==2.15.0)\n",
            "  Downloading tf_keras-2.16.0-py3-none-any.whl.metadata (1.6 kB)\n",
            "  Downloading tf_keras-2.15.1-py3-none-any.whl.metadata (1.7 kB)\n",
            "Requirement already satisfied: cachetools<6.0,>=2.0.0 in /usr/local/lib/python3.10/dist-packages (from google-auth<3,>=1.6.3->tensorboard<2.16,>=2.15->tensorflow<2.16,>=2.15.0->tensorflow-text==2.15.0) (5.5.0)\n",
            "Requirement already satisfied: pyasn1-modules>=0.2.1 in /usr/local/lib/python3.10/dist-packages (from google-auth<3,>=1.6.3->tensorboard<2.16,>=2.15->tensorflow<2.16,>=2.15.0->tensorflow-text==2.15.0) (0.4.1)\n",
            "Requirement already satisfied: rsa<5,>=3.1.4 in /usr/local/lib/python3.10/dist-packages (from google-auth<3,>=1.6.3->tensorboard<2.16,>=2.15->tensorflow<2.16,>=2.15.0->tensorflow-text==2.15.0) (4.9)\n",
            "Requirement already satisfied: requests-oauthlib>=0.7.0 in /usr/local/lib/python3.10/dist-packages (from google-auth-oauthlib<2,>=0.5->tensorboard<2.16,>=2.15->tensorflow<2.16,>=2.15.0->tensorflow-text==2.15.0) (1.3.1)\n",
            "Requirement already satisfied: charset-normalizer<4,>=2 in /usr/local/lib/python3.10/dist-packages (from requests<3,>=2.21.0->tensorboard<2.16,>=2.15->tensorflow<2.16,>=2.15.0->tensorflow-text==2.15.0) (3.3.2)\n",
            "Requirement already satisfied: idna<4,>=2.5 in /usr/local/lib/python3.10/dist-packages (from requests<3,>=2.21.0->tensorboard<2.16,>=2.15->tensorflow<2.16,>=2.15.0->tensorflow-text==2.15.0) (3.10)\n",
            "Requirement already satisfied: urllib3<3,>=1.21.1 in /usr/local/lib/python3.10/dist-packages (from requests<3,>=2.21.0->tensorboard<2.16,>=2.15->tensorflow<2.16,>=2.15.0->tensorflow-text==2.15.0) (2.2.3)\n",
            "Requirement already satisfied: certifi>=2017.4.17 in /usr/local/lib/python3.10/dist-packages (from requests<3,>=2.21.0->tensorboard<2.16,>=2.15->tensorflow<2.16,>=2.15.0->tensorflow-text==2.15.0) (2024.8.30)\n",
            "Requirement already satisfied: MarkupSafe>=2.1.1 in /usr/local/lib/python3.10/dist-packages (from werkzeug>=1.0.1->tensorboard<2.16,>=2.15->tensorflow<2.16,>=2.15.0->tensorflow-text==2.15.0) (2.1.5)\n",
            "Requirement already satisfied: pyasn1<0.7.0,>=0.4.6 in /usr/local/lib/python3.10/dist-packages (from pyasn1-modules>=0.2.1->google-auth<3,>=1.6.3->tensorboard<2.16,>=2.15->tensorflow<2.16,>=2.15.0->tensorflow-text==2.15.0) (0.6.1)\n",
            "Requirement already satisfied: oauthlib>=3.0.0 in /usr/local/lib/python3.10/dist-packages (from requests-oauthlib>=0.7.0->google-auth-oauthlib<2,>=0.5->tensorboard<2.16,>=2.15->tensorflow<2.16,>=2.15.0->tensorflow-text==2.15.0) (3.2.2)\n",
            "Downloading tensorflow_text-2.15.0-cp310-cp310-manylinux_2_17_x86_64.manylinux2014_x86_64.whl (5.2 MB)\n",
            "\u001b[2K   \u001b[90m━━━━━━━━━━━━━━━━━━━━━━━━━━━━━━━━━━━━━━━━\u001b[0m \u001b[32m5.2/5.2 MB\u001b[0m \u001b[31m58.9 MB/s\u001b[0m eta \u001b[36m0:00:00\u001b[0m\n",
            "\u001b[?25hDownloading tensorflow-2.15.1-cp310-cp310-manylinux_2_17_x86_64.manylinux2014_x86_64.whl (475.2 MB)\n",
            "\u001b[2K   \u001b[90m━━━━━━━━━━━━━━━━━━━━━━━━━━━━━━━━━━━━━━━━\u001b[0m \u001b[32m475.2/475.2 MB\u001b[0m \u001b[31m3.4 MB/s\u001b[0m eta \u001b[36m0:00:00\u001b[0m\n",
            "\u001b[?25hDownloading keras-2.15.0-py3-none-any.whl (1.7 MB)\n",
            "\u001b[2K   \u001b[90m━━━━━━━━━━━━━━━━━━━━━━━━━━━━━━━━━━━━━━━━\u001b[0m \u001b[32m1.7/1.7 MB\u001b[0m \u001b[31m60.0 MB/s\u001b[0m eta \u001b[36m0:00:00\u001b[0m\n",
            "\u001b[?25hDownloading ml_dtypes-0.3.2-cp310-cp310-manylinux_2_17_x86_64.manylinux2014_x86_64.whl (2.2 MB)\n",
            "\u001b[2K   \u001b[90m━━━━━━━━━━━━━━━━━━━━━━━━━━━━━━━━━━━━━━━━\u001b[0m \u001b[32m2.2/2.2 MB\u001b[0m \u001b[31m69.2 MB/s\u001b[0m eta \u001b[36m0:00:00\u001b[0m\n",
            "\u001b[?25hDownloading tensorboard-2.15.2-py3-none-any.whl (5.5 MB)\n",
            "\u001b[2K   \u001b[90m━━━━━━━━━━━━━━━━━━━━━━━━━━━━━━━━━━━━━━━━\u001b[0m \u001b[32m5.5/5.5 MB\u001b[0m \u001b[31m91.1 MB/s\u001b[0m eta \u001b[36m0:00:00\u001b[0m\n",
            "\u001b[?25hDownloading tensorflow_estimator-2.15.0-py2.py3-none-any.whl (441 kB)\n",
            "\u001b[2K   \u001b[90m━━━━━━━━━━━━━━━━━━━━━━━━━━━━━━━━━━━━━━━━\u001b[0m \u001b[32m442.0/442.0 kB\u001b[0m \u001b[31m23.6 MB/s\u001b[0m eta \u001b[36m0:00:00\u001b[0m\n",
            "\u001b[?25hDownloading tf_keras-2.15.1-py3-none-any.whl (1.7 MB)\n",
            "\u001b[2K   \u001b[90m━━━━━━━━━━━━━━━━━━━━━━━━━━━━━━━━━━━━━━━━\u001b[0m \u001b[32m1.7/1.7 MB\u001b[0m \u001b[31m58.9 MB/s\u001b[0m eta \u001b[36m0:00:00\u001b[0m\n",
            "\u001b[?25hDownloading wrapt-1.14.1-cp310-cp310-manylinux_2_5_x86_64.manylinux1_x86_64.manylinux_2_17_x86_64.manylinux2014_x86_64.whl (77 kB)\n",
            "\u001b[2K   \u001b[90m━━━━━━━━━━━━━━━━━━━━━━━━━━━━━━━━━━━━━━━━\u001b[0m \u001b[32m77.9/77.9 kB\u001b[0m \u001b[31m5.6 MB/s\u001b[0m eta \u001b[36m0:00:00\u001b[0m\n",
            "\u001b[?25hInstalling collected packages: wrapt, tensorflow-estimator, ml-dtypes, keras, tensorboard, tensorflow, tf-keras, tensorflow-text\n",
            "  Attempting uninstall: wrapt\n",
            "    Found existing installation: wrapt 1.16.0\n",
            "    Uninstalling wrapt-1.16.0:\n",
            "      Successfully uninstalled wrapt-1.16.0\n",
            "  Attempting uninstall: ml-dtypes\n",
            "    Found existing installation: ml-dtypes 0.4.1\n",
            "    Uninstalling ml-dtypes-0.4.1:\n",
            "      Successfully uninstalled ml-dtypes-0.4.1\n",
            "  Attempting uninstall: keras\n",
            "    Found existing installation: keras 3.4.1\n",
            "    Uninstalling keras-3.4.1:\n",
            "      Successfully uninstalled keras-3.4.1\n",
            "  Attempting uninstall: tensorboard\n",
            "    Found existing installation: tensorboard 2.17.0\n",
            "    Uninstalling tensorboard-2.17.0:\n",
            "      Successfully uninstalled tensorboard-2.17.0\n",
            "  Attempting uninstall: tensorflow\n",
            "    Found existing installation: tensorflow 2.17.0\n",
            "    Uninstalling tensorflow-2.17.0:\n",
            "      Successfully uninstalled tensorflow-2.17.0\n",
            "  Attempting uninstall: tf-keras\n",
            "    Found existing installation: tf_keras 2.17.0\n",
            "    Uninstalling tf_keras-2.17.0:\n",
            "      Successfully uninstalled tf_keras-2.17.0\n",
            "Successfully installed keras-2.15.0 ml-dtypes-0.3.2 tensorboard-2.15.2 tensorflow-2.15.1 tensorflow-estimator-2.15.0 tensorflow-text-2.15.0 tf-keras-2.15.1 wrapt-1.14.1\n",
            "Requirement already satisfied: tensorflow_hub==0.16.1 in /usr/local/lib/python3.10/dist-packages (0.16.1)\n",
            "Requirement already satisfied: numpy>=1.12.0 in /usr/local/lib/python3.10/dist-packages (from tensorflow_hub==0.16.1) (1.26.4)\n",
            "Requirement already satisfied: protobuf>=3.19.6 in /usr/local/lib/python3.10/dist-packages (from tensorflow_hub==0.16.1) (3.20.3)\n",
            "Requirement already satisfied: tf-keras>=2.14.1 in /usr/local/lib/python3.10/dist-packages (from tensorflow_hub==0.16.1) (2.15.1)\n",
            "Requirement already satisfied: tensorflow<2.16,>=2.15 in /usr/local/lib/python3.10/dist-packages (from tf-keras>=2.14.1->tensorflow_hub==0.16.1) (2.15.1)\n",
            "Requirement already satisfied: absl-py>=1.0.0 in /usr/local/lib/python3.10/dist-packages (from tensorflow<2.16,>=2.15->tf-keras>=2.14.1->tensorflow_hub==0.16.1) (1.4.0)\n",
            "Requirement already satisfied: astunparse>=1.6.0 in /usr/local/lib/python3.10/dist-packages (from tensorflow<2.16,>=2.15->tf-keras>=2.14.1->tensorflow_hub==0.16.1) (1.6.3)\n",
            "Requirement already satisfied: flatbuffers>=23.5.26 in /usr/local/lib/python3.10/dist-packages (from tensorflow<2.16,>=2.15->tf-keras>=2.14.1->tensorflow_hub==0.16.1) (24.3.25)\n",
            "Requirement already satisfied: gast!=0.5.0,!=0.5.1,!=0.5.2,>=0.2.1 in /usr/local/lib/python3.10/dist-packages (from tensorflow<2.16,>=2.15->tf-keras>=2.14.1->tensorflow_hub==0.16.1) (0.6.0)\n",
            "Requirement already satisfied: google-pasta>=0.1.1 in /usr/local/lib/python3.10/dist-packages (from tensorflow<2.16,>=2.15->tf-keras>=2.14.1->tensorflow_hub==0.16.1) (0.2.0)\n",
            "Requirement already satisfied: h5py>=2.9.0 in /usr/local/lib/python3.10/dist-packages (from tensorflow<2.16,>=2.15->tf-keras>=2.14.1->tensorflow_hub==0.16.1) (3.11.0)\n",
            "Requirement already satisfied: libclang>=13.0.0 in /usr/local/lib/python3.10/dist-packages (from tensorflow<2.16,>=2.15->tf-keras>=2.14.1->tensorflow_hub==0.16.1) (18.1.1)\n",
            "Requirement already satisfied: ml-dtypes~=0.3.1 in /usr/local/lib/python3.10/dist-packages (from tensorflow<2.16,>=2.15->tf-keras>=2.14.1->tensorflow_hub==0.16.1) (0.3.2)\n",
            "Requirement already satisfied: opt-einsum>=2.3.2 in /usr/local/lib/python3.10/dist-packages (from tensorflow<2.16,>=2.15->tf-keras>=2.14.1->tensorflow_hub==0.16.1) (3.4.0)\n",
            "Requirement already satisfied: packaging in /usr/local/lib/python3.10/dist-packages (from tensorflow<2.16,>=2.15->tf-keras>=2.14.1->tensorflow_hub==0.16.1) (24.1)\n",
            "Requirement already satisfied: setuptools in /usr/local/lib/python3.10/dist-packages (from tensorflow<2.16,>=2.15->tf-keras>=2.14.1->tensorflow_hub==0.16.1) (71.0.4)\n",
            "Requirement already satisfied: six>=1.12.0 in /usr/local/lib/python3.10/dist-packages (from tensorflow<2.16,>=2.15->tf-keras>=2.14.1->tensorflow_hub==0.16.1) (1.16.0)\n",
            "Requirement already satisfied: termcolor>=1.1.0 in /usr/local/lib/python3.10/dist-packages (from tensorflow<2.16,>=2.15->tf-keras>=2.14.1->tensorflow_hub==0.16.1) (2.5.0)\n",
            "Requirement already satisfied: typing-extensions>=3.6.6 in /usr/local/lib/python3.10/dist-packages (from tensorflow<2.16,>=2.15->tf-keras>=2.14.1->tensorflow_hub==0.16.1) (4.12.2)\n",
            "Requirement already satisfied: wrapt<1.15,>=1.11.0 in /usr/local/lib/python3.10/dist-packages (from tensorflow<2.16,>=2.15->tf-keras>=2.14.1->tensorflow_hub==0.16.1) (1.14.1)\n",
            "Requirement already satisfied: tensorflow-io-gcs-filesystem>=0.23.1 in /usr/local/lib/python3.10/dist-packages (from tensorflow<2.16,>=2.15->tf-keras>=2.14.1->tensorflow_hub==0.16.1) (0.37.1)\n",
            "Requirement already satisfied: grpcio<2.0,>=1.24.3 in /usr/local/lib/python3.10/dist-packages (from tensorflow<2.16,>=2.15->tf-keras>=2.14.1->tensorflow_hub==0.16.1) (1.64.1)\n",
            "Requirement already satisfied: tensorboard<2.16,>=2.15 in /usr/local/lib/python3.10/dist-packages (from tensorflow<2.16,>=2.15->tf-keras>=2.14.1->tensorflow_hub==0.16.1) (2.15.2)\n",
            "Requirement already satisfied: tensorflow-estimator<2.16,>=2.15.0 in /usr/local/lib/python3.10/dist-packages (from tensorflow<2.16,>=2.15->tf-keras>=2.14.1->tensorflow_hub==0.16.1) (2.15.0)\n",
            "Requirement already satisfied: keras<2.16,>=2.15.0 in /usr/local/lib/python3.10/dist-packages (from tensorflow<2.16,>=2.15->tf-keras>=2.14.1->tensorflow_hub==0.16.1) (2.15.0)\n",
            "Requirement already satisfied: wheel<1.0,>=0.23.0 in /usr/local/lib/python3.10/dist-packages (from astunparse>=1.6.0->tensorflow<2.16,>=2.15->tf-keras>=2.14.1->tensorflow_hub==0.16.1) (0.44.0)\n",
            "Requirement already satisfied: google-auth<3,>=1.6.3 in /usr/local/lib/python3.10/dist-packages (from tensorboard<2.16,>=2.15->tensorflow<2.16,>=2.15->tf-keras>=2.14.1->tensorflow_hub==0.16.1) (2.27.0)\n",
            "Requirement already satisfied: google-auth-oauthlib<2,>=0.5 in /usr/local/lib/python3.10/dist-packages (from tensorboard<2.16,>=2.15->tensorflow<2.16,>=2.15->tf-keras>=2.14.1->tensorflow_hub==0.16.1) (1.2.1)\n",
            "Requirement already satisfied: markdown>=2.6.8 in /usr/local/lib/python3.10/dist-packages (from tensorboard<2.16,>=2.15->tensorflow<2.16,>=2.15->tf-keras>=2.14.1->tensorflow_hub==0.16.1) (3.7)\n",
            "Requirement already satisfied: requests<3,>=2.21.0 in /usr/local/lib/python3.10/dist-packages (from tensorboard<2.16,>=2.15->tensorflow<2.16,>=2.15->tf-keras>=2.14.1->tensorflow_hub==0.16.1) (2.32.3)\n",
            "Requirement already satisfied: tensorboard-data-server<0.8.0,>=0.7.0 in /usr/local/lib/python3.10/dist-packages (from tensorboard<2.16,>=2.15->tensorflow<2.16,>=2.15->tf-keras>=2.14.1->tensorflow_hub==0.16.1) (0.7.2)\n",
            "Requirement already satisfied: werkzeug>=1.0.1 in /usr/local/lib/python3.10/dist-packages (from tensorboard<2.16,>=2.15->tensorflow<2.16,>=2.15->tf-keras>=2.14.1->tensorflow_hub==0.16.1) (3.0.4)\n",
            "Requirement already satisfied: cachetools<6.0,>=2.0.0 in /usr/local/lib/python3.10/dist-packages (from google-auth<3,>=1.6.3->tensorboard<2.16,>=2.15->tensorflow<2.16,>=2.15->tf-keras>=2.14.1->tensorflow_hub==0.16.1) (5.5.0)\n",
            "Requirement already satisfied: pyasn1-modules>=0.2.1 in /usr/local/lib/python3.10/dist-packages (from google-auth<3,>=1.6.3->tensorboard<2.16,>=2.15->tensorflow<2.16,>=2.15->tf-keras>=2.14.1->tensorflow_hub==0.16.1) (0.4.1)\n",
            "Requirement already satisfied: rsa<5,>=3.1.4 in /usr/local/lib/python3.10/dist-packages (from google-auth<3,>=1.6.3->tensorboard<2.16,>=2.15->tensorflow<2.16,>=2.15->tf-keras>=2.14.1->tensorflow_hub==0.16.1) (4.9)\n",
            "Requirement already satisfied: requests-oauthlib>=0.7.0 in /usr/local/lib/python3.10/dist-packages (from google-auth-oauthlib<2,>=0.5->tensorboard<2.16,>=2.15->tensorflow<2.16,>=2.15->tf-keras>=2.14.1->tensorflow_hub==0.16.1) (1.3.1)\n",
            "Requirement already satisfied: charset-normalizer<4,>=2 in /usr/local/lib/python3.10/dist-packages (from requests<3,>=2.21.0->tensorboard<2.16,>=2.15->tensorflow<2.16,>=2.15->tf-keras>=2.14.1->tensorflow_hub==0.16.1) (3.3.2)\n",
            "Requirement already satisfied: idna<4,>=2.5 in /usr/local/lib/python3.10/dist-packages (from requests<3,>=2.21.0->tensorboard<2.16,>=2.15->tensorflow<2.16,>=2.15->tf-keras>=2.14.1->tensorflow_hub==0.16.1) (3.10)\n",
            "Requirement already satisfied: urllib3<3,>=1.21.1 in /usr/local/lib/python3.10/dist-packages (from requests<3,>=2.21.0->tensorboard<2.16,>=2.15->tensorflow<2.16,>=2.15->tf-keras>=2.14.1->tensorflow_hub==0.16.1) (2.2.3)\n",
            "Requirement already satisfied: certifi>=2017.4.17 in /usr/local/lib/python3.10/dist-packages (from requests<3,>=2.21.0->tensorboard<2.16,>=2.15->tensorflow<2.16,>=2.15->tf-keras>=2.14.1->tensorflow_hub==0.16.1) (2024.8.30)\n",
            "Requirement already satisfied: MarkupSafe>=2.1.1 in /usr/local/lib/python3.10/dist-packages (from werkzeug>=1.0.1->tensorboard<2.16,>=2.15->tensorflow<2.16,>=2.15->tf-keras>=2.14.1->tensorflow_hub==0.16.1) (2.1.5)\n",
            "Requirement already satisfied: pyasn1<0.7.0,>=0.4.6 in /usr/local/lib/python3.10/dist-packages (from pyasn1-modules>=0.2.1->google-auth<3,>=1.6.3->tensorboard<2.16,>=2.15->tensorflow<2.16,>=2.15->tf-keras>=2.14.1->tensorflow_hub==0.16.1) (0.6.1)\n",
            "Requirement already satisfied: oauthlib>=3.0.0 in /usr/local/lib/python3.10/dist-packages (from requests-oauthlib>=0.7.0->google-auth-oauthlib<2,>=0.5->tensorboard<2.16,>=2.15->tensorflow<2.16,>=2.15->tf-keras>=2.14.1->tensorflow_hub==0.16.1) (3.2.2)\n",
            "Collecting keras-tuner\n",
            "  Downloading keras_tuner-1.4.7-py3-none-any.whl.metadata (5.4 kB)\n",
            "Requirement already satisfied: keras in /usr/local/lib/python3.10/dist-packages (from keras-tuner) (2.15.0)\n",
            "Requirement already satisfied: packaging in /usr/local/lib/python3.10/dist-packages (from keras-tuner) (24.1)\n",
            "Requirement already satisfied: requests in /usr/local/lib/python3.10/dist-packages (from keras-tuner) (2.32.3)\n",
            "Collecting kt-legacy (from keras-tuner)\n",
            "  Downloading kt_legacy-1.0.5-py3-none-any.whl.metadata (221 bytes)\n",
            "Requirement already satisfied: charset-normalizer<4,>=2 in /usr/local/lib/python3.10/dist-packages (from requests->keras-tuner) (3.3.2)\n",
            "Requirement already satisfied: idna<4,>=2.5 in /usr/local/lib/python3.10/dist-packages (from requests->keras-tuner) (3.10)\n",
            "Requirement already satisfied: urllib3<3,>=1.21.1 in /usr/local/lib/python3.10/dist-packages (from requests->keras-tuner) (2.2.3)\n",
            "Requirement already satisfied: certifi>=2017.4.17 in /usr/local/lib/python3.10/dist-packages (from requests->keras-tuner) (2024.8.30)\n",
            "Downloading keras_tuner-1.4.7-py3-none-any.whl (129 kB)\n",
            "\u001b[2K   \u001b[90m━━━━━━━━━━━━━━━━━━━━━━━━━━━━━━━━━━━━━━━━\u001b[0m \u001b[32m129.1/129.1 kB\u001b[0m \u001b[31m3.2 MB/s\u001b[0m eta \u001b[36m0:00:00\u001b[0m\n",
            "\u001b[?25hDownloading kt_legacy-1.0.5-py3-none-any.whl (9.6 kB)\n",
            "Installing collected packages: kt-legacy, keras-tuner\n",
            "Successfully installed keras-tuner-1.4.7 kt-legacy-1.0.5\n",
            "Collecting watermark\n",
            "  Downloading watermark-2.5.0-py2.py3-none-any.whl.metadata (1.4 kB)\n",
            "Requirement already satisfied: ipython>=6.0 in /usr/local/lib/python3.10/dist-packages (from watermark) (7.34.0)\n",
            "Requirement already satisfied: importlib-metadata>=1.4 in /usr/local/lib/python3.10/dist-packages (from watermark) (8.4.0)\n",
            "Requirement already satisfied: setuptools in /usr/local/lib/python3.10/dist-packages (from watermark) (71.0.4)\n",
            "Requirement already satisfied: zipp>=0.5 in /usr/local/lib/python3.10/dist-packages (from importlib-metadata>=1.4->watermark) (3.20.2)\n",
            "Collecting jedi>=0.16 (from ipython>=6.0->watermark)\n",
            "  Using cached jedi-0.19.1-py2.py3-none-any.whl.metadata (22 kB)\n",
            "Requirement already satisfied: decorator in /usr/local/lib/python3.10/dist-packages (from ipython>=6.0->watermark) (4.4.2)\n",
            "Requirement already satisfied: pickleshare in /usr/local/lib/python3.10/dist-packages (from ipython>=6.0->watermark) (0.7.5)\n",
            "Requirement already satisfied: traitlets>=4.2 in /usr/local/lib/python3.10/dist-packages (from ipython>=6.0->watermark) (5.7.1)\n",
            "Requirement already satisfied: prompt-toolkit!=3.0.0,!=3.0.1,<3.1.0,>=2.0.0 in /usr/local/lib/python3.10/dist-packages (from ipython>=6.0->watermark) (3.0.48)\n",
            "Requirement already satisfied: pygments in /usr/local/lib/python3.10/dist-packages (from ipython>=6.0->watermark) (2.18.0)\n",
            "Requirement already satisfied: backcall in /usr/local/lib/python3.10/dist-packages (from ipython>=6.0->watermark) (0.2.0)\n",
            "Requirement already satisfied: matplotlib-inline in /usr/local/lib/python3.10/dist-packages (from ipython>=6.0->watermark) (0.1.7)\n",
            "Requirement already satisfied: pexpect>4.3 in /usr/local/lib/python3.10/dist-packages (from ipython>=6.0->watermark) (4.9.0)\n",
            "Requirement already satisfied: parso<0.9.0,>=0.8.3 in /usr/local/lib/python3.10/dist-packages (from jedi>=0.16->ipython>=6.0->watermark) (0.8.4)\n",
            "Requirement already satisfied: ptyprocess>=0.5 in /usr/local/lib/python3.10/dist-packages (from pexpect>4.3->ipython>=6.0->watermark) (0.7.0)\n",
            "Requirement already satisfied: wcwidth in /usr/local/lib/python3.10/dist-packages (from prompt-toolkit!=3.0.0,!=3.0.1,<3.1.0,>=2.0.0->ipython>=6.0->watermark) (0.2.13)\n",
            "Downloading watermark-2.5.0-py2.py3-none-any.whl (7.7 kB)\n",
            "Using cached jedi-0.19.1-py2.py3-none-any.whl (1.6 MB)\n",
            "Installing collected packages: jedi, watermark\n",
            "Successfully installed jedi-0.19.1 watermark-2.5.0\n"
          ]
        }
      ]
    },
    {
      "cell_type": "code",
      "execution_count": 2,
      "metadata": {
        "id": "pBT2sQAWgp0_",
        "colab": {
          "base_uri": "https://localhost:8080/"
        },
        "outputId": "cc8386ae-9055-4f68-aefc-72eb3494fd40"
      },
      "outputs": [
        {
          "output_type": "stream",
          "name": "stderr",
          "text": [
            "[nltk_data] Downloading package stopwords to /root/nltk_data...\n",
            "[nltk_data]   Unzipping corpora/stopwords.zip.\n",
            "[nltk_data] Downloading package wordnet to /root/nltk_data...\n",
            "[nltk_data] Downloading package averaged_perceptron_tagger to\n",
            "[nltk_data]     /root/nltk_data...\n",
            "[nltk_data]   Unzipping taggers/averaged_perceptron_tagger.zip.\n",
            "[nltk_data] Downloading package universal_tagset to /root/nltk_data...\n",
            "[nltk_data]   Unzipping taggers/universal_tagset.zip.\n"
          ]
        }
      ],
      "source": [
        "# Import numpy and pandas\n",
        "import numpy as np\n",
        "import pandas as pd\n",
        "\n",
        "# Import file opening packages\n",
        "import chardet\n",
        "\n",
        "# Import text analysis packages\n",
        "import re\n",
        "import nltk\n",
        "from nltk.corpus import stopwords\n",
        "from nltk.stem import WordNetLemmatizer\n",
        "import string\n",
        "import contractions\n",
        "nltk.download('stopwords')\n",
        "nltk.download('wordnet')\n",
        "nltk.download('averaged_perceptron_tagger')\n",
        "nltk.download('universal_tagset')\n",
        "\n",
        "# Import deep learning packages\n",
        "import tensorflow\n",
        "from tensorflow.keras.preprocessing.text import Tokenizer\n",
        "from tensorflow.keras.preprocessing.sequence import pad_sequences\n",
        "from tensorflow.keras.models import Sequential, Model\n",
        "from tensorflow.keras.layers import  Embedding, Dense, SimpleRNN, LSTM, Bidirectional, Dropout, Input\n",
        "from tensorflow.keras.utils import plot_model\n",
        "import tensorflow_hub as hub\n",
        "import tensorflow_text as text\n",
        "from transformers import pipeline\n",
        "\n",
        "# Import modeling preprocessing packages\n",
        "from sklearn.model_selection import train_test_split\n",
        "from sklearn.metrics import roc_curve, auc\n",
        "from tensorflow.keras import metrics # Import metrics from tensorflow.keras\n",
        "from sklearn.metrics import confusion_matrix, classification_report, accuracy_score\n",
        "\n",
        "# Import visualization packages\n",
        "import matplotlib.pyplot as plt\n",
        "import seaborn as sns"
      ]
    },
    {
      "cell_type": "code",
      "source": [
        "# Load watermark\n",
        "%load_ext watermark"
      ],
      "metadata": {
        "id": "kRhZNw3z9Uuh"
      },
      "execution_count": 12,
      "outputs": []
    },
    {
      "cell_type": "code",
      "source": [
        "# Print machine and package versions\n",
        "\n",
        "%watermark --machine --iversions"
      ],
      "metadata": {
        "colab": {
          "base_uri": "https://localhost:8080/"
        },
        "id": "3C0PO0qb9Jha",
        "outputId": "1a6e6298-eb91-4092-e2a5-7a4388e06664"
      },
      "execution_count": 14,
      "outputs": [
        {
          "output_type": "stream",
          "name": "stdout",
          "text": [
            "Compiler    : GCC 11.4.0\n",
            "OS          : Linux\n",
            "Release     : 6.1.85+\n",
            "Machine     : x86_64\n",
            "Processor   : x86_64\n",
            "CPU cores   : 2\n",
            "Architecture: 64bit\n",
            "\n",
            "tensorflow_text: 2.15.0\n",
            "pandas         : 2.2.2\n",
            "keras          : 2.15.0\n",
            "contractions   : 0.1.73\n",
            "re             : 2.2.1\n",
            "nltk           : 3.8.1\n",
            "transformers   : 4.44.2\n",
            "chardet        : 5.2.0\n",
            "numpy          : 1.26.4\n",
            "tensorflow     : 2.15.1\n",
            "sklearn        : 1.5.2\n",
            "tensorflow_hub : 0.16.1\n",
            "seaborn        : 0.13.2\n",
            "matplotlib     : 3.7.1\n",
            "\n"
          ]
        }
      ]
    },
    {
      "cell_type": "markdown",
      "source": [
        "## Load in the dataset\n",
        "\n",
        "The original dataset from [Kaggle](https://www.kaggle.com/datasets/harshalhonde/starbucks-reviews-dataset) was loaded into the notebook."
      ],
      "metadata": {
        "id": "Iysna1KgfyTr"
      }
    },
    {
      "cell_type": "code",
      "source": [
        "# Load in the yelp reviews dataset from the CSV file\n",
        "reviews_df = pd.read_csv('reviews_data.csv')\n",
        "\n",
        "# Inspect the first 2 rows of data\n",
        "reviews_df.head(2)"
      ],
      "metadata": {
        "colab": {
          "base_uri": "https://localhost:8080/",
          "height": 112
        },
        "id": "p-HZ0jzkk2hI",
        "outputId": "fce185db-44f0-4c36-da10-ca97dd548b0c"
      },
      "execution_count": 33,
      "outputs": [
        {
          "output_type": "execute_result",
          "data": {
            "text/plain": [
              "       name           location                     Date  Rating  \\\n",
              "0     Helen  Wichita Falls, TX  Reviewed Sept. 13, 2023     5.0   \n",
              "1  Courtney         Apopka, FL   Reviewed July 16, 2023     5.0   \n",
              "\n",
              "                                              Review    Image_Links  \n",
              "0  Amber and LaDonna at the Starbucks on Southwes...  ['No Images']  \n",
              "1  ** at the Starbucks by the fire station on 436...  ['No Images']  "
            ],
            "text/html": [
              "\n",
              "  <div id=\"df-d882d7bd-04c8-4fb9-84a7-907deaf2a303\" class=\"colab-df-container\">\n",
              "    <div>\n",
              "<style scoped>\n",
              "    .dataframe tbody tr th:only-of-type {\n",
              "        vertical-align: middle;\n",
              "    }\n",
              "\n",
              "    .dataframe tbody tr th {\n",
              "        vertical-align: top;\n",
              "    }\n",
              "\n",
              "    .dataframe thead th {\n",
              "        text-align: right;\n",
              "    }\n",
              "</style>\n",
              "<table border=\"1\" class=\"dataframe\">\n",
              "  <thead>\n",
              "    <tr style=\"text-align: right;\">\n",
              "      <th></th>\n",
              "      <th>name</th>\n",
              "      <th>location</th>\n",
              "      <th>Date</th>\n",
              "      <th>Rating</th>\n",
              "      <th>Review</th>\n",
              "      <th>Image_Links</th>\n",
              "    </tr>\n",
              "  </thead>\n",
              "  <tbody>\n",
              "    <tr>\n",
              "      <th>0</th>\n",
              "      <td>Helen</td>\n",
              "      <td>Wichita Falls, TX</td>\n",
              "      <td>Reviewed Sept. 13, 2023</td>\n",
              "      <td>5.0</td>\n",
              "      <td>Amber and LaDonna at the Starbucks on Southwes...</td>\n",
              "      <td>['No Images']</td>\n",
              "    </tr>\n",
              "    <tr>\n",
              "      <th>1</th>\n",
              "      <td>Courtney</td>\n",
              "      <td>Apopka, FL</td>\n",
              "      <td>Reviewed July 16, 2023</td>\n",
              "      <td>5.0</td>\n",
              "      <td>** at the Starbucks by the fire station on 436...</td>\n",
              "      <td>['No Images']</td>\n",
              "    </tr>\n",
              "  </tbody>\n",
              "</table>\n",
              "</div>\n",
              "    <div class=\"colab-df-buttons\">\n",
              "\n",
              "  <div class=\"colab-df-container\">\n",
              "    <button class=\"colab-df-convert\" onclick=\"convertToInteractive('df-d882d7bd-04c8-4fb9-84a7-907deaf2a303')\"\n",
              "            title=\"Convert this dataframe to an interactive table.\"\n",
              "            style=\"display:none;\">\n",
              "\n",
              "  <svg xmlns=\"http://www.w3.org/2000/svg\" height=\"24px\" viewBox=\"0 -960 960 960\">\n",
              "    <path d=\"M120-120v-720h720v720H120Zm60-500h600v-160H180v160Zm220 220h160v-160H400v160Zm0 220h160v-160H400v160ZM180-400h160v-160H180v160Zm440 0h160v-160H620v160ZM180-180h160v-160H180v160Zm440 0h160v-160H620v160Z\"/>\n",
              "  </svg>\n",
              "    </button>\n",
              "\n",
              "  <style>\n",
              "    .colab-df-container {\n",
              "      display:flex;\n",
              "      gap: 12px;\n",
              "    }\n",
              "\n",
              "    .colab-df-convert {\n",
              "      background-color: #E8F0FE;\n",
              "      border: none;\n",
              "      border-radius: 50%;\n",
              "      cursor: pointer;\n",
              "      display: none;\n",
              "      fill: #1967D2;\n",
              "      height: 32px;\n",
              "      padding: 0 0 0 0;\n",
              "      width: 32px;\n",
              "    }\n",
              "\n",
              "    .colab-df-convert:hover {\n",
              "      background-color: #E2EBFA;\n",
              "      box-shadow: 0px 1px 2px rgba(60, 64, 67, 0.3), 0px 1px 3px 1px rgba(60, 64, 67, 0.15);\n",
              "      fill: #174EA6;\n",
              "    }\n",
              "\n",
              "    .colab-df-buttons div {\n",
              "      margin-bottom: 4px;\n",
              "    }\n",
              "\n",
              "    [theme=dark] .colab-df-convert {\n",
              "      background-color: #3B4455;\n",
              "      fill: #D2E3FC;\n",
              "    }\n",
              "\n",
              "    [theme=dark] .colab-df-convert:hover {\n",
              "      background-color: #434B5C;\n",
              "      box-shadow: 0px 1px 3px 1px rgba(0, 0, 0, 0.15);\n",
              "      filter: drop-shadow(0px 1px 2px rgba(0, 0, 0, 0.3));\n",
              "      fill: #FFFFFF;\n",
              "    }\n",
              "  </style>\n",
              "\n",
              "    <script>\n",
              "      const buttonEl =\n",
              "        document.querySelector('#df-d882d7bd-04c8-4fb9-84a7-907deaf2a303 button.colab-df-convert');\n",
              "      buttonEl.style.display =\n",
              "        google.colab.kernel.accessAllowed ? 'block' : 'none';\n",
              "\n",
              "      async function convertToInteractive(key) {\n",
              "        const element = document.querySelector('#df-d882d7bd-04c8-4fb9-84a7-907deaf2a303');\n",
              "        const dataTable =\n",
              "          await google.colab.kernel.invokeFunction('convertToInteractive',\n",
              "                                                    [key], {});\n",
              "        if (!dataTable) return;\n",
              "\n",
              "        const docLinkHtml = 'Like what you see? Visit the ' +\n",
              "          '<a target=\"_blank\" href=https://colab.research.google.com/notebooks/data_table.ipynb>data table notebook</a>'\n",
              "          + ' to learn more about interactive tables.';\n",
              "        element.innerHTML = '';\n",
              "        dataTable['output_type'] = 'display_data';\n",
              "        await google.colab.output.renderOutput(dataTable, element);\n",
              "        const docLink = document.createElement('div');\n",
              "        docLink.innerHTML = docLinkHtml;\n",
              "        element.appendChild(docLink);\n",
              "      }\n",
              "    </script>\n",
              "  </div>\n",
              "\n",
              "\n",
              "<div id=\"df-c849166c-08f5-4410-accc-20055de9a334\">\n",
              "  <button class=\"colab-df-quickchart\" onclick=\"quickchart('df-c849166c-08f5-4410-accc-20055de9a334')\"\n",
              "            title=\"Suggest charts\"\n",
              "            style=\"display:none;\">\n",
              "\n",
              "<svg xmlns=\"http://www.w3.org/2000/svg\" height=\"24px\"viewBox=\"0 0 24 24\"\n",
              "     width=\"24px\">\n",
              "    <g>\n",
              "        <path d=\"M19 3H5c-1.1 0-2 .9-2 2v14c0 1.1.9 2 2 2h14c1.1 0 2-.9 2-2V5c0-1.1-.9-2-2-2zM9 17H7v-7h2v7zm4 0h-2V7h2v10zm4 0h-2v-4h2v4z\"/>\n",
              "    </g>\n",
              "</svg>\n",
              "  </button>\n",
              "\n",
              "<style>\n",
              "  .colab-df-quickchart {\n",
              "      --bg-color: #E8F0FE;\n",
              "      --fill-color: #1967D2;\n",
              "      --hover-bg-color: #E2EBFA;\n",
              "      --hover-fill-color: #174EA6;\n",
              "      --disabled-fill-color: #AAA;\n",
              "      --disabled-bg-color: #DDD;\n",
              "  }\n",
              "\n",
              "  [theme=dark] .colab-df-quickchart {\n",
              "      --bg-color: #3B4455;\n",
              "      --fill-color: #D2E3FC;\n",
              "      --hover-bg-color: #434B5C;\n",
              "      --hover-fill-color: #FFFFFF;\n",
              "      --disabled-bg-color: #3B4455;\n",
              "      --disabled-fill-color: #666;\n",
              "  }\n",
              "\n",
              "  .colab-df-quickchart {\n",
              "    background-color: var(--bg-color);\n",
              "    border: none;\n",
              "    border-radius: 50%;\n",
              "    cursor: pointer;\n",
              "    display: none;\n",
              "    fill: var(--fill-color);\n",
              "    height: 32px;\n",
              "    padding: 0;\n",
              "    width: 32px;\n",
              "  }\n",
              "\n",
              "  .colab-df-quickchart:hover {\n",
              "    background-color: var(--hover-bg-color);\n",
              "    box-shadow: 0 1px 2px rgba(60, 64, 67, 0.3), 0 1px 3px 1px rgba(60, 64, 67, 0.15);\n",
              "    fill: var(--button-hover-fill-color);\n",
              "  }\n",
              "\n",
              "  .colab-df-quickchart-complete:disabled,\n",
              "  .colab-df-quickchart-complete:disabled:hover {\n",
              "    background-color: var(--disabled-bg-color);\n",
              "    fill: var(--disabled-fill-color);\n",
              "    box-shadow: none;\n",
              "  }\n",
              "\n",
              "  .colab-df-spinner {\n",
              "    border: 2px solid var(--fill-color);\n",
              "    border-color: transparent;\n",
              "    border-bottom-color: var(--fill-color);\n",
              "    animation:\n",
              "      spin 1s steps(1) infinite;\n",
              "  }\n",
              "\n",
              "  @keyframes spin {\n",
              "    0% {\n",
              "      border-color: transparent;\n",
              "      border-bottom-color: var(--fill-color);\n",
              "      border-left-color: var(--fill-color);\n",
              "    }\n",
              "    20% {\n",
              "      border-color: transparent;\n",
              "      border-left-color: var(--fill-color);\n",
              "      border-top-color: var(--fill-color);\n",
              "    }\n",
              "    30% {\n",
              "      border-color: transparent;\n",
              "      border-left-color: var(--fill-color);\n",
              "      border-top-color: var(--fill-color);\n",
              "      border-right-color: var(--fill-color);\n",
              "    }\n",
              "    40% {\n",
              "      border-color: transparent;\n",
              "      border-right-color: var(--fill-color);\n",
              "      border-top-color: var(--fill-color);\n",
              "    }\n",
              "    60% {\n",
              "      border-color: transparent;\n",
              "      border-right-color: var(--fill-color);\n",
              "    }\n",
              "    80% {\n",
              "      border-color: transparent;\n",
              "      border-right-color: var(--fill-color);\n",
              "      border-bottom-color: var(--fill-color);\n",
              "    }\n",
              "    90% {\n",
              "      border-color: transparent;\n",
              "      border-bottom-color: var(--fill-color);\n",
              "    }\n",
              "  }\n",
              "</style>\n",
              "\n",
              "  <script>\n",
              "    async function quickchart(key) {\n",
              "      const quickchartButtonEl =\n",
              "        document.querySelector('#' + key + ' button');\n",
              "      quickchartButtonEl.disabled = true;  // To prevent multiple clicks.\n",
              "      quickchartButtonEl.classList.add('colab-df-spinner');\n",
              "      try {\n",
              "        const charts = await google.colab.kernel.invokeFunction(\n",
              "            'suggestCharts', [key], {});\n",
              "      } catch (error) {\n",
              "        console.error('Error during call to suggestCharts:', error);\n",
              "      }\n",
              "      quickchartButtonEl.classList.remove('colab-df-spinner');\n",
              "      quickchartButtonEl.classList.add('colab-df-quickchart-complete');\n",
              "    }\n",
              "    (() => {\n",
              "      let quickchartButtonEl =\n",
              "        document.querySelector('#df-c849166c-08f5-4410-accc-20055de9a334 button');\n",
              "      quickchartButtonEl.style.display =\n",
              "        google.colab.kernel.accessAllowed ? 'block' : 'none';\n",
              "    })();\n",
              "  </script>\n",
              "</div>\n",
              "\n",
              "    </div>\n",
              "  </div>\n"
            ],
            "application/vnd.google.colaboratory.intrinsic+json": {
              "type": "dataframe",
              "variable_name": "reviews_df",
              "summary": "{\n  \"name\": \"reviews_df\",\n  \"rows\": 850,\n  \"fields\": [\n    {\n      \"column\": \"name\",\n      \"properties\": {\n        \"dtype\": \"string\",\n        \"num_unique_values\": 604,\n        \"samples\": [\n          \"M\",\n          \"Pete\",\n          \"Arpana\"\n        ],\n        \"semantic_type\": \"\",\n        \"description\": \"\"\n      }\n    },\n    {\n      \"column\": \"location\",\n      \"properties\": {\n        \"dtype\": \"string\",\n        \"num_unique_values\": 633,\n        \"samples\": [\n          \"Flossmoor, IL\",\n          \"Kamloops, BC\",\n          \"Renton, WA\"\n        ],\n        \"semantic_type\": \"\",\n        \"description\": \"\"\n      }\n    },\n    {\n      \"column\": \"Date\",\n      \"properties\": {\n        \"dtype\": \"string\",\n        \"num_unique_values\": 741,\n        \"samples\": [\n          \"Reviewed Sept. 23, 2020\",\n          \"Reviewed Dec. 7, 2018\",\n          \"Reviewed Oct. 14, 2016\"\n        ],\n        \"semantic_type\": \"\",\n        \"description\": \"\"\n      }\n    },\n    {\n      \"column\": \"Rating\",\n      \"properties\": {\n        \"dtype\": \"number\",\n        \"std\": 1.397671511628008,\n        \"min\": 1.0,\n        \"max\": 5.0,\n        \"num_unique_values\": 5,\n        \"samples\": [\n          1.0,\n          4.0,\n          2.0\n        ],\n        \"semantic_type\": \"\",\n        \"description\": \"\"\n      }\n    },\n    {\n      \"column\": \"Review\",\n      \"properties\": {\n        \"dtype\": \"string\",\n        \"num_unique_values\": 814,\n        \"samples\": [\n          \"I was in the drive thru at the Barranca Ave. West Covina Starbucks yesterday at 3:40pm. I was picking up 3 grande ice tea for coaches at a nearby high school baseball game. I asked to have each ring up separately. I was told that there is a limit of 2 transactions at the drive thru??? Funny, a week earlier I ordered 4 separate orders at the same drive thru without any trouble? The car in front of me had 4 separate transactions as I watched the customer have her phone scanned 4 separate times?\",\n          \"I ordered trente Valencia orange drinks with no ice and she gave me two one half cup fills of drink. When I told her this was not right, she said that is what her manager told her to do. I would have to fill the cup totally full if ice for this drink to go to top of cup. The drinks cost $4.25 and you get a little drink with your ice and cup. Their lemon pound is stale everyday but one out of the week.\",\n          \"This company has earned its popularity by maintaining a great quality business. Starbucks holds a welcoming environment, is widely available, and serves a variety of menu options. Starbucks has a unique, modern style. Starbucks creates a place fitting to the environment, giving them a truly natural and positive vibe. Locals are most likely to feel at home at their surrounding locations. The employees at every location always fit in perfectly as well. The alternative styles and quirky personalities of Starbucks employees make for authentic coffeehouse vibes. \"\n        ],\n        \"semantic_type\": \"\",\n        \"description\": \"\"\n      }\n    },\n    {\n      \"column\": \"Image_Links\",\n      \"properties\": {\n        \"dtype\": \"category\",\n        \"num_unique_values\": 47,\n        \"samples\": [\n          \"['https://media.consumeraffairs.com/files/cache/reviews/starbucks_239350_thumbnail.JPG']\",\n          \"['https://media.consumeraffairs.com/files/cache/reviews/starbucks_59083_thumbnail.jpg', 'https://media.consumeraffairs.com/files/cache/reviews/starbucks_59086_thumbnail.jpg']\",\n          \"['https://media.consumeraffairs.com/files/cache/reviews/starbucks_320005_thumbnail.jpg']\"\n        ],\n        \"semantic_type\": \"\",\n        \"description\": \"\"\n      }\n    }\n  ]\n}"
            }
          },
          "metadata": {},
          "execution_count": 33
        }
      ]
    },
    {
      "cell_type": "code",
      "source": [
        "# Check the information on the dataframe\n",
        "reviews_df.info()"
      ],
      "metadata": {
        "colab": {
          "base_uri": "https://localhost:8080/"
        },
        "id": "yNZBsWyqlt40",
        "outputId": "91ddc2cd-54e1-443d-f5ae-fc817f61d827"
      },
      "execution_count": 34,
      "outputs": [
        {
          "output_type": "stream",
          "name": "stdout",
          "text": [
            "<class 'pandas.core.frame.DataFrame'>\n",
            "RangeIndex: 850 entries, 0 to 849\n",
            "Data columns (total 6 columns):\n",
            " #   Column       Non-Null Count  Dtype  \n",
            "---  ------       --------------  -----  \n",
            " 0   name         850 non-null    object \n",
            " 1   location     850 non-null    object \n",
            " 2   Date         850 non-null    object \n",
            " 3   Rating       705 non-null    float64\n",
            " 4   Review       850 non-null    object \n",
            " 5   Image_Links  850 non-null    object \n",
            "dtypes: float64(1), object(5)\n",
            "memory usage: 40.0+ KB\n"
          ]
        }
      ]
    },
    {
      "cell_type": "markdown",
      "source": [
        "## Data Preprocessing"
      ],
      "metadata": {
        "id": "qUosJP8ff_Ut"
      }
    },
    {
      "cell_type": "code",
      "source": [
        "# Check number of empty ratings\n",
        "reviews_df['Rating'].isna().sum()"
      ],
      "metadata": {
        "colab": {
          "base_uri": "https://localhost:8080/"
        },
        "id": "umC7i0v2lvI4",
        "outputId": "f11e5372-b0bd-4ab8-e78e-32e0b6a4f9c9"
      },
      "execution_count": 35,
      "outputs": [
        {
          "output_type": "execute_result",
          "data": {
            "text/plain": [
              "145"
            ]
          },
          "metadata": {},
          "execution_count": 35
        }
      ]
    },
    {
      "cell_type": "markdown",
      "source": [
        "Fill in the null values for ratings in the dataframe with the median value. The median value which also corresponded to the mode was 1."
      ],
      "metadata": {
        "id": "6Nt5rV-rf79n"
      }
    },
    {
      "cell_type": "code",
      "source": [
        "# Impute median for NaN ratings\n",
        "reviews_df['Rating'].fillna(reviews_df['Rating'].median(), inplace=True)"
      ],
      "metadata": {
        "id": "fb2hZYVxljV2",
        "colab": {
          "base_uri": "https://localhost:8080/"
        },
        "outputId": "81548f18-3332-48f5-d11a-827899a0356a"
      },
      "execution_count": 36,
      "outputs": [
        {
          "output_type": "stream",
          "name": "stderr",
          "text": [
            "<ipython-input-36-458b49e7b202>:2: FutureWarning: A value is trying to be set on a copy of a DataFrame or Series through chained assignment using an inplace method.\n",
            "The behavior will change in pandas 3.0. This inplace method will never work because the intermediate object on which we are setting values always behaves as a copy.\n",
            "\n",
            "For example, when doing 'df[col].method(value, inplace=True)', try using 'df.method({col: value}, inplace=True)' or df[col] = df[col].method(value) instead, to perform the operation inplace on the original object.\n",
            "\n",
            "\n",
            "  reviews_df['Rating'].fillna(reviews_df['Rating'].median(), inplace=True)\n"
          ]
        }
      ]
    },
    {
      "cell_type": "markdown",
      "source": [
        "Classify sentiments as positive (3, 4, and 5) or negative (1, 2):\n",
        "\n",
        "\n",
        "*   0 for Negative sentiments - ratings of 1 or 2\n",
        "*   1 for Positive sentiments - ratings of 3, 4 or 5\n",
        "\n"
      ],
      "metadata": {
        "id": "VZF-Qo06ghGV"
      }
    },
    {
      "cell_type": "code",
      "source": [
        "# Group sentiments as positive (1), or negative(0) based on the rating given\n",
        "reviews_df['Sentiment'] =\\\n",
        "np.where(((reviews_df['Rating'] == 1) | (reviews_df['Rating'] == 2)), 0, 1)"
      ],
      "metadata": {
        "id": "lGbq45xSA7W3"
      },
      "execution_count": 37,
      "outputs": []
    },
    {
      "cell_type": "code",
      "source": [
        "# Print out counts of each sentiment\n",
        "reviews_df['Sentiment'].value_counts()"
      ],
      "metadata": {
        "colab": {
          "base_uri": "https://localhost:8080/",
          "height": 178
        },
        "id": "f1lm3NTYmKDC",
        "outputId": "4e5decdd-daeb-486a-b21b-e948aae006cd"
      },
      "execution_count": 38,
      "outputs": [
        {
          "output_type": "execute_result",
          "data": {
            "text/plain": [
              "Sentiment\n",
              "0    695\n",
              "1    155\n",
              "Name: count, dtype: int64"
            ],
            "text/html": [
              "<div>\n",
              "<style scoped>\n",
              "    .dataframe tbody tr th:only-of-type {\n",
              "        vertical-align: middle;\n",
              "    }\n",
              "\n",
              "    .dataframe tbody tr th {\n",
              "        vertical-align: top;\n",
              "    }\n",
              "\n",
              "    .dataframe thead th {\n",
              "        text-align: right;\n",
              "    }\n",
              "</style>\n",
              "<table border=\"1\" class=\"dataframe\">\n",
              "  <thead>\n",
              "    <tr style=\"text-align: right;\">\n",
              "      <th></th>\n",
              "      <th>count</th>\n",
              "    </tr>\n",
              "    <tr>\n",
              "      <th>Sentiment</th>\n",
              "      <th></th>\n",
              "    </tr>\n",
              "  </thead>\n",
              "  <tbody>\n",
              "    <tr>\n",
              "      <th>0</th>\n",
              "      <td>695</td>\n",
              "    </tr>\n",
              "    <tr>\n",
              "      <th>1</th>\n",
              "      <td>155</td>\n",
              "    </tr>\n",
              "  </tbody>\n",
              "</table>\n",
              "</div><br><label><b>dtype:</b> int64</label>"
            ]
          },
          "metadata": {},
          "execution_count": 38
        }
      ]
    },
    {
      "cell_type": "markdown",
      "source": [
        "There are 3-4 times more reviews with negative reviews than positive reviews. The target variable is imbalanced and this will need to be accounted for during modeling.\n",
        "\n",
        "Remove punctuations and stopwords from the text column."
      ],
      "metadata": {
        "id": "ZQIVNBlxmQPz"
      }
    },
    {
      "cell_type": "code",
      "source": [
        "# Create a pos_taggin function for wordnetlemmatizer\n",
        "def pos_tagger(tag):\n",
        "  # If the pos is a certain part of speech\n",
        "  # label it as n, v, a, r, or s\n",
        "  if tag.startswith('N'):\n",
        "    part_of_speech = 'n'\n",
        "  elif tag.startswith('V'):\n",
        "    part_of_speech = 'v'\n",
        "  elif tag.startswith('J'):\n",
        "    part_of_speech = 'a'\n",
        "  elif tag.startswith('R'):\n",
        "    part_of_speech = 'r'\n",
        "  else:\n",
        "    part_of_speech = 'n' #changed from 's' to 'n' to avoid KeyError\n",
        "  return part_of_speech"
      ],
      "metadata": {
        "id": "3goIELPYVgAF"
      },
      "execution_count": 39,
      "outputs": []
    },
    {
      "cell_type": "code",
      "source": [
        "# Create a function cleans strings from a dataframe\n",
        "def clean_text(string):\n",
        "\n",
        "\n",
        "  # Create a set of stop words\n",
        "  stop_words = set(stopwords.words('english'))\n",
        "\n",
        "  # Replace contractions with full text\n",
        "  string = contractions.fix(string)\n",
        "\n",
        "  # Remove stopwords\n",
        "  string = ' '.join([word for word in string.split() if word not in stop_words])\n",
        "\n",
        "  # Remove punctuation\n",
        "  string = re.findall(r'([a-zA-Z0-9]+)', string)\n",
        "\n",
        "\n",
        "  # Find part of speech for each word\n",
        "  pos_list = nltk.pos_tag(string, tagset = 'universal')\n",
        "\n",
        "  # Lemmatize words\n",
        "  wnl = WordNetLemmatizer()\n",
        "  string = [wnl.lemmatize(word_tuple[0], pos_tagger(word_tuple[1]))\\\n",
        "            for word_tuple in pos_list]\n",
        "\n",
        "  string = ' '.join(string)\n",
        "  # Return the cleaned dataframe\n",
        "  return string"
      ],
      "metadata": {
        "id": "5k4qiKMXmmH2"
      },
      "execution_count": 40,
      "outputs": []
    },
    {
      "cell_type": "code",
      "source": [
        "# Create empty list for sentences\n",
        "sentences = []\n",
        "\n",
        "# Create a list of strings from reviews_df's 'Reviews' column\n",
        "strings = list(reviews_df['Review'])\n",
        "\n",
        "# Run clean_text on each row of reviews_df\n",
        "for string in strings:\n",
        "  sentences.append(clean_text(string))\n",
        "\n",
        "sentences = pd.DataFrame({'Processed_Reviews' : sentences})"
      ],
      "metadata": {
        "id": "zQFetsQrunMN"
      },
      "execution_count": 41,
      "outputs": []
    },
    {
      "cell_type": "code",
      "source": [
        "# Print head of sentences\n",
        "sentences.head(2)"
      ],
      "metadata": {
        "colab": {
          "base_uri": "https://localhost:8080/",
          "height": 112
        },
        "id": "WyN_Ics2Hspl",
        "outputId": "2fc22363-68fa-4de5-d247-059dd64cfd1d"
      },
      "execution_count": 42,
      "outputs": [
        {
          "output_type": "execute_result",
          "data": {
            "text/plain": [
              "                                   Processed_Reviews\n",
              "0  Amber LaDonna Starbucks Southwest Parkway alwa...\n",
              "1  Starbucks fire station 436 Altamonte Springs F..."
            ],
            "text/html": [
              "\n",
              "  <div id=\"df-9482178f-f858-4ec5-9d81-d618063eafa5\" class=\"colab-df-container\">\n",
              "    <div>\n",
              "<style scoped>\n",
              "    .dataframe tbody tr th:only-of-type {\n",
              "        vertical-align: middle;\n",
              "    }\n",
              "\n",
              "    .dataframe tbody tr th {\n",
              "        vertical-align: top;\n",
              "    }\n",
              "\n",
              "    .dataframe thead th {\n",
              "        text-align: right;\n",
              "    }\n",
              "</style>\n",
              "<table border=\"1\" class=\"dataframe\">\n",
              "  <thead>\n",
              "    <tr style=\"text-align: right;\">\n",
              "      <th></th>\n",
              "      <th>Processed_Reviews</th>\n",
              "    </tr>\n",
              "  </thead>\n",
              "  <tbody>\n",
              "    <tr>\n",
              "      <th>0</th>\n",
              "      <td>Amber LaDonna Starbucks Southwest Parkway alwa...</td>\n",
              "    </tr>\n",
              "    <tr>\n",
              "      <th>1</th>\n",
              "      <td>Starbucks fire station 436 Altamonte Springs F...</td>\n",
              "    </tr>\n",
              "  </tbody>\n",
              "</table>\n",
              "</div>\n",
              "    <div class=\"colab-df-buttons\">\n",
              "\n",
              "  <div class=\"colab-df-container\">\n",
              "    <button class=\"colab-df-convert\" onclick=\"convertToInteractive('df-9482178f-f858-4ec5-9d81-d618063eafa5')\"\n",
              "            title=\"Convert this dataframe to an interactive table.\"\n",
              "            style=\"display:none;\">\n",
              "\n",
              "  <svg xmlns=\"http://www.w3.org/2000/svg\" height=\"24px\" viewBox=\"0 -960 960 960\">\n",
              "    <path d=\"M120-120v-720h720v720H120Zm60-500h600v-160H180v160Zm220 220h160v-160H400v160Zm0 220h160v-160H400v160ZM180-400h160v-160H180v160Zm440 0h160v-160H620v160ZM180-180h160v-160H180v160Zm440 0h160v-160H620v160Z\"/>\n",
              "  </svg>\n",
              "    </button>\n",
              "\n",
              "  <style>\n",
              "    .colab-df-container {\n",
              "      display:flex;\n",
              "      gap: 12px;\n",
              "    }\n",
              "\n",
              "    .colab-df-convert {\n",
              "      background-color: #E8F0FE;\n",
              "      border: none;\n",
              "      border-radius: 50%;\n",
              "      cursor: pointer;\n",
              "      display: none;\n",
              "      fill: #1967D2;\n",
              "      height: 32px;\n",
              "      padding: 0 0 0 0;\n",
              "      width: 32px;\n",
              "    }\n",
              "\n",
              "    .colab-df-convert:hover {\n",
              "      background-color: #E2EBFA;\n",
              "      box-shadow: 0px 1px 2px rgba(60, 64, 67, 0.3), 0px 1px 3px 1px rgba(60, 64, 67, 0.15);\n",
              "      fill: #174EA6;\n",
              "    }\n",
              "\n",
              "    .colab-df-buttons div {\n",
              "      margin-bottom: 4px;\n",
              "    }\n",
              "\n",
              "    [theme=dark] .colab-df-convert {\n",
              "      background-color: #3B4455;\n",
              "      fill: #D2E3FC;\n",
              "    }\n",
              "\n",
              "    [theme=dark] .colab-df-convert:hover {\n",
              "      background-color: #434B5C;\n",
              "      box-shadow: 0px 1px 3px 1px rgba(0, 0, 0, 0.15);\n",
              "      filter: drop-shadow(0px 1px 2px rgba(0, 0, 0, 0.3));\n",
              "      fill: #FFFFFF;\n",
              "    }\n",
              "  </style>\n",
              "\n",
              "    <script>\n",
              "      const buttonEl =\n",
              "        document.querySelector('#df-9482178f-f858-4ec5-9d81-d618063eafa5 button.colab-df-convert');\n",
              "      buttonEl.style.display =\n",
              "        google.colab.kernel.accessAllowed ? 'block' : 'none';\n",
              "\n",
              "      async function convertToInteractive(key) {\n",
              "        const element = document.querySelector('#df-9482178f-f858-4ec5-9d81-d618063eafa5');\n",
              "        const dataTable =\n",
              "          await google.colab.kernel.invokeFunction('convertToInteractive',\n",
              "                                                    [key], {});\n",
              "        if (!dataTable) return;\n",
              "\n",
              "        const docLinkHtml = 'Like what you see? Visit the ' +\n",
              "          '<a target=\"_blank\" href=https://colab.research.google.com/notebooks/data_table.ipynb>data table notebook</a>'\n",
              "          + ' to learn more about interactive tables.';\n",
              "        element.innerHTML = '';\n",
              "        dataTable['output_type'] = 'display_data';\n",
              "        await google.colab.output.renderOutput(dataTable, element);\n",
              "        const docLink = document.createElement('div');\n",
              "        docLink.innerHTML = docLinkHtml;\n",
              "        element.appendChild(docLink);\n",
              "      }\n",
              "    </script>\n",
              "  </div>\n",
              "\n",
              "\n",
              "<div id=\"df-6cada2ab-4d5f-4add-ba51-ebabd4ac9adb\">\n",
              "  <button class=\"colab-df-quickchart\" onclick=\"quickchart('df-6cada2ab-4d5f-4add-ba51-ebabd4ac9adb')\"\n",
              "            title=\"Suggest charts\"\n",
              "            style=\"display:none;\">\n",
              "\n",
              "<svg xmlns=\"http://www.w3.org/2000/svg\" height=\"24px\"viewBox=\"0 0 24 24\"\n",
              "     width=\"24px\">\n",
              "    <g>\n",
              "        <path d=\"M19 3H5c-1.1 0-2 .9-2 2v14c0 1.1.9 2 2 2h14c1.1 0 2-.9 2-2V5c0-1.1-.9-2-2-2zM9 17H7v-7h2v7zm4 0h-2V7h2v10zm4 0h-2v-4h2v4z\"/>\n",
              "    </g>\n",
              "</svg>\n",
              "  </button>\n",
              "\n",
              "<style>\n",
              "  .colab-df-quickchart {\n",
              "      --bg-color: #E8F0FE;\n",
              "      --fill-color: #1967D2;\n",
              "      --hover-bg-color: #E2EBFA;\n",
              "      --hover-fill-color: #174EA6;\n",
              "      --disabled-fill-color: #AAA;\n",
              "      --disabled-bg-color: #DDD;\n",
              "  }\n",
              "\n",
              "  [theme=dark] .colab-df-quickchart {\n",
              "      --bg-color: #3B4455;\n",
              "      --fill-color: #D2E3FC;\n",
              "      --hover-bg-color: #434B5C;\n",
              "      --hover-fill-color: #FFFFFF;\n",
              "      --disabled-bg-color: #3B4455;\n",
              "      --disabled-fill-color: #666;\n",
              "  }\n",
              "\n",
              "  .colab-df-quickchart {\n",
              "    background-color: var(--bg-color);\n",
              "    border: none;\n",
              "    border-radius: 50%;\n",
              "    cursor: pointer;\n",
              "    display: none;\n",
              "    fill: var(--fill-color);\n",
              "    height: 32px;\n",
              "    padding: 0;\n",
              "    width: 32px;\n",
              "  }\n",
              "\n",
              "  .colab-df-quickchart:hover {\n",
              "    background-color: var(--hover-bg-color);\n",
              "    box-shadow: 0 1px 2px rgba(60, 64, 67, 0.3), 0 1px 3px 1px rgba(60, 64, 67, 0.15);\n",
              "    fill: var(--button-hover-fill-color);\n",
              "  }\n",
              "\n",
              "  .colab-df-quickchart-complete:disabled,\n",
              "  .colab-df-quickchart-complete:disabled:hover {\n",
              "    background-color: var(--disabled-bg-color);\n",
              "    fill: var(--disabled-fill-color);\n",
              "    box-shadow: none;\n",
              "  }\n",
              "\n",
              "  .colab-df-spinner {\n",
              "    border: 2px solid var(--fill-color);\n",
              "    border-color: transparent;\n",
              "    border-bottom-color: var(--fill-color);\n",
              "    animation:\n",
              "      spin 1s steps(1) infinite;\n",
              "  }\n",
              "\n",
              "  @keyframes spin {\n",
              "    0% {\n",
              "      border-color: transparent;\n",
              "      border-bottom-color: var(--fill-color);\n",
              "      border-left-color: var(--fill-color);\n",
              "    }\n",
              "    20% {\n",
              "      border-color: transparent;\n",
              "      border-left-color: var(--fill-color);\n",
              "      border-top-color: var(--fill-color);\n",
              "    }\n",
              "    30% {\n",
              "      border-color: transparent;\n",
              "      border-left-color: var(--fill-color);\n",
              "      border-top-color: var(--fill-color);\n",
              "      border-right-color: var(--fill-color);\n",
              "    }\n",
              "    40% {\n",
              "      border-color: transparent;\n",
              "      border-right-color: var(--fill-color);\n",
              "      border-top-color: var(--fill-color);\n",
              "    }\n",
              "    60% {\n",
              "      border-color: transparent;\n",
              "      border-right-color: var(--fill-color);\n",
              "    }\n",
              "    80% {\n",
              "      border-color: transparent;\n",
              "      border-right-color: var(--fill-color);\n",
              "      border-bottom-color: var(--fill-color);\n",
              "    }\n",
              "    90% {\n",
              "      border-color: transparent;\n",
              "      border-bottom-color: var(--fill-color);\n",
              "    }\n",
              "  }\n",
              "</style>\n",
              "\n",
              "  <script>\n",
              "    async function quickchart(key) {\n",
              "      const quickchartButtonEl =\n",
              "        document.querySelector('#' + key + ' button');\n",
              "      quickchartButtonEl.disabled = true;  // To prevent multiple clicks.\n",
              "      quickchartButtonEl.classList.add('colab-df-spinner');\n",
              "      try {\n",
              "        const charts = await google.colab.kernel.invokeFunction(\n",
              "            'suggestCharts', [key], {});\n",
              "      } catch (error) {\n",
              "        console.error('Error during call to suggestCharts:', error);\n",
              "      }\n",
              "      quickchartButtonEl.classList.remove('colab-df-spinner');\n",
              "      quickchartButtonEl.classList.add('colab-df-quickchart-complete');\n",
              "    }\n",
              "    (() => {\n",
              "      let quickchartButtonEl =\n",
              "        document.querySelector('#df-6cada2ab-4d5f-4add-ba51-ebabd4ac9adb button');\n",
              "      quickchartButtonEl.style.display =\n",
              "        google.colab.kernel.accessAllowed ? 'block' : 'none';\n",
              "    })();\n",
              "  </script>\n",
              "</div>\n",
              "\n",
              "    </div>\n",
              "  </div>\n"
            ],
            "application/vnd.google.colaboratory.intrinsic+json": {
              "type": "dataframe",
              "variable_name": "sentences",
              "summary": "{\n  \"name\": \"sentences\",\n  \"rows\": 850,\n  \"fields\": [\n    {\n      \"column\": \"Processed_Reviews\",\n      \"properties\": {\n        \"dtype\": \"string\",\n        \"num_unique_values\": 814,\n        \"samples\": [\n          \"I drive thru Barranca Ave West Covina Starbucks yesterday 3 40pm I pick 3 grande ice tea coach nearby high school baseball game I ask ring separately I tell limit 2 transaction drive thru Funny week earlier I order 4 separate order drive thru without trouble The car front 4 separate transaction I watch customer phone scan 4 separate time\",\n          \"I order trente Valencia orange drink ice give two one half cup fill drink When I tell right say manager tell do I would fill cup totally full ice drink go top cup The drink cost 4 25 get little drink ice cup Their lemon pound stale everyday one week\",\n          \"This company earn popularity maintain great quality business Starbucks hold welcome environment widely available serf variety menu option Starbucks unique modern style Starbucks create place fit environment give truly natural positive vibe Locals likely feel home surround location The employee every location always fit perfectly well The alternative style quirky personality Starbucks employee make authentic coffeehouse vibe\"\n        ],\n        \"semantic_type\": \"\",\n        \"description\": \"\"\n      }\n    }\n  ]\n}"
            }
          },
          "metadata": {},
          "execution_count": 42
        }
      ]
    },
    {
      "cell_type": "code",
      "source": [
        "# Create final dataframe for analysis by joining sentences and sentiments\n",
        "reviews_df = pd.concat([reviews_df, sentences], axis = 1)\n",
        "proc_df = reviews_df[reviews_df['Review'] != 'No Review Text']\n",
        "proc_df = reviews_df.drop(['Review', 'location', 'name', 'Date',\\\n",
        "                           'Rating', 'Image_Links'], axis = 1)\n",
        "# Drop entries with NaN\n",
        "df = proc_df.dropna()"
      ],
      "metadata": {
        "id": "wHurV_apuqrm"
      },
      "execution_count": 43,
      "outputs": []
    },
    {
      "cell_type": "code",
      "source": [
        "# Inspect the first two entries of df\n",
        "df.head(2)"
      ],
      "metadata": {
        "colab": {
          "base_uri": "https://localhost:8080/",
          "height": 112
        },
        "id": "goRqNX0L9SfR",
        "outputId": "c3f4a233-7174-4fb3-c4ad-6e5105e5a494"
      },
      "execution_count": 44,
      "outputs": [
        {
          "output_type": "execute_result",
          "data": {
            "text/plain": [
              "   Sentiment                                  Processed_Reviews\n",
              "0          1  Amber LaDonna Starbucks Southwest Parkway alwa...\n",
              "1          1  Starbucks fire station 436 Altamonte Springs F..."
            ],
            "text/html": [
              "\n",
              "  <div id=\"df-aea0e829-9789-41c5-94c6-72c0916a19a7\" class=\"colab-df-container\">\n",
              "    <div>\n",
              "<style scoped>\n",
              "    .dataframe tbody tr th:only-of-type {\n",
              "        vertical-align: middle;\n",
              "    }\n",
              "\n",
              "    .dataframe tbody tr th {\n",
              "        vertical-align: top;\n",
              "    }\n",
              "\n",
              "    .dataframe thead th {\n",
              "        text-align: right;\n",
              "    }\n",
              "</style>\n",
              "<table border=\"1\" class=\"dataframe\">\n",
              "  <thead>\n",
              "    <tr style=\"text-align: right;\">\n",
              "      <th></th>\n",
              "      <th>Sentiment</th>\n",
              "      <th>Processed_Reviews</th>\n",
              "    </tr>\n",
              "  </thead>\n",
              "  <tbody>\n",
              "    <tr>\n",
              "      <th>0</th>\n",
              "      <td>1</td>\n",
              "      <td>Amber LaDonna Starbucks Southwest Parkway alwa...</td>\n",
              "    </tr>\n",
              "    <tr>\n",
              "      <th>1</th>\n",
              "      <td>1</td>\n",
              "      <td>Starbucks fire station 436 Altamonte Springs F...</td>\n",
              "    </tr>\n",
              "  </tbody>\n",
              "</table>\n",
              "</div>\n",
              "    <div class=\"colab-df-buttons\">\n",
              "\n",
              "  <div class=\"colab-df-container\">\n",
              "    <button class=\"colab-df-convert\" onclick=\"convertToInteractive('df-aea0e829-9789-41c5-94c6-72c0916a19a7')\"\n",
              "            title=\"Convert this dataframe to an interactive table.\"\n",
              "            style=\"display:none;\">\n",
              "\n",
              "  <svg xmlns=\"http://www.w3.org/2000/svg\" height=\"24px\" viewBox=\"0 -960 960 960\">\n",
              "    <path d=\"M120-120v-720h720v720H120Zm60-500h600v-160H180v160Zm220 220h160v-160H400v160Zm0 220h160v-160H400v160ZM180-400h160v-160H180v160Zm440 0h160v-160H620v160ZM180-180h160v-160H180v160Zm440 0h160v-160H620v160Z\"/>\n",
              "  </svg>\n",
              "    </button>\n",
              "\n",
              "  <style>\n",
              "    .colab-df-container {\n",
              "      display:flex;\n",
              "      gap: 12px;\n",
              "    }\n",
              "\n",
              "    .colab-df-convert {\n",
              "      background-color: #E8F0FE;\n",
              "      border: none;\n",
              "      border-radius: 50%;\n",
              "      cursor: pointer;\n",
              "      display: none;\n",
              "      fill: #1967D2;\n",
              "      height: 32px;\n",
              "      padding: 0 0 0 0;\n",
              "      width: 32px;\n",
              "    }\n",
              "\n",
              "    .colab-df-convert:hover {\n",
              "      background-color: #E2EBFA;\n",
              "      box-shadow: 0px 1px 2px rgba(60, 64, 67, 0.3), 0px 1px 3px 1px rgba(60, 64, 67, 0.15);\n",
              "      fill: #174EA6;\n",
              "    }\n",
              "\n",
              "    .colab-df-buttons div {\n",
              "      margin-bottom: 4px;\n",
              "    }\n",
              "\n",
              "    [theme=dark] .colab-df-convert {\n",
              "      background-color: #3B4455;\n",
              "      fill: #D2E3FC;\n",
              "    }\n",
              "\n",
              "    [theme=dark] .colab-df-convert:hover {\n",
              "      background-color: #434B5C;\n",
              "      box-shadow: 0px 1px 3px 1px rgba(0, 0, 0, 0.15);\n",
              "      filter: drop-shadow(0px 1px 2px rgba(0, 0, 0, 0.3));\n",
              "      fill: #FFFFFF;\n",
              "    }\n",
              "  </style>\n",
              "\n",
              "    <script>\n",
              "      const buttonEl =\n",
              "        document.querySelector('#df-aea0e829-9789-41c5-94c6-72c0916a19a7 button.colab-df-convert');\n",
              "      buttonEl.style.display =\n",
              "        google.colab.kernel.accessAllowed ? 'block' : 'none';\n",
              "\n",
              "      async function convertToInteractive(key) {\n",
              "        const element = document.querySelector('#df-aea0e829-9789-41c5-94c6-72c0916a19a7');\n",
              "        const dataTable =\n",
              "          await google.colab.kernel.invokeFunction('convertToInteractive',\n",
              "                                                    [key], {});\n",
              "        if (!dataTable) return;\n",
              "\n",
              "        const docLinkHtml = 'Like what you see? Visit the ' +\n",
              "          '<a target=\"_blank\" href=https://colab.research.google.com/notebooks/data_table.ipynb>data table notebook</a>'\n",
              "          + ' to learn more about interactive tables.';\n",
              "        element.innerHTML = '';\n",
              "        dataTable['output_type'] = 'display_data';\n",
              "        await google.colab.output.renderOutput(dataTable, element);\n",
              "        const docLink = document.createElement('div');\n",
              "        docLink.innerHTML = docLinkHtml;\n",
              "        element.appendChild(docLink);\n",
              "      }\n",
              "    </script>\n",
              "  </div>\n",
              "\n",
              "\n",
              "<div id=\"df-63a1a34b-7100-4f38-8b14-c3b50cc5eecb\">\n",
              "  <button class=\"colab-df-quickchart\" onclick=\"quickchart('df-63a1a34b-7100-4f38-8b14-c3b50cc5eecb')\"\n",
              "            title=\"Suggest charts\"\n",
              "            style=\"display:none;\">\n",
              "\n",
              "<svg xmlns=\"http://www.w3.org/2000/svg\" height=\"24px\"viewBox=\"0 0 24 24\"\n",
              "     width=\"24px\">\n",
              "    <g>\n",
              "        <path d=\"M19 3H5c-1.1 0-2 .9-2 2v14c0 1.1.9 2 2 2h14c1.1 0 2-.9 2-2V5c0-1.1-.9-2-2-2zM9 17H7v-7h2v7zm4 0h-2V7h2v10zm4 0h-2v-4h2v4z\"/>\n",
              "    </g>\n",
              "</svg>\n",
              "  </button>\n",
              "\n",
              "<style>\n",
              "  .colab-df-quickchart {\n",
              "      --bg-color: #E8F0FE;\n",
              "      --fill-color: #1967D2;\n",
              "      --hover-bg-color: #E2EBFA;\n",
              "      --hover-fill-color: #174EA6;\n",
              "      --disabled-fill-color: #AAA;\n",
              "      --disabled-bg-color: #DDD;\n",
              "  }\n",
              "\n",
              "  [theme=dark] .colab-df-quickchart {\n",
              "      --bg-color: #3B4455;\n",
              "      --fill-color: #D2E3FC;\n",
              "      --hover-bg-color: #434B5C;\n",
              "      --hover-fill-color: #FFFFFF;\n",
              "      --disabled-bg-color: #3B4455;\n",
              "      --disabled-fill-color: #666;\n",
              "  }\n",
              "\n",
              "  .colab-df-quickchart {\n",
              "    background-color: var(--bg-color);\n",
              "    border: none;\n",
              "    border-radius: 50%;\n",
              "    cursor: pointer;\n",
              "    display: none;\n",
              "    fill: var(--fill-color);\n",
              "    height: 32px;\n",
              "    padding: 0;\n",
              "    width: 32px;\n",
              "  }\n",
              "\n",
              "  .colab-df-quickchart:hover {\n",
              "    background-color: var(--hover-bg-color);\n",
              "    box-shadow: 0 1px 2px rgba(60, 64, 67, 0.3), 0 1px 3px 1px rgba(60, 64, 67, 0.15);\n",
              "    fill: var(--button-hover-fill-color);\n",
              "  }\n",
              "\n",
              "  .colab-df-quickchart-complete:disabled,\n",
              "  .colab-df-quickchart-complete:disabled:hover {\n",
              "    background-color: var(--disabled-bg-color);\n",
              "    fill: var(--disabled-fill-color);\n",
              "    box-shadow: none;\n",
              "  }\n",
              "\n",
              "  .colab-df-spinner {\n",
              "    border: 2px solid var(--fill-color);\n",
              "    border-color: transparent;\n",
              "    border-bottom-color: var(--fill-color);\n",
              "    animation:\n",
              "      spin 1s steps(1) infinite;\n",
              "  }\n",
              "\n",
              "  @keyframes spin {\n",
              "    0% {\n",
              "      border-color: transparent;\n",
              "      border-bottom-color: var(--fill-color);\n",
              "      border-left-color: var(--fill-color);\n",
              "    }\n",
              "    20% {\n",
              "      border-color: transparent;\n",
              "      border-left-color: var(--fill-color);\n",
              "      border-top-color: var(--fill-color);\n",
              "    }\n",
              "    30% {\n",
              "      border-color: transparent;\n",
              "      border-left-color: var(--fill-color);\n",
              "      border-top-color: var(--fill-color);\n",
              "      border-right-color: var(--fill-color);\n",
              "    }\n",
              "    40% {\n",
              "      border-color: transparent;\n",
              "      border-right-color: var(--fill-color);\n",
              "      border-top-color: var(--fill-color);\n",
              "    }\n",
              "    60% {\n",
              "      border-color: transparent;\n",
              "      border-right-color: var(--fill-color);\n",
              "    }\n",
              "    80% {\n",
              "      border-color: transparent;\n",
              "      border-right-color: var(--fill-color);\n",
              "      border-bottom-color: var(--fill-color);\n",
              "    }\n",
              "    90% {\n",
              "      border-color: transparent;\n",
              "      border-bottom-color: var(--fill-color);\n",
              "    }\n",
              "  }\n",
              "</style>\n",
              "\n",
              "  <script>\n",
              "    async function quickchart(key) {\n",
              "      const quickchartButtonEl =\n",
              "        document.querySelector('#' + key + ' button');\n",
              "      quickchartButtonEl.disabled = true;  // To prevent multiple clicks.\n",
              "      quickchartButtonEl.classList.add('colab-df-spinner');\n",
              "      try {\n",
              "        const charts = await google.colab.kernel.invokeFunction(\n",
              "            'suggestCharts', [key], {});\n",
              "      } catch (error) {\n",
              "        console.error('Error during call to suggestCharts:', error);\n",
              "      }\n",
              "      quickchartButtonEl.classList.remove('colab-df-spinner');\n",
              "      quickchartButtonEl.classList.add('colab-df-quickchart-complete');\n",
              "    }\n",
              "    (() => {\n",
              "      let quickchartButtonEl =\n",
              "        document.querySelector('#df-63a1a34b-7100-4f38-8b14-c3b50cc5eecb button');\n",
              "      quickchartButtonEl.style.display =\n",
              "        google.colab.kernel.accessAllowed ? 'block' : 'none';\n",
              "    })();\n",
              "  </script>\n",
              "</div>\n",
              "\n",
              "    </div>\n",
              "  </div>\n"
            ],
            "application/vnd.google.colaboratory.intrinsic+json": {
              "type": "dataframe",
              "variable_name": "df",
              "summary": "{\n  \"name\": \"df\",\n  \"rows\": 850,\n  \"fields\": [\n    {\n      \"column\": \"Sentiment\",\n      \"properties\": {\n        \"dtype\": \"number\",\n        \"std\": 0,\n        \"min\": 0,\n        \"max\": 1,\n        \"num_unique_values\": 2,\n        \"samples\": [\n          0,\n          1\n        ],\n        \"semantic_type\": \"\",\n        \"description\": \"\"\n      }\n    },\n    {\n      \"column\": \"Processed_Reviews\",\n      \"properties\": {\n        \"dtype\": \"string\",\n        \"num_unique_values\": 814,\n        \"samples\": [\n          \"I drive thru Barranca Ave West Covina Starbucks yesterday 3 40pm I pick 3 grande ice tea coach nearby high school baseball game I ask ring separately I tell limit 2 transaction drive thru Funny week earlier I order 4 separate order drive thru without trouble The car front 4 separate transaction I watch customer phone scan 4 separate time\",\n          \"I order trente Valencia orange drink ice give two one half cup fill drink When I tell right say manager tell do I would fill cup totally full ice drink go top cup The drink cost 4 25 get little drink ice cup Their lemon pound stale everyday one week\"\n        ],\n        \"semantic_type\": \"\",\n        \"description\": \"\"\n      }\n    }\n  ]\n}"
            }
          },
          "metadata": {},
          "execution_count": 44
        }
      ]
    },
    {
      "cell_type": "code",
      "source": [
        "# Examine one review\n",
        "df.loc[11,'Processed_Reviews']"
      ],
      "metadata": {
        "colab": {
          "base_uri": "https://localhost:8080/",
          "height": 55
        },
        "id": "KHecZkuF_oQd",
        "outputId": "ba8f2c62-d3c5-449f-977f-32b95c82aa4b"
      },
      "execution_count": 45,
      "outputs": [
        {
          "output_type": "execute_result",
          "data": {
            "text/plain": [
              "'Every time I try buy Strawberry Refresher Starbucks never strawberries put drink How drink call Strawberry Refresher guy never damn strawberry It seem every time go Starbucks order specialty drink guy constantly it It like call pizza place tell u cheese I give partial payment I expect partial drink'"
            ],
            "application/vnd.google.colaboratory.intrinsic+json": {
              "type": "string"
            }
          },
          "metadata": {},
          "execution_count": 45
        }
      ]
    },
    {
      "cell_type": "markdown",
      "source": [
        "## Create model input data"
      ],
      "metadata": {
        "id": "4QBurMSRbO5u"
      }
    },
    {
      "cell_type": "markdown",
      "source": [
        "Set 'Processed Reviews' as the independent variable and set 'Sentiment' as the target variable. Split the data into a training and test set.\n"
      ],
      "metadata": {
        "id": "G0BSp0o5bmrQ"
      }
    },
    {
      "cell_type": "code",
      "source": [
        "# Set X and y-variables\n",
        "X = df['Processed_Reviews']\n",
        "y = df['Sentiment']\n",
        "# Divide reviews into train and test sets with stratified sampling to handle underrepresented positive classes.\n",
        "X_train, X_test, y_train, y_test= train_test_split(X,y, train_size=0.8,\n",
        "                                                   random_state=11,\n",
        "                                                   shuffle=True)"
      ],
      "metadata": {
        "id": "K1e2N8LYoEfI"
      },
      "execution_count": 46,
      "outputs": []
    },
    {
      "cell_type": "markdown",
      "source": [
        "## Build the model\n",
        "\n",
        "Modeling will focus on using recurrent neural networks which are designed to deal with sequential data. The 3 models which will be built are:\n",
        "\n",
        "\n",
        "*   Recurrent Neural Network\n",
        "*   Long Short-Term Memory (LSTM)\n",
        "*   Transformer based model (BERT) for transfer learning\n",
        "\n",
        "\n",
        "In all the models, class weights were set in the model fitting step to account for the 4.5:1 inbalance in the negative to positive reviews."
      ],
      "metadata": {
        "id": "rNibKDrl3x3a"
      }
    },
    {
      "cell_type": "code",
      "source": [
        "# Find the length of the longest and shortest reviews, and the legnth of the average review.\n",
        "\n",
        "max_words = max(X_train.apply(lambda x: len(x)))\n",
        "min_words = min(X_train.apply(lambda x: len(x)))\n",
        "ave_words = int((max_words + min_words)/2)\n",
        "\n",
        "print('Max. length review (words): ', max_words)\n",
        "print('Min. length review (words): ', min_words)\n",
        "print('Ave. length review (words): ', ave_words)"
      ],
      "metadata": {
        "colab": {
          "base_uri": "https://localhost:8080/"
        },
        "id": "WowG3WH_XFFb",
        "outputId": "f2b6b3a8-3c6a-4db3-8fde-0247c320a9da"
      },
      "execution_count": 47,
      "outputs": [
        {
          "output_type": "stream",
          "name": "stdout",
          "text": [
            "Max. length review (words):  774\n",
            "Min. length review (words):  14\n",
            "Ave. length review (words):  394\n"
          ]
        }
      ]
    },
    {
      "cell_type": "markdown",
      "source": [
        "##Process the data\n"
      ],
      "metadata": {
        "id": "XPEeO9S1Yuih"
      }
    },
    {
      "cell_type": "markdown",
      "source": [
        "Create sequences of the reviews in the test and train dataframes then pad the sequences to make them the same length."
      ],
      "metadata": {
        "id": "igf86YnUZtPy"
      }
    },
    {
      "cell_type": "code",
      "source": [
        "# Tokenize the reviews\n",
        "# Create a tokenizer instance that is fit on training data only.\n",
        "tokenizer = Tokenizer()\n",
        "\n",
        "# Fir the tokenizer on the training data.\n",
        "tokenizer.fit_on_texts(X_train)\n",
        "\n",
        "# Find the size of the vocabulary of the training data\n",
        "vocab = len(tokenizer.word_index)\n",
        "\n",
        "# Create sequences of X_train and X_test\n",
        "X_train_seq = tokenizer.texts_to_sequences(X_train)\n",
        "X_test_seq = tokenizer.texts_to_sequences(X_test)"
      ],
      "metadata": {
        "id": "Kii16Na2gDGD"
      },
      "execution_count": 48,
      "outputs": []
    },
    {
      "cell_type": "markdown",
      "source": [
        "Neural networks require that their inputs have the same shape and size but the text entries have various lengths. Padding is done to ensure the sequences all have the same length. This is done by defining the maximum number of words for the input. Sentences which are longer will have some words dropped to match the maximum number of words. Sentences which are shorter will have zeros added to their sequences to match the maximum number of words."
      ],
      "metadata": {
        "id": "_669IOu-SXuC"
      }
    },
    {
      "cell_type": "code",
      "source": [
        "# Pad the sequences\n",
        "X_train_pad = pad_sequences(X_train_seq, maxlen = ave_words)\n",
        "X_test_pad = pad_sequences(X_test_seq, maxlen = ave_words)"
      ],
      "metadata": {
        "id": "4dYtUeB80UBq"
      },
      "execution_count": 49,
      "outputs": []
    },
    {
      "cell_type": "markdown",
      "source": [
        "##Model Evaluation Plots\n",
        "\n",
        "Two plots will be used to evaluate the performance of the models; a plot for training and validation accuracy across epochs and a plot of training and validation loss across epochs. The Receiver Operator Characteristic Curve (ROC) was also used to show the performance of the binary classifier model."
      ],
      "metadata": {
        "id": "Cn7xubhJ-0ES"
      }
    },
    {
      "cell_type": "code",
      "source": [
        "# Create a function that plots accuracy and loss\n",
        "def plot_history(hist):\n",
        "  # Store the aacuracy and loss for the training and validation sets in variables\n",
        "  acc = hist.history['accuracy']\n",
        "  val_acc = hist.history['val_accuracy']\n",
        "  loss = hist.history['loss']\n",
        "  val_loss = hist.history['val_loss']\n",
        "\n",
        "  # Set number of epoch\n",
        "  epochs = range(1,len(acc)+1)\n",
        "\n",
        "  # Create the a 2-figure subplot\n",
        "  fig, ax = plt.subplots(1,2, figsize = (15,5))\n",
        "\n",
        "  # Plot the accuracy and loss of tainng and test data and label plots.\n",
        "  ax[0].plot(epochs, acc, 'b', marker = 'o', label = 'Training accuracy')\n",
        "  ax[0].plot(epochs, val_acc, 'g', label = 'Validation accuracy')\n",
        "  ax[0].set_title('Training and validation accuracy')\n",
        "  ax[0].set_xlabel('Epochs')\n",
        "  ax[0].set_ylabel('Accuracy')\n",
        "  ax[0].set_ylim(0, 1)\n",
        "  ax[0].legend()\n",
        "  ax[1].plot(epochs, loss, 'b', marker = 'o', label = 'Training loss')\n",
        "  ax[1].plot(epochs, val_loss, 'g', label = 'Validation loss')\n",
        "  ax[1].set_title('Training and validation loss')\n",
        "  ax[1].set_xlabel('Epochs')\n",
        "  ax[1].set_ylabel('Loss')\n",
        "  ax[1].legend()\n",
        "  plt.show()"
      ],
      "metadata": {
        "id": "yRctbvl-0T9N"
      },
      "execution_count": 50,
      "outputs": []
    },
    {
      "cell_type": "code",
      "source": [
        "# Create a function that plots ROC curve\n",
        "def plot_roc(yte, predictions):\n",
        "  fpr, tpr, thresholds = roc_curve(yte, predictions)\n",
        "  roc_auc = auc(fpr, tpr)\n",
        "  plt.plot(fpr, tpr, label = 'ROC curve (area = %0.2f)' % roc_auc)\n",
        "  plt.xlabel('False Positive Rate')\n",
        "  plt.ylabel('True Positive Rate')\n",
        "  plt.title('ROC')\n",
        "  plt.legend(loc = 'lower right')"
      ],
      "metadata": {
        "id": "J4141RahRxVZ"
      },
      "execution_count": 51,
      "outputs": []
    },
    {
      "cell_type": "code",
      "source": [
        "# Check X_train_pad's shape\n",
        "X_train_pad.shape"
      ],
      "metadata": {
        "colab": {
          "base_uri": "https://localhost:8080/"
        },
        "id": "mZH_daDhB5jO",
        "outputId": "ceb4e9a4-8cda-466f-9276-327bee20c876"
      },
      "execution_count": 52,
      "outputs": [
        {
          "output_type": "execute_result",
          "data": {
            "text/plain": [
              "(680, 394)"
            ]
          },
          "metadata": {},
          "execution_count": 52
        }
      ]
    },
    {
      "cell_type": "code",
      "source": [
        "# Check y_train's shape\n",
        "y_train.shape"
      ],
      "metadata": {
        "colab": {
          "base_uri": "https://localhost:8080/"
        },
        "id": "qj17Suy0B6lB",
        "outputId": "24545bbf-a657-44c9-8f58-148aeecd43f4"
      },
      "execution_count": 53,
      "outputs": [
        {
          "output_type": "execute_result",
          "data": {
            "text/plain": [
              "(680,)"
            ]
          },
          "metadata": {},
          "execution_count": 53
        }
      ]
    },
    {
      "cell_type": "code",
      "source": [
        "# Check vocabulary size\n",
        "vocab"
      ],
      "metadata": {
        "colab": {
          "base_uri": "https://localhost:8080/"
        },
        "id": "napvDqXADKL1",
        "outputId": "f9394cd8-20c2-4817-c05f-6633d9c531f7"
      },
      "execution_count": 54,
      "outputs": [
        {
          "output_type": "execute_result",
          "data": {
            "text/plain": [
              "4475"
            ]
          },
          "metadata": {},
          "execution_count": 54
        }
      ]
    },
    {
      "cell_type": "markdown",
      "source": [
        "# Recurrent Neural Network\n",
        "---\n",
        "A simple recurrent neural network (RNN) was first built as this type of model is intended for sequential data processing which is important for the structure of sentences. The RNN's feedback loop allows information to be held or remembered with the network, capturing depenences and context in text.\n",
        "\n",
        " The model was built with the following layers: embedding, simple RNN layer  with 64 units, a dropout layer which sets 25% of the inputes to 0, and a dense layer which calculates the output using a Sigmoid activation function.\n",
        "\n",
        " The Adam optimizer function was used due to its robustness to the choice of hyperparameters used. The binary cross entropy function was used for measuring loss."
      ],
      "metadata": {
        "id": "IU0aobx0AEo3"
      }
    },
    {
      "cell_type": "code",
      "source": [
        "# Create a function that builds the model\n",
        "def rnn_model(vocab, em_output_dim, Xtr, ytr, Xte,yte):\n",
        "  # Create a simple RNN instance\n",
        "  simple_rnn = Sequential(name = \"Simple_RNN\")\n",
        "\n",
        "  #Add an embedding layer with inputs = vocab size + 1 and output dimension\n",
        "  simple_rnn.add(Embedding(\\\n",
        "                           input_dim = vocab+1,\\\n",
        "                           output_dim = em_output_dim))\n",
        "\n",
        "  # Add another layer  with ReLu as the activation function\n",
        "  simple_rnn.add(SimpleRNN(\\\n",
        "                           64))\n",
        "\n",
        "  # Add a layer for dropping out layer for randomply setting inputs units to 0\n",
        "  simple_rnn.add(Dropout(0.25))\n",
        "\n",
        "  # Add a dense layer that takes input, weights and bias, computes dot products\n",
        "  # and pass results elemnt wise into the activation function\n",
        "  simple_rnn.add(\\\n",
        "                 Dense(1,\n",
        "                 activation = 'sigmoid'))\n",
        "  # Configure the model to use adam optimizer, binary cross entropy as the\n",
        "  # loss function and accuracy as the model evaluation metric.\n",
        "  simple_rnn.compile(\\\n",
        "                     optimizer = 'adam',\\\n",
        "                     loss = 'binary_crossentropy',\\\n",
        "                     metrics = ['accuracy'])\n",
        "\n",
        "  # Build the model by fitting it on training data. Set class weights to account\n",
        "  # for inbalance in the data.\n",
        "  history = simple_rnn.fit(\\\n",
        "                           Xtr,\\\n",
        "                           np.array(ytr),\\\n",
        "                           validation_split = 0.1,\\\n",
        "                           epochs = 10,\\\n",
        "                           verbose = 1,\\\n",
        "                           class_weight = {0:1, 1:4.5})\n",
        "\n",
        "  # Convert the test data to a numpy array\n",
        "  yte = np.array(yte)\n",
        "\n",
        "  # Evaluate the model performance on the test data\n",
        "  test_eval = simple_rnn.evaluate(Xte, yte)\n",
        "\n",
        " # Calculate and store model predictions for plotting the ROC curve.\n",
        "  predictions = simple_rnn.predict(Xte)\n",
        "\n",
        "  # Print the model summary\n",
        "  print(simple_rnn.summary())\n",
        "\n",
        "  # Plot the models training and validation loss and accuracy\n",
        "  plot_history(hist = history)\n",
        "\n",
        "  # Plot the models ROC curve\n",
        "  plot_roc(yte, predictions)\n",
        "\n",
        "  # Print the loss and accuracy values for the model in test mode.\n",
        "  print(\"Test Loss: \", round(test_eval[0],2))\n",
        "  print(\"Test Accuracy: \", round(test_eval[1], 2))\n",
        "\n",
        "  # Return the mode, its history and loss and accuracy values from\n",
        "  # test mode.\n",
        "  return simple_rnn, history, test_eval"
      ],
      "metadata": {
        "id": "n8pdUUno0T_E"
      },
      "execution_count": 55,
      "outputs": []
    },
    {
      "cell_type": "code",
      "source": [
        "# Use simple neural network with training and test data and embedding layer\n",
        "# output dimension size of 632\n",
        "model, history, test_eval = rnn_model(vocab, 32, X_train_pad, y_train, X_test_pad, y_test)"
      ],
      "metadata": {
        "id": "0gvkfUSI0T7v",
        "colab": {
          "base_uri": "https://localhost:8080/",
          "height": 1000
        },
        "outputId": "e43f75f4-250b-4569-b13c-1c79fde71331"
      },
      "execution_count": 56,
      "outputs": [
        {
          "output_type": "stream",
          "name": "stdout",
          "text": [
            "Epoch 1/10\n",
            "20/20 [==============================] - 5s 149ms/step - loss: 1.1227 - accuracy: 0.6389 - val_loss: 0.7121 - val_accuracy: 0.4118\n",
            "Epoch 2/10\n",
            "20/20 [==============================] - 3s 158ms/step - loss: 0.8942 - accuracy: 0.6732 - val_loss: 0.6749 - val_accuracy: 0.6176\n",
            "Epoch 3/10\n",
            "20/20 [==============================] - 2s 103ms/step - loss: 0.5501 - accuracy: 0.9003 - val_loss: 0.6352 - val_accuracy: 0.6618\n",
            "Epoch 4/10\n",
            "20/20 [==============================] - 2s 100ms/step - loss: 0.2319 - accuracy: 0.9853 - val_loss: 0.6413 - val_accuracy: 0.6176\n",
            "Epoch 5/10\n",
            "20/20 [==============================] - 2s 102ms/step - loss: 0.1710 - accuracy: 0.9902 - val_loss: 0.5906 - val_accuracy: 0.6471\n",
            "Epoch 6/10\n",
            "20/20 [==============================] - 2s 100ms/step - loss: 0.0759 - accuracy: 0.9984 - val_loss: 0.6093 - val_accuracy: 0.6471\n",
            "Epoch 7/10\n",
            "20/20 [==============================] - 3s 128ms/step - loss: 0.0728 - accuracy: 0.9869 - val_loss: 1.0437 - val_accuracy: 0.5735\n",
            "Epoch 8/10\n",
            "20/20 [==============================] - 3s 174ms/step - loss: 0.0458 - accuracy: 0.9984 - val_loss: 1.1200 - val_accuracy: 0.5882\n",
            "Epoch 9/10\n",
            "20/20 [==============================] - 2s 100ms/step - loss: 0.0233 - accuracy: 0.9984 - val_loss: 0.8826 - val_accuracy: 0.6176\n",
            "Epoch 10/10\n",
            "20/20 [==============================] - 2s 99ms/step - loss: 0.0157 - accuracy: 0.9984 - val_loss: 1.0212 - val_accuracy: 0.5735\n",
            "6/6 [==============================] - 0s 20ms/step - loss: 0.7901 - accuracy: 0.6647\n",
            "6/6 [==============================] - 0s 21ms/step\n",
            "Model: \"Simple_RNN\"\n",
            "_________________________________________________________________\n",
            " Layer (type)                Output Shape              Param #   \n",
            "=================================================================\n",
            " embedding_2 (Embedding)     (None, None, 32)          143232    \n",
            "                                                                 \n",
            " simple_rnn_1 (SimpleRNN)    (None, 64)                6208      \n",
            "                                                                 \n",
            " dropout_2 (Dropout)         (None, 64)                0         \n",
            "                                                                 \n",
            " dense_2 (Dense)             (None, 1)                 65        \n",
            "                                                                 \n",
            "=================================================================\n",
            "Total params: 149505 (584.00 KB)\n",
            "Trainable params: 149505 (584.00 KB)\n",
            "Non-trainable params: 0 (0.00 Byte)\n",
            "_________________________________________________________________\n",
            "None\n"
          ]
        },
        {
          "output_type": "display_data",
          "data": {
            "text/plain": [
              "<Figure size 1500x500 with 2 Axes>"
            ],
            "image/png": "[encoded data removed]"
          },
          "metadata": {}
        },
        {
          "output_type": "stream",
          "name": "stdout",
          "text": [
            "Test Loss:  0.79\n",
            "Test Accuracy:  0.66\n"
          ]
        },
        {
          "output_type": "display_data",
          "data": {
            "text/plain": [
              "<Figure size 640x480 with 1 Axes>"
            ],
            "image/png": "[encoded data removed]"
          },
          "metadata": {}
        }
      ]
    },
    {
      "cell_type": "markdown",
      "source": [
        "The Simple RNN was able to achieve 99 % accuracy by the 8th epoch. However the validation accuracy was 57%. The training loss reached near 0 but was over 1 for the validation data set. The area under the ROC curve (AUC) was 0.71. The accuracy of the model on the test data was also 66.4%. This Simple RNN overfit on the training data leading to a decrease in accuracy and increase in loss in its performance on the validation and test data."
      ],
      "metadata": {
        "id": "n5iEMq1YsVRP"
      }
    },
    {
      "cell_type": "markdown",
      "source": [
        "# LSTM Model\n",
        "---\n",
        "A Long Short-Term Memory (LSTM) model was built to improve on the RNN's performance because of its ability to capture longer range dependencies with its more complex structure. Its cells can be used to selectively remember or forget information which again is helpful for classifications that use sentences as input.\n",
        "\n",
        " The model was built with the following layers which werre similar to the RNN: embedding, bidirectional LSTM layer with 64 units, a dropout layer which sets 25% of the inputes to 0, and a dense layer which calculates the output using a Sigmoid activation function. The bidirectional layer was used to improve classification by not only using past information (earlier in a sentence) to inform future context, but to also use future information (further down in a sentence) to inform earlier context."
      ],
      "metadata": {
        "id": "ogCanM6o_HZn"
      }
    },
    {
      "cell_type": "code",
      "source": [
        "# Create a function that builds the model\n",
        "def lstm_model(vocab, em_output_dim, Xtr, ytr, Xte,yte):\n",
        "  # Create a simple RNN instance\n",
        "  lstm_rnn = Sequential(name = \"LSTM\")\n",
        "\n",
        "  #Add an embedding layer with inputs = vocab size + 1 and output dimension\n",
        "  lstm_rnn.add(Embedding(\\\n",
        "                           input_dim = vocab+1,\\\n",
        "                           output_dim = em_output_dim))\n",
        "\n",
        "  # Add another layer  with ReLu as the activation function\n",
        "  lstm_rnn.add(Bidirectional(LSTM(64)))\n",
        "\n",
        "  # Add a layer for dropping out layer for randomply setting inputs units to 0\n",
        "  lstm_rnn.add(Dropout(0.25))\n",
        "\n",
        "  # Add a dense layer that takes input, weights and bias, computes dot products\n",
        "  # and pass results elemnt wise into the activation function\n",
        "  lstm_rnn.add(\\\n",
        "                 Dense(1,\n",
        "                 activation = 'sigmoid'))\n",
        "  # Configure the model to use adam optimizer, binary cross entropy as the\n",
        "  # loss function and accuracy as the model evaluation metric.\n",
        "  lstm_rnn.compile(\\\n",
        "                     optimizer = 'adam',\\\n",
        "                     loss = 'binary_crossentropy',\\\n",
        "                     metrics = ['accuracy'])\n",
        "\n",
        "  # Build the model by fitting it on training data. Set class weights to account\n",
        "  # for inbalance in the data.\n",
        "  history = lstm_rnn.fit(\\\n",
        "                           Xtr,\\\n",
        "                           np.array(ytr),\\\n",
        "                           validation_split = 0.1,\\\n",
        "                           epochs = 10,\\\n",
        "                           verbose = 1,\\\n",
        "                           class_weight = {0:1, 1:4.5})\n",
        "\n",
        "  # Convert the test data to a numpy array\n",
        "  yte = np.array(yte)\n",
        "\n",
        "  # Evaluate the model performance on the test data\n",
        "  test_eval = lstm_rnn.evaluate(Xte, yte)\n",
        "\n",
        " # Calculate and store model predictions for plotting the ROC curve.\n",
        "  predictions = lstm_rnn.predict(Xte)\n",
        "\n",
        "  # Print the model summary\n",
        "  print(lstm_rnn.summary())\n",
        "\n",
        "  # Plot the models training and validation loss and accuracy\n",
        "  plot_history(hist = history)\n",
        "\n",
        "  # Plot the models ROC curve\n",
        "  plot_roc(yte, predictions)\n",
        "\n",
        "  # Print the loss and accuracy values for the model in test mode.\n",
        "  print(\"Test Loss: \", round(test_eval[0], 2))\n",
        "  print(\"Test Accuracy: \", round(test_eval[1], 2))\n",
        "\n",
        "  # Return the mode, its history and loss and accuracy values from\n",
        "  # test mode.\n",
        "  return lstm_rnn, history, test_eval"
      ],
      "metadata": {
        "id": "XK0R0BVY0T47"
      },
      "execution_count": 57,
      "outputs": []
    },
    {
      "cell_type": "code",
      "source": [
        "# Use a bidirectional lstm model with training and test data and embedding layer\n",
        "# output dimension size of 32\n",
        "model, history, test_eval = lstm_model(vocab, 32, X_train_pad, y_train, X_test_pad, y_test)"
      ],
      "metadata": {
        "id": "3H1ExHjE0T3T",
        "colab": {
          "base_uri": "https://localhost:8080/",
          "height": 1000
        },
        "outputId": "6910d185-1bb9-468d-bebd-8c1745700647"
      },
      "execution_count": 58,
      "outputs": [
        {
          "output_type": "stream",
          "name": "stdout",
          "text": [
            "Epoch 1/10\n",
            "20/20 [==============================] - 14s 459ms/step - loss: 1.1138 - accuracy: 0.3529 - val_loss: 0.6766 - val_accuracy: 0.7647\n",
            "Epoch 2/10\n",
            "20/20 [==============================] - 9s 472ms/step - loss: 1.0847 - accuracy: 0.8268 - val_loss: 0.5995 - val_accuracy: 0.7794\n",
            "Epoch 3/10\n",
            "20/20 [==============================] - 7s 357ms/step - loss: 0.9029 - accuracy: 0.9199 - val_loss: 0.5962 - val_accuracy: 0.8235\n",
            "Epoch 4/10\n",
            "20/20 [==============================] - 9s 464ms/step - loss: 0.6722 - accuracy: 0.9379 - val_loss: 0.4224 - val_accuracy: 0.7941\n",
            "Epoch 5/10\n",
            "20/20 [==============================] - 7s 357ms/step - loss: 0.3581 - accuracy: 0.9526 - val_loss: 0.4581 - val_accuracy: 0.7647\n",
            "Epoch 6/10\n",
            "20/20 [==============================] - 9s 453ms/step - loss: 0.1673 - accuracy: 0.9902 - val_loss: 0.3155 - val_accuracy: 0.8824\n",
            "Epoch 7/10\n",
            "20/20 [==============================] - 8s 416ms/step - loss: 0.0599 - accuracy: 0.9951 - val_loss: 0.3770 - val_accuracy: 0.8676\n",
            "Epoch 8/10\n",
            "20/20 [==============================] - 10s 468ms/step - loss: 0.0311 - accuracy: 1.0000 - val_loss: 0.4164 - val_accuracy: 0.8382\n",
            "Epoch 9/10\n",
            "20/20 [==============================] - 9s 441ms/step - loss: 0.0272 - accuracy: 0.9984 - val_loss: 0.4507 - val_accuracy: 0.8382\n",
            "Epoch 10/10\n",
            "20/20 [==============================] - 8s 368ms/step - loss: 0.0160 - accuracy: 1.0000 - val_loss: 0.4404 - val_accuracy: 0.8676\n",
            "6/6 [==============================] - 1s 85ms/step - loss: 0.5259 - accuracy: 0.8529\n",
            "6/6 [==============================] - 1s 80ms/step\n",
            "Model: \"LSTM\"\n",
            "_________________________________________________________________\n",
            " Layer (type)                Output Shape              Param #   \n",
            "=================================================================\n",
            " embedding_3 (Embedding)     (None, None, 32)          143232    \n",
            "                                                                 \n",
            " bidirectional_1 (Bidirecti  (None, 128)               49664     \n",
            " onal)                                                           \n",
            "                                                                 \n",
            " dropout_3 (Dropout)         (None, 128)               0         \n",
            "                                                                 \n",
            " dense_3 (Dense)             (None, 1)                 129       \n",
            "                                                                 \n",
            "=================================================================\n",
            "Total params: 193025 (754.00 KB)\n",
            "Trainable params: 193025 (754.00 KB)\n",
            "Non-trainable params: 0 (0.00 Byte)\n",
            "_________________________________________________________________\n",
            "None\n"
          ]
        },
        {
          "output_type": "display_data",
          "data": {
            "text/plain": [
              "<Figure size 1500x500 with 2 Axes>"
            ],
            "image/png": "[encoded data removed]"
          },
          "metadata": {}
        },
        {
          "output_type": "stream",
          "name": "stdout",
          "text": [
            "Test Loss:  0.53\n",
            "Test Accuracy:  0.85\n"
          ]
        },
        {
          "output_type": "display_data",
          "data": {
            "text/plain": [
              "<Figure size 640x480 with 1 Axes>"
            ],
            "image/png": "[encoded data removed]"
          },
          "metadata": {}
        }
      ]
    },
    {
      "cell_type": "markdown",
      "source": [
        "Similar to the Simple RNN, the model is over fitting. This is shown by how the training accuracy is better than the validation accuracy. However, the gap in accuracies between training and validation data is less than in the Simple RNN case. A similar trend was seen in the training and validation loss where an improvement was seen over the simple RNN. The test accuracy and loss, 85% and 0.53 also improved over over the RNN and well as the AUC (0.80)."
      ],
      "metadata": {
        "id": "MfvzgOhXxxfB"
      }
    },
    {
      "cell_type": "markdown",
      "source": [
        "# Transfer Learning Model\n",
        "---\n",
        "Finally, we attempt to use the concept of transfer learning to improve on the performance of the prior two models. We used a pre-trained Bidirectional Encoder Representations from Transformers (BERT) model from TensorFlow Hub and added layers used from previous models.\n",
        "\n",
        "The following layers were used: input layer, BERT preprocessing layer, BERT encoder layer, dropout layer that sets 25% of inputs to 0, a dense layer for the Sigmoid activation function."
      ],
      "metadata": {
        "id": "_wrM6JdnJKmr"
      }
    },
    {
      "cell_type": "code",
      "source": [
        "# Create a function for  building the transfer model based\n",
        "# on https://www.tensorflow.org/text/tutorials/classify_text_with_bert\n",
        "def transfer_model(Xtr, ytr, Xte,yte):\n",
        "  # Save preprocessor and encoder urls\n",
        "  tfhub_handle_preprocess =\\\n",
        "  'https://tfhub.dev/tensorflow/bert_en_uncased_preprocess/3'\n",
        "\n",
        "  tfhub_handle_encoder =\\\n",
        "   'https://tfhub.dev/tensorflow/small_bert/bert_en_uncased_L-4_H-512_A-8/1'\n",
        "\n",
        "  # Create the input layer to feed into Bert's preprocessing model, leave\n",
        "  # shape empty to accomodate what the Bert model uses\n",
        "  review_input = tensorflow.keras.layers.Input(shape= (),\\\n",
        "                                       dtype=tensorflow.string, name='review_input')\n",
        "\n",
        "  # Create the preprocessing layer\n",
        "  preprocessing_layer = hub.KerasLayer(tfhub_handle_preprocess, name='preprocessing')\n",
        "\n",
        "  # Process the input through the processing later\n",
        "  encoder_inputs = preprocessing_layer(review_input)\n",
        "\n",
        "  # Create the encoder layer\n",
        "  encoder = hub.KerasLayer(tfhub_handle_encoder, name='BERT_encoder')\n",
        "\n",
        "  # Create the BERT output by feeding  the preprocessing output into the encoder\n",
        "  # layer\n",
        "  outputs = encoder(encoder_inputs)\n",
        "\n",
        "  # Create a layer that collects the pooled_output from BERT's final layer\n",
        "  layer = outputs['pooled_output']\n",
        "\n",
        "  # Add a dropout layer to prevent overfitting\n",
        "  layer = tensorflow.keras.layers.Dropout(0.25, name = 'dropout')(layer)\n",
        "\n",
        "  # Add a dense layer to computer the final classification output using sigmoid\n",
        "  # as the activation function\n",
        "  layer = tensorflow.keras.layers.Dense\\\n",
        "   (1, activation = 'sigmoid', name = 'classifier')(layer)\n",
        "\n",
        "  # Construct the final model\n",
        "  trans_model = tensorflow.keras.Model(review_input, outputs = layer)\n",
        "\n",
        "\n",
        "  #Configure the model to use adam optimizer, binary cross entropy as the\n",
        "  # loss function and accuracy as the model evaluation metric.\n",
        "  trans_model.compile(\\\n",
        "                     optimizer = 'adam',\\\n",
        "                     loss = 'binary_crossentropy',\\\n",
        "                     metrics = ['accuracy'])\n",
        "\n",
        "  # Build the model by fitting it on training data. Set class weights to account\n",
        "  # for inbalance in the data.\n",
        "  history = trans_model.fit(\\\n",
        "                           X_train,\\\n",
        "                           np.array(y_train),\\\n",
        "                           validation_split = 0.1,\\\n",
        "                           epochs = 10,\\\n",
        "                           verbose = 1,\\\n",
        "                           class_weight = {0:1, 1:4.5})\n",
        "\n",
        "  # Convert the test data to a numpy array\n",
        "  yte = np.array(yte)\n",
        "\n",
        "  # Evaluate the model performance on the test data\n",
        "  test_eval = trans_model.evaluate(Xte, yte)\n",
        "\n",
        " # Calculate and store model predictions for plotting the ROC curve.\n",
        "  predictions = trans_model.predict(Xte)\n",
        "\n",
        "  # Print the model summary\n",
        "  print(trans_model.summary())\n",
        "\n",
        "  # Plot the models training and validation loss and accuracy\n",
        "  plot_history(hist = history)\n",
        "\n",
        "  # Plot the models ROC curve\n",
        "  plot_roc(yte, predictions)\n",
        "\n",
        "  # Print the loss and accuracy values for the model in test mode.\n",
        "  print(\"Test Loss: \", round(test_eval[0], 2))\n",
        "  print(\"Test Accuracy: \", round(test_eval[1], 2))"
      ],
      "metadata": {
        "id": "jbEH6Lwj5B1h"
      },
      "execution_count": 63,
      "outputs": []
    },
    {
      "cell_type": "code",
      "source": [
        "transfer_model(X_train, y_train, X_test, y_test)"
      ],
      "metadata": {
        "colab": {
          "base_uri": "https://localhost:8080/",
          "height": 1000
        },
        "id": "x2Sx7bYTrjg8",
        "outputId": "ab505520-7f7b-4952-b94d-b9294414693b"
      },
      "execution_count": 64,
      "outputs": [
        {
          "output_type": "stream",
          "name": "stdout",
          "text": [
            "Epoch 1/10\n",
            "20/20 [==============================] - 72s 3s/step - loss: 1.1247 - accuracy: 0.5605 - val_loss: 0.5926 - val_accuracy: 0.7059\n",
            "Epoch 2/10\n",
            "20/20 [==============================] - 65s 3s/step - loss: 1.0409 - accuracy: 0.6618 - val_loss: 0.5565 - val_accuracy: 0.7059\n",
            "Epoch 3/10\n",
            "20/20 [==============================] - 66s 3s/step - loss: 0.9759 - accuracy: 0.6618 - val_loss: 0.5292 - val_accuracy: 0.7353\n",
            "Epoch 4/10\n",
            "20/20 [==============================] - 64s 3s/step - loss: 0.9297 - accuracy: 0.7320 - val_loss: 0.4981 - val_accuracy: 0.8088\n",
            "Epoch 5/10\n",
            "20/20 [==============================] - 61s 3s/step - loss: 0.8988 - accuracy: 0.7222 - val_loss: 0.4947 - val_accuracy: 0.7941\n",
            "Epoch 6/10\n",
            "20/20 [==============================] - 60s 3s/step - loss: 0.8799 - accuracy: 0.6928 - val_loss: 0.4495 - val_accuracy: 0.8235\n",
            "Epoch 7/10\n",
            "20/20 [==============================] - 64s 3s/step - loss: 0.8835 - accuracy: 0.7827 - val_loss: 0.4736 - val_accuracy: 0.8235\n",
            "Epoch 8/10\n",
            "20/20 [==============================] - 65s 3s/step - loss: 0.8173 - accuracy: 0.7876 - val_loss: 0.4561 - val_accuracy: 0.8382\n",
            "Epoch 9/10\n",
            "20/20 [==============================] - 60s 3s/step - loss: 0.7979 - accuracy: 0.7696 - val_loss: 0.4280 - val_accuracy: 0.8529\n",
            "Epoch 10/10\n",
            "20/20 [==============================] - 66s 3s/step - loss: 0.7839 - accuracy: 0.8072 - val_loss: 0.4204 - val_accuracy: 0.8382\n",
            "6/6 [==============================] - 15s 2s/step - loss: 0.4324 - accuracy: 0.8471\n",
            "6/6 [==============================] - 15s 2s/step\n",
            "Model: \"model\"\n",
            "__________________________________________________________________________________________________\n",
            " Layer (type)                Output Shape                 Param #   Connected to                  \n",
            "==================================================================================================\n",
            " review_input (InputLayer)   [(None,)]                    0         []                            \n",
            "                                                                                                  \n",
            " preprocessing (KerasLayer)  {'input_mask': (None, 128)   0         ['review_input[0][0]']        \n",
            "                             , 'input_type_ids': (None,                                           \n",
            "                              128),                                                               \n",
            "                              'input_word_ids': (None,                                            \n",
            "                             128)}                                                                \n",
            "                                                                                                  \n",
            " BERT_encoder (KerasLayer)   {'encoder_outputs': [(None   2876364   ['preprocessing[0][0]',       \n",
            "                             , 128, 512),                 9          'preprocessing[0][1]',       \n",
            "                              (None, 128, 512),                      'preprocessing[0][2]']       \n",
            "                              (None, 128, 512),                                                   \n",
            "                              (None, 128, 512)],                                                  \n",
            "                              'default': (None, 512),                                             \n",
            "                              'sequence_output': (None,                                           \n",
            "                              128, 512),                                                          \n",
            "                              'pooled_output': (None, 5                                           \n",
            "                             12)}                                                                 \n",
            "                                                                                                  \n",
            " dropout (Dropout)           (None, 512)                  0         ['BERT_encoder[0][5]']        \n",
            "                                                                                                  \n",
            " classifier (Dense)          (None, 1)                    513       ['dropout[0][0]']             \n",
            "                                                                                                  \n",
            "==================================================================================================\n",
            "Total params: 28764162 (109.73 MB)\n",
            "Trainable params: 513 (2.00 KB)\n",
            "Non-trainable params: 28763649 (109.72 MB)\n",
            "__________________________________________________________________________________________________\n",
            "None\n"
          ]
        },
        {
          "output_type": "display_data",
          "data": {
            "text/plain": [
              "<Figure size 1500x500 with 2 Axes>"
            ],
            "image/png": "[encoded data removed]"
          },
          "metadata": {}
        },
        {
          "output_type": "stream",
          "name": "stdout",
          "text": [
            "Test Loss:  0.43\n",
            "Test Accuracy:  0.85\n"
          ]
        },
        {
          "output_type": "display_data",
          "data": {
            "text/plain": [
              "<Figure size 640x480 with 1 Axes>"
            ],
            "image/png": "[encoded data removed]"
          },
          "metadata": {}
        }
      ]
    },
    {
      "cell_type": "markdown",
      "source": [
        "In the BERT output, the validation dataset performed better than the training data in terms of accuracy and loss.\n",
        "\n",
        "The behavior seen where the model performs better on the test set than the training set has been thought to be due to the dropout layer. During training the dropout layer sets 25% of input weights to 0 to avoid overfitting. However, during test, all weights are available which may lead to better performance since all features are now available for the prediction. This behavior was not observed in the RNN and LSTM model. This might be because these models' architectures were still not as good at understanding context as the transfer model.\n",
        "\n",
        "The test accuracy (85%) and loss (0.43) were better than the training and validation accuracy and loss. It's performance was comparable to the LSTM model although the transfer model's AUC was 0.87 (better than LSTM). It's ability to improve performance in validation and test could be an indication that it is less likely to overfit than the Simple RNN and LSTM models.\n",
        "\n",
        "The LSTM model was selected as the best model for future analysis because 1) it performed as well as transfer learning model in the test dataset and 2) it is a less complex and smaller model in size. It achieved above 80% accuracy which was the target accuracy for the project."
      ],
      "metadata": {
        "id": "gx5ciDbF0wfa"
      }
    },
    {
      "cell_type": "markdown",
      "source": [
        "## Hyperparameter Tuning\n",
        "Keras was used to perform hyperparameter tuning. The dropout rate and learning rate for the Adam optimizer were turned."
      ],
      "metadata": {
        "id": "3FFk2qyT0mFJ"
      }
    },
    {
      "cell_type": "code",
      "source": [
        "# Build hyperparameter tuning\n",
        "def build_model(hp):\n",
        "  # Create a simple RNN instance\n",
        "  lstm_rnn = Sequential(name = \"LSTM\")\n",
        "\n",
        "  #Add an embedding layer with inputs = vocab size + 1 and output dimension\n",
        "  lstm_rnn.add(Embedding(\\\n",
        "                           input_dim = vocab+1,\\\n",
        "                           output_dim = 32))\n",
        "\n",
        "  # Add another layer  with ReLu as the activation function\n",
        "  lstm_rnn.add(Bidirectional(LSTM(64)))\n",
        "\n",
        "  # Create dropout hyperparameters\n",
        "  hp_dropout = hp.Choice('dropout', values = [0.05, 0.25, 0.50])\n",
        "\n",
        "  # Create learning rate hyperparameters\n",
        "  hp_learning_rate = hp.Float\\\n",
        "   ('learning_rate', min_value = 1e-4, max_value =1e-0, sampling = 'log')\n",
        "\n",
        "  # Add a layer for dropping out layer for randomply setting inputs units to 0\n",
        "  lstm_rnn.add(Dropout(hp_dropout))\n",
        "\n",
        "  # Add a dense layer that takes input, weights and bias, computes dot products\n",
        "  # and pass results elemnt wise into the activation function\n",
        "  lstm_rnn.add(\\\n",
        "                 Dense(1,\n",
        "                 activation = 'sigmoid'))\n",
        "  # Configure the model to use adam optimizer, binary cross entropy as the\n",
        "  # loss function and accuracy as the model evaluation metric.\n",
        "  lstm_rnn.compile(\\\n",
        "                     optimizer=tensorflow.keras.optimizers.Adam(hp_learning_rate),\\\n",
        "                     loss = 'binary_crossentropy',\\\n",
        "                     metrics = ['accuracy'])\n",
        "  return lstm_rnn"
      ],
      "metadata": {
        "id": "455iTfaPzRSe"
      },
      "execution_count": 65,
      "outputs": []
    },
    {
      "cell_type": "code",
      "source": [
        "import keras_tuner as kt\n",
        "\n",
        "tuner = kt.BayesianOptimization(build_model,\n",
        "                     objective = 'val_accuracy',\n",
        "                     max_trials = 10,\n",
        "                     directory = 'my_dir',\n",
        "                     project_name = 'sentiment_analysis_bayesopt_1',\n",
        "                                overwrite =True)"
      ],
      "metadata": {
        "id": "Sden0rpWDZBL"
      },
      "execution_count": 66,
      "outputs": []
    },
    {
      "cell_type": "code",
      "source": [
        "stop_early = tensorflow.keras.callbacks.EarlyStopping(monitor = 'val_loss', patience = 10)"
      ],
      "metadata": {
        "id": "C0IhQPTxD4sG"
      },
      "execution_count": 67,
      "outputs": []
    },
    {
      "cell_type": "code",
      "source": [
        "tuner.search(X_train_pad, y_train, epochs=10, validation_split=0.2, callbacks=[stop_early])"
      ],
      "metadata": {
        "colab": {
          "base_uri": "https://localhost:8080/"
        },
        "id": "WSMppjumEC8L",
        "outputId": "712b5c62-539b-40c3-87b0-19ee6364583c"
      },
      "execution_count": 68,
      "outputs": [
        {
          "output_type": "stream",
          "name": "stdout",
          "text": [
            "Trial 10 Complete [00h 01m 29s]\n",
            "val_accuracy: 0.904411792755127\n",
            "\n",
            "Best val_accuracy So Far: 0.904411792755127\n",
            "Total elapsed time: 00h 13m 38s\n"
          ]
        }
      ]
    },
    {
      "cell_type": "code",
      "source": [
        "best_hps = tuner.get_best_hyperparameters(num_trials = 1)[0]"
      ],
      "metadata": {
        "id": "FRNRwtS_3ul2"
      },
      "execution_count": 69,
      "outputs": []
    },
    {
      "cell_type": "code",
      "source": [
        "model = tuner.hypermodel.build(best_hps)\n",
        "history = model.fit(X_train_pad, np.array(y_train),\\\n",
        "                    epochs=10, validation_split=0.1,\\\n",
        "                    verbose = 1,\\\n",
        "                     class_weight = {0:1, 1:4.5})"
      ],
      "metadata": {
        "colab": {
          "base_uri": "https://localhost:8080/"
        },
        "id": "h1eJUbfO8TnN",
        "outputId": "fba46125-b4ed-4c96-df48-f02ea2e87214"
      },
      "execution_count": 70,
      "outputs": [
        {
          "output_type": "stream",
          "name": "stdout",
          "text": [
            "Epoch 1/10\n",
            "20/20 [==============================] - 14s 502ms/step - loss: 1.1126 - accuracy: 0.8268 - val_loss: 0.6691 - val_accuracy: 0.7647\n",
            "Epoch 2/10\n",
            "20/20 [==============================] - 8s 400ms/step - loss: 1.0163 - accuracy: 0.8627 - val_loss: 0.6337 - val_accuracy: 0.7353\n",
            "Epoch 3/10\n",
            "20/20 [==============================] - 8s 385ms/step - loss: 0.6635 - accuracy: 0.9183 - val_loss: 0.4644 - val_accuracy: 0.7647\n",
            "Epoch 4/10\n",
            "20/20 [==============================] - 9s 445ms/step - loss: 0.2689 - accuracy: 0.9624 - val_loss: 0.3669 - val_accuracy: 0.8676\n",
            "Epoch 5/10\n",
            "20/20 [==============================] - 7s 362ms/step - loss: 0.0724 - accuracy: 0.9951 - val_loss: 0.4061 - val_accuracy: 0.8529\n",
            "Epoch 6/10\n",
            "20/20 [==============================] - 9s 457ms/step - loss: 0.0182 - accuracy: 1.0000 - val_loss: 0.4043 - val_accuracy: 0.8676\n",
            "Epoch 7/10\n",
            "20/20 [==============================] - 10s 530ms/step - loss: 0.0080 - accuracy: 1.0000 - val_loss: 0.4712 - val_accuracy: 0.8235\n",
            "Epoch 8/10\n",
            "20/20 [==============================] - 7s 362ms/step - loss: 0.0052 - accuracy: 1.0000 - val_loss: 0.4679 - val_accuracy: 0.8676\n",
            "Epoch 9/10\n",
            "20/20 [==============================] - 9s 449ms/step - loss: 0.0036 - accuracy: 1.0000 - val_loss: 0.4851 - val_accuracy: 0.8382\n",
            "Epoch 10/10\n",
            "20/20 [==============================] - 7s 356ms/step - loss: 0.0705 - accuracy: 0.9951 - val_loss: 1.3599 - val_accuracy: 0.7647\n"
          ]
        }
      ]
    },
    {
      "cell_type": "code",
      "source": [
        "# Convert the test data to a numpy array\n",
        "yte = np.array(y_test)\n",
        "\n",
        "# Evaluate the model performance on the test data\n",
        "test_eval = model.evaluate(X_test_pad, yte)\n",
        "\n",
        "# Calculate and store model predictions for plotting the ROC curve.\n",
        "predictions = model.predict(X_test_pad)\n",
        "\n",
        "# Print the model summary\n",
        "print(model.summary())\n",
        "\n",
        "# Plot the models training and validation loss and accuracy\n",
        "plot_history(hist = history)\n",
        "\n",
        "# Convert predictions to binary labels based on a threshold (e.g., 0.5)\n",
        "predictions_binary = np.where(predictions > 0.5, 1, 0)\n",
        "\n",
        "# Plot the models ROC curve\n",
        "plot_roc(yte, predictions)\n",
        "\n",
        "# Print the loss and accuracy values for the model in test mode.\n",
        "print(\"Test Loss: \", test_eval[0])\n",
        "print(\"Test Accuracy: \", test_eval[1])"
      ],
      "metadata": {
        "colab": {
          "base_uri": "https://localhost:8080/",
          "height": 1000
        },
        "id": "DaNC55Zg9G5D",
        "outputId": "05845400-fbea-4356-94f0-564933acd7bf"
      },
      "execution_count": 72,
      "outputs": [
        {
          "output_type": "stream",
          "name": "stdout",
          "text": [
            "6/6 [==============================] - 1s 87ms/step - loss: 1.1451 - accuracy: 0.8118\n",
            "6/6 [==============================] - 1s 81ms/step\n",
            "Model: \"LSTM\"\n",
            "_________________________________________________________________\n",
            " Layer (type)                Output Shape              Param #   \n",
            "=================================================================\n",
            " embedding_1 (Embedding)     (None, None, 32)          143232    \n",
            "                                                                 \n",
            " bidirectional_1 (Bidirecti  (None, 128)               49664     \n",
            " onal)                                                           \n",
            "                                                                 \n",
            " dropout_1 (Dropout)         (None, 128)               0         \n",
            "                                                                 \n",
            " dense_1 (Dense)             (None, 1)                 129       \n",
            "                                                                 \n",
            "=================================================================\n",
            "Total params: 193025 (754.00 KB)\n",
            "Trainable params: 193025 (754.00 KB)\n",
            "Non-trainable params: 0 (0.00 Byte)\n",
            "_________________________________________________________________\n",
            "None\n"
          ]
        },
        {
          "output_type": "display_data",
          "data": {
            "text/plain": [
              "<Figure size 1500x500 with 2 Axes>"
            ],
            "image/png": "[encoded data removed]"
          },
          "metadata": {}
        },
        {
          "output_type": "stream",
          "name": "stdout",
          "text": [
            "Test Loss:  1.1450622081756592\n",
            "Test Accuracy:  0.8117647171020508\n"
          ]
        },
        {
          "output_type": "display_data",
          "data": {
            "text/plain": [
              "<Figure size 640x480 with 1 Axes>"
            ],
            "image/png": "[encoded data removed]"
          },
          "metadata": {}
        }
      ]
    },
    {
      "cell_type": "code",
      "source": [
        "# Convert predictions to binary labels based on a threshold (e.g., 0.5)\n",
        "predictions_binary = np.where(predictions > 0.5, 1, 0)"
      ],
      "metadata": {
        "id": "A--HWi_SCJHL"
      },
      "execution_count": 73,
      "outputs": []
    },
    {
      "cell_type": "code",
      "source": [
        "best_hps.values"
      ],
      "metadata": {
        "colab": {
          "base_uri": "https://localhost:8080/"
        },
        "id": "2VO66yyWCMKo",
        "outputId": "f563c0a6-bccb-43e0-ad35-da68a8eb4e3a"
      },
      "execution_count": 74,
      "outputs": [
        {
          "output_type": "execute_result",
          "data": {
            "text/plain": [
              "{'dropout': 0.25, 'learning_rate': 0.001876787077703894}"
            ]
          },
          "metadata": {},
          "execution_count": 74
        }
      ]
    },
    {
      "cell_type": "markdown",
      "source": [
        "The best hyperparameters were a dropout rate of 5% and a learning rate of 0.002.  This achieve an accuracy of 87% in the test set. However, there may be signs of overfitting with the training data achieving accuracies of 100% with the lower dropout rate again."
      ],
      "metadata": {
        "id": "czg5BW8N53sz"
      }
    },
    {
      "cell_type": "code",
      "source": [
        "# Print final model architecture\n",
        "\n",
        "tensorflow.keras.utils.plot_model(model)"
      ],
      "metadata": {
        "colab": {
          "base_uri": "https://localhost:8080/",
          "height": 466
        },
        "id": "Lauh8vSX_8Gv",
        "outputId": "4f06df37-cf38-4b11-b80d-e3b90edeed6a"
      },
      "execution_count": 75,
      "outputs": [
        {
          "output_type": "execute_result",
          "data": {
            "image/png": "[encoded data removed]",
            "text/plain": [
              "<IPython.core.display.Image object>"
            ]
          },
          "metadata": {},
          "execution_count": 75
        }
      ]
    },
    {
      "cell_type": "code",
      "source": [
        "# Classification Report\n",
        "print(classification_report(y_test, predictions_binary, target_names=['Negative', 'Positive']))"
      ],
      "metadata": {
        "colab": {
          "base_uri": "https://localhost:8080/"
        },
        "id": "mIk3qOSbCCjr",
        "outputId": "3c1a9db3-d9ae-42a0-bfd1-2a292f9fb831"
      },
      "execution_count": 76,
      "outputs": [
        {
          "output_type": "stream",
          "name": "stdout",
          "text": [
            "              precision    recall  f1-score   support\n",
            "\n",
            "    Negative       0.81      1.00      0.90       137\n",
            "    Positive       1.00      0.03      0.06        33\n",
            "\n",
            "    accuracy                           0.81       170\n",
            "   macro avg       0.91      0.52      0.48       170\n",
            "weighted avg       0.85      0.81      0.73       170\n",
            "\n"
          ]
        }
      ]
    },
    {
      "cell_type": "code",
      "source": [
        "cm = confusion_matrix(y_test, predictions_binary)"
      ],
      "metadata": {
        "id": "l3FYFm5QBfNf"
      },
      "execution_count": 77,
      "outputs": []
    },
    {
      "cell_type": "code",
      "source": [
        "cm"
      ],
      "metadata": {
        "colab": {
          "base_uri": "https://localhost:8080/"
        },
        "id": "2YPErZsVDVbA",
        "outputId": "4bcfb62d-fe4f-4b69-9d9c-119565b16db2"
      },
      "execution_count": 78,
      "outputs": [
        {
          "output_type": "execute_result",
          "data": {
            "text/plain": [
              "array([[137,   0],\n",
              "       [ 32,   1]])"
            ]
          },
          "metadata": {},
          "execution_count": 78
        }
      ]
    },
    {
      "cell_type": "code",
      "source": [
        "sns.heatmap(cm, annot=True, fmt='g', xticklabels=['Negative', 'Positive'], yticklabels=['Negative', 'Positive'])\n",
        "plt.ylabel('Actual', fontsize=13)\n",
        "plt.title('Confusion Matrix', fontsize=17, pad=20)\n",
        "plt.gca().xaxis.set_label_position('top')\n",
        "plt.xlabel('Prediction', fontsize=13)\n",
        "plt.gca().xaxis.tick_top()\n",
        "plt.gca().figure.subplots_adjust(bottom=0.2)\n",
        "plt.gca().figure.text(0.5, 0.05, 'Prediction', ha='center', fontsize=13)\n",
        "plt.show()"
      ],
      "metadata": {
        "colab": {
          "base_uri": "https://localhost:8080/",
          "height": 529
        },
        "id": "90QAaBpVCpGB",
        "outputId": "11491f22-8926-4c3b-de0d-c333d84d173c"
      },
      "execution_count": 82,
      "outputs": [
        {
          "output_type": "display_data",
          "data": {
            "text/plain": [
              "<Figure size 640x480 with 2 Axes>"
            ],
            "image/png": "[encoded data removed]"
          },
          "metadata": {}
        }
      ]
    },
    {
      "cell_type": "markdown",
      "source": [
        "The confusion matrix shows that the rate of correct predictions for the negative class was 100% while the rate of correct predictions for the positive class was 3%. This difference in rates can be attributed to class inbalance and moving forward the transfer learning model may be used. The model could be used as is with it's performance on the negative class because for this context, it is more important to understand when there are negative sentiments."
      ],
      "metadata": {
        "id": "4sdj3CPW6kPJ"
      }
    },
    {
      "cell_type": "markdown",
      "source": [
        "## Conclusion\n",
        "The LSTM model provided the least complex model with greater than 80% accuracy for predicting the sentiment of Starbucks reviews. A dropout rate of 25% and learning rate of 0.002 provided the best accuracy and loss. However, it seems the model was overfit and the class imbalance was not properly addressed by  to avoid overfitting. Future work should include investigate includsion of class weights during hyperparameter tuning.\n",
        "\n",
        "Alternatively, BERT model provided improvement in classification from training to validation and could be used to address overfitting and imbalance."
      ],
      "metadata": {
        "id": "wPZJLe2J_nFs"
      }
    }
  ]
}