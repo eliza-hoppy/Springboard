{
 "cells": [
  {
   "cell_type": "markdown",
   "id": "ad477187",
   "metadata": {},
   "source": [
    "# Overview\n",
    "\n",
    "\n",
    "Perform exploratory data analysis (EDA) on the dataset from Capstone Two  Data Wrangling project. Keep in mind that the goal of the EDA work is to get familiar with the features in your dataset, investigate the relationships between features, and generally understand the core characteristics of your dataset. Be creative and think about interesting figures and plots you can create to help deepen your understanding of the data."
   ]
  },
  {
   "cell_type": "markdown",
   "id": "2e582154",
   "metadata": {},
   "source": [
    "# Data Collection\n",
    "\n",
    "Download 'food-inspection-violations_1.json' at https://data.world/durhamnc/violation-data\n",
    "Download 'restaurant-and-services_3.json' and 'restaurant-and-services_4.json' at https://www.kaggle.com/datasets/thedevastator/durham-county-food-inspections/?select=food-health-inspections_2.csv"
   ]
  },
  {
   "cell_type": "markdown",
   "id": "1d4f9ce1",
   "metadata": {},
   "source": [
    "# Import Packages"
   ]
  },
  {
   "cell_type": "code",
   "execution_count": 1,
   "id": "c2817cc7",
   "metadata": {},
   "outputs": [],
   "source": [
    "# Import relevant libraries and packages.ed\n",
    "import json\n",
    "import numpy as np \n",
    "import pandas as pd \n",
    "import matplotlib.pyplot as plt \n",
    "import seaborn as sns # For all our visualization needs.\n",
    "import warnings # For handling error messages.\n",
    "# Don't worry about the following two instructions: they just suppress warnings that could occur later. \n",
    "warnings.simplefilter(action=\"ignore\", category=FutureWarning)\n",
    "warnings.filterwarnings(action=\"ignore\", module=\"scipy\", message=\"^internal gelsd\")"
   ]
  },
  {
   "cell_type": "code",
   "execution_count": 2,
   "id": "c3940eec",
   "metadata": {},
   "outputs": [
    {
     "name": "stdout",
     "output_type": "stream",
     "text": [
      "  rpt_area_desc                                           comments item  \\\n",
      "0  Food Service  2-301.12 Cleaning Procedure - P2-301.14 When t...    6   \n",
      "1  Food Service  3-501.19 Time as a Public Health Control - P,P...   22   \n",
      "2  Food Service  4-501.11 Good Repair and Proper Adjustment-Equ...   45   \n",
      "\n",
      "  inspection_id critical  weight_sum       id  \n",
      "0       2385570     None         2.0  5218844  \n",
      "1       2385570     None         1.0  5218847  \n",
      "2       2385570     None         2.0  5218851  \n",
      "<class 'pandas.core.frame.DataFrame'>\n",
      "RangeIndex: 158624 entries, 0 to 158623\n",
      "Data columns (total 7 columns):\n",
      " #   Column         Non-Null Count   Dtype  \n",
      "---  ------         --------------   -----  \n",
      " 0   rpt_area_desc  153476 non-null  object \n",
      " 1   comments       115090 non-null  object \n",
      " 2   item           158552 non-null  object \n",
      " 3   inspection_id  158624 non-null  object \n",
      " 4   critical       29362 non-null   object \n",
      " 5   weight_sum     150617 non-null  float64\n",
      " 6   id             158624 non-null  object \n",
      "dtypes: float64(1), object(6)\n",
      "memory usage: 8.5+ MB\n",
      "None\n"
     ]
    }
   ],
   "source": [
    "# Load 'food-inspection-violations_1.json' from data.world website as a json file.\n",
    "\n",
    "# Load JSON file 'food-inspection-violations_1.json' with a context manager\n",
    "with open('food-inspection-violations_1.json', 'r') as file:\n",
    "    json_1 = json.load(file)\n",
    "\n",
    "# Convert json file to dataframe, df1\n",
    "df1 = pd.json_normalize(json_1)\n",
    "\n",
    "# Inspect first 3 entries of df1\n",
    "print(df1.head(3))\n",
    "\n",
    "# Get summary of information in df1\n",
    "print(df1.info())\n",
    "\n",
    "df1.to_csv('inspection.csv', index = False)"
   ]
  },
  {
   "cell_type": "code",
   "execution_count": 3,
   "id": "9d3dd852",
   "metadata": {},
   "outputs": [
    {
     "name": "stdout",
     "output_type": "stream",
     "text": [
      "<class 'pandas.core.frame.DataFrame'>\n",
      "RangeIndex: 2463 entries, 0 to 2462\n",
      "Data columns (total 25 columns):\n",
      " #   Column                  Non-Null Count  Dtype  \n",
      "---  ------                  --------------  -----  \n",
      " 0   type_description        2463 non-null   object \n",
      " 1   est_group_desc          1017 non-null   object \n",
      " 2   opening_date            2463 non-null   object \n",
      " 3   premise_phone           1893 non-null   object \n",
      " 4   premise_address1        2463 non-null   object \n",
      " 5   premise_address2        91 non-null     object \n",
      " 6   seats                   1765 non-null   float64\n",
      " 7   id                      2463 non-null   object \n",
      " 8   premise_state           2463 non-null   object \n",
      " 9   transitional_type_desc  2463 non-null   object \n",
      " 10  status                  2463 non-null   object \n",
      " 11  premise_zip             2463 non-null   object \n",
      " 12  risk                    2463 non-null   int64  \n",
      " 13  insp_freq               2463 non-null   int64  \n",
      " 14  premise_city            2463 non-null   object \n",
      " 15  premise_name            2463 non-null   object \n",
      " 16  water                   2463 non-null   object \n",
      " 17  rpt_area_desc           2463 non-null   object \n",
      " 18  closing_date            2 non-null      object \n",
      " 19  hours_of_operation      148 non-null    object \n",
      " 20  smoking_allowed         2463 non-null   object \n",
      " 21  sewage                  2463 non-null   object \n",
      " 22  geolocation.lat         2441 non-null   float64\n",
      " 23  geolocation.lon         2441 non-null   float64\n",
      " 24  geolocation             0 non-null      float64\n",
      "dtypes: float64(4), int64(2), object(19)\n",
      "memory usage: 481.2+ KB\n",
      "None\n"
     ]
    },
    {
     "data": {
      "text/plain": [
       "list"
      ]
     },
     "execution_count": 3,
     "metadata": {},
     "output_type": "execute_result"
    }
   ],
   "source": [
    "# Load 'restaurant-and-services_3.json' from from Kaggle website\n",
    "\n",
    "# Load JSON file 'restaurant-and-services_3.json' with a context manager\n",
    "with open('restaurant-and-services_3.json', 'r') as file:\n",
    "    json_3 = json.load(file)\n",
    "\n",
    "# Convert json file to dataframe, df3\n",
    "df3 = pd.json_normalize(json_3)\n",
    "\n",
    "# Get summary of information in df1\n",
    "print(df3.info())\n",
    "\n",
    "# Check type json_3\n",
    "type(json_3)\n"
   ]
  },
  {
   "cell_type": "code",
   "execution_count": 4,
   "id": "6d5ca898",
   "metadata": {},
   "outputs": [
    {
     "name": "stdout",
     "output_type": "stream",
     "text": [
      "<class 'pandas.core.frame.DataFrame'>\n",
      "RangeIndex: 1 entries, 0 to 0\n",
      "Data columns (total 2 columns):\n",
      " #   Column    Non-Null Count  Dtype \n",
      "---  ------    --------------  ----- \n",
      " 0   type      1 non-null      object\n",
      " 1   features  1 non-null      object\n",
      "dtypes: object(2)\n",
      "memory usage: 148.0+ bytes\n",
      "None\n"
     ]
    },
    {
     "data": {
      "text/plain": [
       "dict"
      ]
     },
     "execution_count": 4,
     "metadata": {},
     "output_type": "execute_result"
    }
   ],
   "source": [
    "# Load 'restaurant-and-services_4.json' from Kaggle website\n",
    "\n",
    "# Load JSON file 'restaurant-and-services_4.json' with a context manager\n",
    "with open('restaurant-and-services_4.json', 'r') as file:\n",
    "    json_4 = json.load(file)\n",
    "\n",
    "# Convert json file to dataframe, df3\n",
    "df4 = pd.json_normalize(json_4)\n",
    "\n",
    "# Get summary of information in df1\n",
    "print(df4.info())\n",
    "\n",
    "# Check type json_3\n",
    "type(json_4)"
   ]
  },
  {
   "cell_type": "markdown",
   "id": "93dd02f7",
   "metadata": {},
   "source": [
    "From the data wrangling capstone assignment https://github.com/eliza-hoppy/-Capstone-Two-Github-Repo/blob/main/Capstone_Two_Data_Wrangling_Durham_County_Health_Inspection_ipynb_FINAL_11_29_23.ipynb we remember that json_3 and json_4 have similar entries. However json_3 is a list while json_4 is a dictionary. We will move forward with EDA using json_3 only."
   ]
  },
  {
   "cell_type": "markdown",
   "id": "fe256126",
   "metadata": {},
   "source": [
    "In this analysis, we are interested in inspection results of food service establishments. We will filter df1 and df3 on observations that deal with food service establishments."
   ]
  },
  {
   "cell_type": "code",
   "execution_count": 5,
   "id": "6cef27de",
   "metadata": {},
   "outputs": [
    {
     "name": "stdout",
     "output_type": "stream",
     "text": [
      "['Food Service' 'Mobile Food' 'School Buildings' 'Institutions' None\n",
      " 'Day Care' 'Lodging' 'Residential Care' 'Swimming Pools' 'Summer Camps'\n",
      " 'Local Confinement' 'Adult Day Care' 'Bed&Breakfast Inn'\n",
      " 'Tattoo Establishments' 'Bed&Breakfast Home']\n"
     ]
    }
   ],
   "source": [
    "# Find out observations related to food service establishments in df1 by determining unique entries in rtp_area_desc\n",
    "print(df1.rpt_area_desc.unique())"
   ]
  },
  {
   "cell_type": "code",
   "execution_count": 6,
   "id": "184bc655",
   "metadata": {},
   "outputs": [
    {
     "name": "stdout",
     "output_type": "stream",
     "text": [
      "['Elementary School' None 'Fast Food Restaurant' 'Full-Service Restaurant'\n",
      " 'Nursing Home' 'Meat and Poultry Department'\n",
      " 'Produce Department and Salad Bar' 'Hospital' 'Deli Department'\n",
      " 'Seafood Department']\n"
     ]
    }
   ],
   "source": [
    "# Find out establishment group descriptions in df3\n",
    "print(df3.est_group_desc.unique())"
   ]
  },
  {
   "cell_type": "code",
   "execution_count": 7,
   "id": "fd005468",
   "metadata": {},
   "outputs": [],
   "source": [
    "df1['id'] = df1['id'].astype(int)\n",
    "df3['id'] = df3['id'].astype(int)\n"
   ]
  },
  {
   "cell_type": "code",
   "execution_count": 8,
   "id": "ed83bf90",
   "metadata": {},
   "outputs": [
    {
     "name": "stdout",
     "output_type": "stream",
     "text": [
      "Inspection Comments DataFrame - ID Min: 733795, ID Max: 6882810\n",
      "Restaurant Details DataFrame - ID Min: 55461, ID Max: 193424\n"
     ]
    }
   ],
   "source": [
    "print('Inspection Comments DataFrame - ' +  'ID Min: ' + str(df1['id'].min()) + ', ' + 'ID Max: ' + str(df1['id'].max()))\n",
    "print('Restaurant Details DataFrame - ' +  'ID Min: ' + str(df3['id'].min()) + ', ' + 'ID Max: ' + str(df3['id'].max()))"
   ]
  },
  {
   "cell_type": "markdown",
   "id": "56e6b315",
   "metadata": {},
   "source": [
    "Unable to match the restaurant information dataframe df3 to the inspection information dataframe on their id columns because the ids are out of range. In the future analysis we will look into if there is a possibility to join both dataframes on id by reaching out to the Durham County Department of Public Health."
   ]
  },
  {
   "cell_type": "code",
   "execution_count": 9,
   "id": "6768451e",
   "metadata": {},
   "outputs": [],
   "source": [
    "# Remove the geolocation column because it is empty and all geolocation data is in the longitude and latitude columns of df3.\n",
    "df3 = df3.loc[:, df3.columns != 'geolocation']"
   ]
  },
  {
   "cell_type": "markdown",
   "id": "355c7678",
   "metadata": {},
   "source": [
    "We will plot locations of restaurants and service establishments around the Durham area."
   ]
  },
  {
   "cell_type": "code",
   "execution_count": 10,
   "id": "dbea8e0a",
   "metadata": {},
   "outputs": [
    {
     "name": "stdout",
     "output_type": "stream",
     "text": [
      "Requirement already satisfied: geopandas in c:\\users\\fabby\\anaconda3\\lib\\site-packages (0.14.3)\n",
      "Requirement already satisfied: fiona>=1.8.21 in c:\\users\\fabby\\anaconda3\\lib\\site-packages (from geopandas) (1.9.6)\n",
      "Requirement already satisfied: packaging in c:\\users\\fabby\\anaconda3\\lib\\site-packages (from geopandas) (23.1)\n",
      "Requirement already satisfied: pandas>=1.4.0 in c:\\users\\fabby\\anaconda3\\lib\\site-packages (from geopandas) (2.0.3)\n",
      "Requirement already satisfied: pyproj>=3.3.0 in c:\\users\\fabby\\anaconda3\\lib\\site-packages (from geopandas) (3.6.1)\n",
      "Requirement already satisfied: shapely>=1.8.0 in c:\\users\\fabby\\anaconda3\\lib\\site-packages (from geopandas) (2.0.3)\n",
      "Requirement already satisfied: attrs>=19.2.0 in c:\\users\\fabby\\anaconda3\\lib\\site-packages (from fiona>=1.8.21->geopandas) (22.1.0)\n",
      "Requirement already satisfied: certifi in c:\\users\\fabby\\anaconda3\\lib\\site-packages (from fiona>=1.8.21->geopandas) (2023.7.22)\n",
      "Requirement already satisfied: click~=8.0 in c:\\users\\fabby\\anaconda3\\lib\\site-packages (from fiona>=1.8.21->geopandas) (8.0.4)\n",
      "Requirement already satisfied: click-plugins>=1.0 in c:\\users\\fabby\\anaconda3\\lib\\site-packages (from fiona>=1.8.21->geopandas) (1.1.1)\n",
      "Requirement already satisfied: cligj>=0.5 in c:\\users\\fabby\\anaconda3\\lib\\site-packages (from fiona>=1.8.21->geopandas) (0.7.2)\n",
      "Requirement already satisfied: six in c:\\users\\fabby\\anaconda3\\lib\\site-packages (from fiona>=1.8.21->geopandas) (1.16.0)\n",
      "Requirement already satisfied: python-dateutil>=2.8.2 in c:\\users\\fabby\\anaconda3\\lib\\site-packages (from pandas>=1.4.0->geopandas) (2.8.2)\n",
      "Requirement already satisfied: pytz>=2020.1 in c:\\users\\fabby\\anaconda3\\lib\\site-packages (from pandas>=1.4.0->geopandas) (2023.3.post1)\n",
      "Requirement already satisfied: tzdata>=2022.1 in c:\\users\\fabby\\anaconda3\\lib\\site-packages (from pandas>=1.4.0->geopandas) (2023.3)\n",
      "Requirement already satisfied: numpy>=1.21.0 in c:\\users\\fabby\\anaconda3\\lib\\site-packages (from pandas>=1.4.0->geopandas) (1.24.3)\n",
      "Requirement already satisfied: colorama in c:\\users\\fabby\\anaconda3\\lib\\site-packages (from click~=8.0->fiona>=1.8.21->geopandas) (0.4.6)\n"
     ]
    }
   ],
   "source": [
    "! pip install geopandas"
   ]
  },
  {
   "cell_type": "code",
   "execution_count": 11,
   "id": "2e28db4e",
   "metadata": {},
   "outputs": [],
   "source": [
    "# Install all the dependencies for installing geopandas\n",
    "#pip install pandas fiona shapely pyproj rtree"
   ]
  },
  {
   "cell_type": "code",
   "execution_count": 12,
   "id": "6f346ceb",
   "metadata": {},
   "outputs": [],
   "source": [
    "# Install geopandas from the conda-forge channel\n",
    "#pip install --channel conda-forge geopandas"
   ]
  },
  {
   "cell_type": "code",
   "execution_count": 13,
   "id": "6e10bf73",
   "metadata": {},
   "outputs": [],
   "source": [
    "# Import geopandas and Point packages\n",
    "\n",
    "import geopandas as gpd\n",
    "from shapely.geometry import Point\n",
    "\n",
    "# Read the shapefile from the folder\n",
    "durham = gpd.read_file('Durham_County_Boundary.shp')"
   ]
  },
  {
   "cell_type": "code",
   "execution_count": 14,
   "id": "88952153",
   "metadata": {},
   "outputs": [
    {
     "data": {
      "image/png": "[encoded data removed]",
      "text/plain": [
       "<Figure size 640x480 with 1 Axes>"
      ]
     },
     "metadata": {},
     "output_type": "display_data"
    }
   ],
   "source": [
    "# Create a dataframe with location of inspection sites using Point package\n",
    "points = [Point(x,y) for (x, y) in zip(df3['geolocation.lon'], df3['geolocation.lat'])]\n",
    "insp_sites ={'location': df3['premise_name'], 'geometry': points}\n",
    "insp_sites = gpd.GeoDataFrame(insp_sites, crs = 4326)\n",
    "\n",
    "\n",
    "#Plot the map of durham county and overlay the locations of the inspection sits.\n",
    "fig, ax = plt.subplots()\n",
    "durham.plot(ax = ax, color = 'white', edgecolor = 'black' )\n",
    "insp_sites.plot(ax = ax, marker = 'o', color = 'r', markersize = 3)\n",
    "plt.xlabel('Longitude')\n",
    "plt.ylabel('Latitude')\n",
    "plt.title('Durham County Boundary')\n",
    "plt.show()"
   ]
  },
  {
   "cell_type": "markdown",
   "id": "3161a31f",
   "metadata": {},
   "source": [
    "The 'comments' column of the inspections dataframe, df1, first a violation code. Some of these violations are from the 2021 North Carolina Food Code (https://ehs.dph.ncdhhs.gov/faf/docs/foodprot/NC-FoodCodeManual-2021-FINAL-10-1-2021.pdf). We will extract these sections and complete an analysis on them. The food code sections occur in the format X-YYY-ZZ. X is the chapter, YYY is the subpart, and ZZ is the section. Please refer to the table of contents in the link above to see the sections.\n",
    "\n",
    "\n",
    "We will first attempt to find the unique sections which appear in the comments on violations in df1 by isolating the first 8 characters of each row in the 'comments' column."
   ]
  },
  {
   "cell_type": "code",
   "execution_count": 15,
   "id": "807a6bc7",
   "metadata": {},
   "outputs": [
    {
     "name": "stdout",
     "output_type": "stream",
     "text": [
      "0         2-301.12\n",
      "1         3-501.19\n",
      "2         4-501.11\n",
      "3         4-602.13\n",
      "4         •6-301.1\n",
      "            ...   \n",
      "158619    3-501.17\n",
      "158620    6-501.14\n",
      "158621    Operator\n",
      "158622    4-602.13\n",
      "158623    4-601.11\n",
      "Name: Food Code Section, Length: 158624, dtype: object\n"
     ]
    },
    {
     "data": {
      "text/plain": [
       "array(['2-301.12', '3-501.19', '4-501.11', ..., '... 4-30', '- -6-501',\n",
       "       'i. 3-501'], dtype=object)"
      ]
     },
     "execution_count": 15,
     "metadata": {},
     "output_type": "execute_result"
    }
   ],
   "source": [
    "# Isolate the food code section from comments by isolating the first 8 characters of the string in the 'comments column'.\n",
    "# Then look at the unique food code sections.\n",
    "df1['Food Code Section'] = df1['comments'].str[0:8]\n",
    "print(df1['Food Code Section'])\n",
    "df1['Food Code Section'].unique()"
   ]
  },
  {
   "cell_type": "markdown",
   "id": "449b4971",
   "metadata": {},
   "source": [
    "We see that there are ~16,000 unique sections. This is driven by variety of sections seen but also by different formatting and incorrect entries. "
   ]
  },
  {
   "cell_type": "code",
   "execution_count": 16,
   "id": "c99a8709",
   "metadata": {},
   "outputs": [
    {
     "data": {
      "text/plain": [
       "0    4-501.11\n",
       "Name: Food Code Section, dtype: object"
      ]
     },
     "execution_count": 16,
     "metadata": {},
     "output_type": "execute_result"
    }
   ],
   "source": [
    "df1['Food Code Section'].mode()"
   ]
  },
  {
   "cell_type": "markdown",
   "id": "5c4f087c",
   "metadata": {},
   "source": [
    "The majority of the violations come from the __Good Repair and Proper Adjustment__ section. However, we will clean the notebook up to remove observations that have no comments, and then split the sections available into columns, 'Chapter', 'Subpart', and 'Section'. Observations missing any of these three pieces of information will be deleted. \n",
    "\n",
    "Then we will re-create Food Code Sections from these 3 parts and analyze the sections."
   ]
  },
  {
   "cell_type": "code",
   "execution_count": 17,
   "id": "7d763867",
   "metadata": {},
   "outputs": [
    {
     "data": {
      "text/plain": [
       "(158624, 8)"
      ]
     },
     "execution_count": 17,
     "metadata": {},
     "output_type": "execute_result"
    }
   ],
   "source": [
    "# Check the shape of the inspections data frame.\n",
    "df1.shape"
   ]
  },
  {
   "cell_type": "code",
   "execution_count": 18,
   "id": "a9d4529c",
   "metadata": {},
   "outputs": [
    {
     "data": {
      "text/html": [
       "<div>\n",
       "<style scoped>\n",
       "    .dataframe tbody tr th:only-of-type {\n",
       "        vertical-align: middle;\n",
       "    }\n",
       "\n",
       "    .dataframe tbody tr th {\n",
       "        vertical-align: top;\n",
       "    }\n",
       "\n",
       "    .dataframe thead th {\n",
       "        text-align: right;\n",
       "    }\n",
       "</style>\n",
       "<table border=\"1\" class=\"dataframe\">\n",
       "  <thead>\n",
       "    <tr style=\"text-align: right;\">\n",
       "      <th></th>\n",
       "      <th>rpt_area_desc</th>\n",
       "      <th>comments</th>\n",
       "      <th>item</th>\n",
       "      <th>inspection_id</th>\n",
       "      <th>critical</th>\n",
       "      <th>weight_sum</th>\n",
       "      <th>id</th>\n",
       "      <th>Food Code Section</th>\n",
       "      <th>FC_Chapter</th>\n",
       "      <th>FC_Subpart</th>\n",
       "      <th>FC_Section</th>\n",
       "    </tr>\n",
       "  </thead>\n",
       "  <tbody>\n",
       "    <tr>\n",
       "      <th>0</th>\n",
       "      <td>Food Service</td>\n",
       "      <td>2-301.12 Cleaning Procedure - P2-301.14 When t...</td>\n",
       "      <td>6</td>\n",
       "      <td>2385570</td>\n",
       "      <td>None</td>\n",
       "      <td>2.0</td>\n",
       "      <td>5218844</td>\n",
       "      <td>2-301.12</td>\n",
       "      <td>2</td>\n",
       "      <td>301</td>\n",
       "      <td>12</td>\n",
       "    </tr>\n",
       "    <tr>\n",
       "      <th>1</th>\n",
       "      <td>Food Service</td>\n",
       "      <td>3-501.19 Time as a Public Health Control - P,P...</td>\n",
       "      <td>22</td>\n",
       "      <td>2385570</td>\n",
       "      <td>None</td>\n",
       "      <td>1.0</td>\n",
       "      <td>5218847</td>\n",
       "      <td>3-501.19</td>\n",
       "      <td>3</td>\n",
       "      <td>501</td>\n",
       "      <td>19</td>\n",
       "    </tr>\n",
       "    <tr>\n",
       "      <th>2</th>\n",
       "      <td>Food Service</td>\n",
       "      <td>4-501.11 Good Repair and Proper Adjustment-Equ...</td>\n",
       "      <td>45</td>\n",
       "      <td>2385570</td>\n",
       "      <td>None</td>\n",
       "      <td>2.0</td>\n",
       "      <td>5218851</td>\n",
       "      <td>4-501.11</td>\n",
       "      <td>4</td>\n",
       "      <td>501</td>\n",
       "      <td>11</td>\n",
       "    </tr>\n",
       "    <tr>\n",
       "      <th>3</th>\n",
       "      <td>Food Service</td>\n",
       "      <td>4-602.13 Nonfood Contact Surfaces - CCLEAN ALL...</td>\n",
       "      <td>47</td>\n",
       "      <td>2385570</td>\n",
       "      <td>None</td>\n",
       "      <td>1.0</td>\n",
       "      <td>5218852</td>\n",
       "      <td>4-602.13</td>\n",
       "      <td>4</td>\n",
       "      <td>602</td>\n",
       "      <td>13</td>\n",
       "    </tr>\n",
       "    <tr>\n",
       "      <th>4</th>\n",
       "      <td>Mobile Food</td>\n",
       "      <td>•6-301.14 Handwashing Signage - C: Post the gi...</td>\n",
       "      <td>8</td>\n",
       "      <td>2385592</td>\n",
       "      <td>None</td>\n",
       "      <td>1.0</td>\n",
       "      <td>5218926</td>\n",
       "      <td>•6-301.1</td>\n",
       "      <td>6</td>\n",
       "      <td>301</td>\n",
       "      <td>14</td>\n",
       "    </tr>\n",
       "  </tbody>\n",
       "</table>\n",
       "</div>"
      ],
      "text/plain": [
       "  rpt_area_desc                                           comments item  \\\n",
       "0  Food Service  2-301.12 Cleaning Procedure - P2-301.14 When t...    6   \n",
       "1  Food Service  3-501.19 Time as a Public Health Control - P,P...   22   \n",
       "2  Food Service  4-501.11 Good Repair and Proper Adjustment-Equ...   45   \n",
       "3  Food Service  4-602.13 Nonfood Contact Surfaces - CCLEAN ALL...   47   \n",
       "4   Mobile Food  •6-301.14 Handwashing Signage - C: Post the gi...    8   \n",
       "\n",
       "  inspection_id critical  weight_sum       id Food Code Section FC_Chapter  \\\n",
       "0       2385570     None         2.0  5218844          2-301.12          2   \n",
       "1       2385570     None         1.0  5218847          3-501.19          3   \n",
       "2       2385570     None         2.0  5218851          4-501.11          4   \n",
       "3       2385570     None         1.0  5218852          4-602.13          4   \n",
       "4       2385592     None         1.0  5218926          •6-301.1          6   \n",
       "\n",
       "  FC_Subpart FC_Section  \n",
       "0        301         12  \n",
       "1        501         19  \n",
       "2        501         11  \n",
       "3        602         13  \n",
       "4        301         14  "
      ]
     },
     "execution_count": 18,
     "metadata": {},
     "output_type": "execute_result"
    }
   ],
   "source": [
    "# Create new columns Chapter, Subpart and Section using the food code sections listed in the comments section\n",
    "df1[['FC_Chapter','FC_Subpart', 'FC_Section']] = df1['comments'].str.extract('([0-9]+)(?:-)([0-9]+)(?:.)([0-9]+)')\n",
    "df1.head()"
   ]
  },
  {
   "cell_type": "code",
   "execution_count": 19,
   "id": "871a9d41",
   "metadata": {},
   "outputs": [
    {
     "data": {
      "text/html": [
       "<div>\n",
       "<style scoped>\n",
       "    .dataframe tbody tr th:only-of-type {\n",
       "        vertical-align: middle;\n",
       "    }\n",
       "\n",
       "    .dataframe tbody tr th {\n",
       "        vertical-align: top;\n",
       "    }\n",
       "\n",
       "    .dataframe thead th {\n",
       "        text-align: right;\n",
       "    }\n",
       "</style>\n",
       "<table border=\"1\" class=\"dataframe\">\n",
       "  <thead>\n",
       "    <tr style=\"text-align: right;\">\n",
       "      <th></th>\n",
       "      <th>rpt_area_desc</th>\n",
       "      <th>comments</th>\n",
       "      <th>item</th>\n",
       "      <th>inspection_id</th>\n",
       "      <th>critical</th>\n",
       "      <th>weight_sum</th>\n",
       "      <th>id</th>\n",
       "      <th>FC_Chapter</th>\n",
       "      <th>FC_Subpart</th>\n",
       "      <th>FC_Section</th>\n",
       "      <th>Formatted_FC_Section</th>\n",
       "    </tr>\n",
       "  </thead>\n",
       "  <tbody>\n",
       "    <tr>\n",
       "      <th>0</th>\n",
       "      <td>Food Service</td>\n",
       "      <td>2-301.12 Cleaning Procedure - P2-301.14 When t...</td>\n",
       "      <td>6</td>\n",
       "      <td>2385570</td>\n",
       "      <td>None</td>\n",
       "      <td>2.0</td>\n",
       "      <td>5218844</td>\n",
       "      <td>2</td>\n",
       "      <td>301</td>\n",
       "      <td>12</td>\n",
       "      <td>2-301.12</td>\n",
       "    </tr>\n",
       "    <tr>\n",
       "      <th>1</th>\n",
       "      <td>Food Service</td>\n",
       "      <td>3-501.19 Time as a Public Health Control - P,P...</td>\n",
       "      <td>22</td>\n",
       "      <td>2385570</td>\n",
       "      <td>None</td>\n",
       "      <td>1.0</td>\n",
       "      <td>5218847</td>\n",
       "      <td>3</td>\n",
       "      <td>501</td>\n",
       "      <td>19</td>\n",
       "      <td>3-501.19</td>\n",
       "    </tr>\n",
       "    <tr>\n",
       "      <th>2</th>\n",
       "      <td>Food Service</td>\n",
       "      <td>4-501.11 Good Repair and Proper Adjustment-Equ...</td>\n",
       "      <td>45</td>\n",
       "      <td>2385570</td>\n",
       "      <td>None</td>\n",
       "      <td>2.0</td>\n",
       "      <td>5218851</td>\n",
       "      <td>4</td>\n",
       "      <td>501</td>\n",
       "      <td>11</td>\n",
       "      <td>4-501.11</td>\n",
       "    </tr>\n",
       "    <tr>\n",
       "      <th>3</th>\n",
       "      <td>Food Service</td>\n",
       "      <td>4-602.13 Nonfood Contact Surfaces - CCLEAN ALL...</td>\n",
       "      <td>47</td>\n",
       "      <td>2385570</td>\n",
       "      <td>None</td>\n",
       "      <td>1.0</td>\n",
       "      <td>5218852</td>\n",
       "      <td>4</td>\n",
       "      <td>602</td>\n",
       "      <td>13</td>\n",
       "      <td>4-602.13</td>\n",
       "    </tr>\n",
       "    <tr>\n",
       "      <th>4</th>\n",
       "      <td>Mobile Food</td>\n",
       "      <td>•6-301.14 Handwashing Signage - C: Post the gi...</td>\n",
       "      <td>8</td>\n",
       "      <td>2385592</td>\n",
       "      <td>None</td>\n",
       "      <td>1.0</td>\n",
       "      <td>5218926</td>\n",
       "      <td>6</td>\n",
       "      <td>301</td>\n",
       "      <td>14</td>\n",
       "      <td>6-301.14</td>\n",
       "    </tr>\n",
       "  </tbody>\n",
       "</table>\n",
       "</div>"
      ],
      "text/plain": [
       "  rpt_area_desc                                           comments item  \\\n",
       "0  Food Service  2-301.12 Cleaning Procedure - P2-301.14 When t...    6   \n",
       "1  Food Service  3-501.19 Time as a Public Health Control - P,P...   22   \n",
       "2  Food Service  4-501.11 Good Repair and Proper Adjustment-Equ...   45   \n",
       "3  Food Service  4-602.13 Nonfood Contact Surfaces - CCLEAN ALL...   47   \n",
       "4   Mobile Food  •6-301.14 Handwashing Signage - C: Post the gi...    8   \n",
       "\n",
       "  inspection_id critical  weight_sum       id FC_Chapter FC_Subpart  \\\n",
       "0       2385570     None         2.0  5218844          2        301   \n",
       "1       2385570     None         1.0  5218847          3        501   \n",
       "2       2385570     None         2.0  5218851          4        501   \n",
       "3       2385570     None         1.0  5218852          4        602   \n",
       "4       2385592     None         1.0  5218926          6        301   \n",
       "\n",
       "  FC_Section Formatted_FC_Section  \n",
       "0         12             2-301.12  \n",
       "1         19             3-501.19  \n",
       "2         11             4-501.11  \n",
       "3         13             4-602.13  \n",
       "4         14             6-301.14  "
      ]
     },
     "execution_count": 19,
     "metadata": {},
     "output_type": "execute_result"
    }
   ],
   "source": [
    "# Rejoin the Chapter, Subpart and Section columns to create a column called 'Formatted_FC_Section'\n",
    "df1['Formatted_FC_Section'] = df1['FC_Chapter'] + '-' + df1['FC_Subpart'] + '.' + df1['FC_Section']\n",
    "\n",
    "# Create new dataframe df that removes unformatted column 'Food Code Section'\n",
    "\n",
    "df1 = df1.loc[:, df1.columns != 'Food Code Section']\n",
    "df1.head()"
   ]
  },
  {
   "cell_type": "code",
   "execution_count": 20,
   "id": "da1b7790",
   "metadata": {},
   "outputs": [
    {
     "name": "stdout",
     "output_type": "stream",
     "text": [
      "<class 'pandas.core.frame.DataFrame'>\n",
      "Index: 53024 entries, 0 to 158623\n",
      "Data columns (total 11 columns):\n",
      " #   Column                Non-Null Count  Dtype  \n",
      "---  ------                --------------  -----  \n",
      " 0   rpt_area_desc         52937 non-null  object \n",
      " 1   comments              53024 non-null  object \n",
      " 2   item                  53022 non-null  object \n",
      " 3   inspection_id         53024 non-null  object \n",
      " 4   critical              475 non-null    object \n",
      " 5   weight_sum            53008 non-null  float64\n",
      " 6   id                    53024 non-null  int32  \n",
      " 7   FC_Chapter            53024 non-null  object \n",
      " 8   FC_Subpart            53024 non-null  object \n",
      " 9   FC_Section            53024 non-null  object \n",
      " 10  Formatted_FC_Section  53024 non-null  object \n",
      "dtypes: float64(1), int32(1), object(9)\n",
      "memory usage: 4.7+ MB\n"
     ]
    }
   ],
   "source": [
    "# Drop columns from df which have empty columns for 'FC_Subpart', 'FC_Chapter' or 'FC_Section'\n",
    "df1.dropna(subset = ['FC_Subpart', 'FC_Chapter', 'FC_Section'], inplace = True)\n",
    "# Check that there are none null values in df for the 3 columns.\n",
    "df1.info()"
   ]
  },
  {
   "cell_type": "code",
   "execution_count": 21,
   "id": "130651b7",
   "metadata": {},
   "outputs": [
    {
     "data": {
      "text/plain": [
       "array(['2-301.12', '3-501.19', '4-501.11', '4-602.13', '6-301.14',\n",
       "       '3-603.11', '5-205.11', '6-501.114', '6-303.11', '4-402.12',\n",
       "       '2-201.11', '2-301.16', '4-501.111', '5-103.11', '5-501.110',\n",
       "       '3-306.11', '3-501.16', '3-304.12', '5-501.17', '5-202.12',\n",
       "       '4-602.11', '3-501.17', '3-302.12', '5-205.15', '6-201.11',\n",
       "       '2-103.11', '6-501.12', '4-601.11', '3-304.14', '4-502.11',\n",
       "       '6-301.11', '3-201.11', '4-903.11', '3-305.11', '2-402.11',\n",
       "       '6-501.14', '3-502.11', '6-501.16', '4-101.19', '4-205.10',\n",
       "       '2-102.12', '4-302.14', '2-201.12', '3-303.12', '4-501.115',\n",
       "       '4-901.11', '2-301.14', '7-102.11', '3-501.15', '6-501.11',\n",
       "       '4-302.12', '6-501.18', '5-502.11', '2-401.11', '3-203.12',\n",
       "       '3-501.14', '3-203.11', '3-202.16', '6-202.13', '7-204.11',\n",
       "       '6-501.111', '128-1.0', '8-103.11', '4-201.11', '5-501.16',\n",
       "       '6-301.12', '4-203.12', '6-305.11', '3-501.13', '6-304.11',\n",
       "       '5-501.114', '4-101.16', '5-501.15', '80-1.0', '50-2.0',\n",
       "       '6-201.13', '2-303.11', '4-702.11', '3-5.1', '3-501.18',\n",
       "       '3-301.11', '6-201.16', '3-302.11', '3-304.15', '3-307.11',\n",
       "       '5-403.12', '4-204.117', '5-203.12', '5-501.115', '5-302.16',\n",
       "       '5-501.113', '116-1.8', '3-202.14', '5-402.13', '3-602.11',\n",
       "       '3-305.12', '6-202.111', '4-202.16', '4-501.19', '2-401.12',\n",
       "       '6-202.11', '7-201.11', '4-101.11', '4-501.114', '500-8.0',\n",
       "       '4-202.11', '5-203.14', '4-703.11', '5-204.11', '6-501.112',\n",
       "       '5-501.13', '3-402.12', '4-204.112', '5-202.11', '6-201.12',\n",
       "       '3-401.14', '8-201.13', '5-501.116', '5-202.13', '6-301.13',\n",
       "       '5-402.11', '4-301.12', '7-101.11', '6-101.11', '5-202.14',\n",
       "       '4-501.110', '3-202.12', '6-403.11', '6-202.12', '3-201.12',\n",
       "       '3-202.15', '6-302.11', '4-101.17', '6-202.15', '4-502.13',\n",
       "       '6-501.6', '4-501.12', '4-204.113', '4-501.15', '4-203.11',\n",
       "       '3-302.15', '6-501.15', '3-401.11', '4-501.14', '6-404.11',\n",
       "       '4-204.115', '3-202.11', '3-403.11', '7-202.12', '4-501.112',\n",
       "       '6-501.113', '3-402.11', '5-501.12', '4-301.13', '5-205.12',\n",
       "       '4-501.116', '6-501.110', '5-501.111', '5-201.11', '5-203.11',\n",
       "       '5-203.13', '2-301.15', '4-202.12', '4-301.11', '4-603.16',\n",
       "       '4-301.14', '8-103.12', '5-103.12', '3-305.14', '4-904.11',\n",
       "       '3-502.12', '2-301.11', '3-101.11', '13-501.18', '23-304.14',\n",
       "       '3-3.4', '119-1.4', '3-501.1', '5-403.11', '3-304.11', '4-402.11',\n",
       "       '2-101.11', '5-203.15', '4-901.12', '93-304.14', '2-302.11',\n",
       "       '108-1.8', '135-70.2', '200-4.0', '560-78.0', '2-7.8', '125-1.7',\n",
       "       '0-2.0', '90-1.6', '135-1.1', '106-1.7', '106-1.1', '98-1.0',\n",
       "       '116-1.5', '105-1.1', '109-1.4', '5-402.12', '4-803.11',\n",
       "       '3-302.13', '4-27.13', '6-202.16', '3-3.04', '4-501.16',\n",
       "       '5-501.19', '3-701.11', '100-1.6', '3-304.13', '4-101.14',\n",
       "       '3-201.14', '6-501.115', '6-202.14', '7-209.11', '6-102.11',\n",
       "       '2-1.02', '6-3.01', '3-801.11', '2-304.11', '4-101.18', '4-2.01',\n",
       "       '113-304.12', '6-501.19', '200-2.1', '4-204.13', '4-202.18',\n",
       "       '6-501.13', '4-501.113', '3-303.11', '2-102.11', '4-501.18',\n",
       "       '4-801.11', '3-302.112', '4-401.11', '7-203.11', '3-2.2',\n",
       "       '4-202.14', '3-301.12', '10-26.20142', '131-1.7', '3-302.14',\n",
       "       '4-501.17', '5-204.13', '2-201.13', '16-501.12', '5-401.11',\n",
       "       '3-306.13', '3-306.14', '3-3.5', '5-402.14', '14-301.12',\n",
       "       '6-402.11', '4-302.1', '97-1.0', '4-302.13', '2-401.1', '4-102.11',\n",
       "       '4-204.116', '6-201.14', '3-401.13', '4-603.12', '4-203.13',\n",
       "       '115-1.7', '3-302.1', '5-303.12', '0-10.0', '61-501.14',\n",
       "       '6-501.17', '5-01.12', '2-1.2', '5-27.14', '4-204.118', '3-603.1',\n",
       "       '15-205.15', '8-201.1', '3-501.12', '4-2.5', '5-501.11', '250-5.0',\n",
       "       '117-1.3', '5-204.12', '4-903.12', '125-1.5', '78-1.1', '50-1.0',\n",
       "       '112-1.2', '149-1.0', '3-50.200', '4-502.12', '919-560.7815',\n",
       "       '111-1.4', '560-78.5', '105-1.2', '129-1.1', '125-1.0', '119-1.5',\n",
       "       '90-1.0', '137-1.7', '127-1.2', '10-1.12', '402-1.5', '1-1.2',\n",
       "       '9-9.2010', '122-1.3', '3-306.12', '5-304.12', '8-201.14',\n",
       "       '4-602.12', '2-4.2', '12-401.11', '73-305.11', '4-204.11',\n",
       "       '7774-202.16', '6-201.18', '3-601.11', '6-2.1', '3-202.18',\n",
       "       '213-304.14', '112-1.5', '6-3.03', '74-201.11', '12-102.12',\n",
       "       '560-78.8', '109-1.2', '125-1.2', '100-1.4', '135-1.7', '91-1.5',\n",
       "       '105-1.5', '118-1.4', '106-1.8', '130-1.3', '128-218.121',\n",
       "       '120-1.9', '200-3.0', '5-5.1', '6-202.110', '23-305.14',\n",
       "       '3-601.12', '73-603.11', '75-103.11', '3-50.1', '4-2.1',\n",
       "       '123-305.11', '5-2.3', '130-1.4', '133-1.5', '4-60.2', '180-1.0',\n",
       "       '5-502.12', '5-101.11', '7-207.11', '4-802.11', '5-402.15',\n",
       "       '3-501.11', '113-501.17', '4-5.1', '7-208.11', '5-104.11',\n",
       "       '3-202.17', '2-3.1', '5-304.13', '3-30.1', '3-18.2013', '4-204.12',\n",
       "       '96-1.4', '919-560.7800', '5-205.13', '6-201.17', '6-5011.111',\n",
       "       '12-201.11', '115-1.5', '8-28.09', '117-1.2', '120-115.114',\n",
       "       '135-1.0', '102-1.0', '132-1.0', '138-1.0', '116-1.2', '23-501.13',\n",
       "       '3-404.11', '7-301.11', '131-1.6', '4-1.2', '4-204.18', '3-304.1',\n",
       "       '214-502.11', '1-13.501', '4-602.1', '13-501.16', '6-5.01',\n",
       "       '113-1.4', '6-5.1', '126-1.5', '621-08.4', '105-1.0', '4-204.122',\n",
       "       '86-1.6', '120-1.0', '25-28.2011', '142-1.5', '7-23.09', '130-1.6',\n",
       "       '5-21.12', '6-8.12', '11-3.11', '4-29.12', '107-1.1', '2-8.12',\n",
       "       '14-502.11', '4-601.1', '63-401.11', '3-602.12', '6-301.20',\n",
       "       '76-501.110', '5-25.11', '3-202.110', '14-204.112', '14-601.11',\n",
       "       '155-1.5', '125-1.6', '115-1.0', '56-501.114', '3-3.02',\n",
       "       '306-501.111', '34-304.15', '9-24.13', '63-302.12', '5-202.15',\n",
       "       '4-204.114', '4-9.1', '112-1.6', '74-204.115', '117-1.8', '3-3.2',\n",
       "       '51-103.11', '774-501.19', '6-501.144', '5-101.12', '4-6.1',\n",
       "       '5-5.01', '64-501.11', '63-501.16', '85-1.0', '109-1.3', '130-1.5',\n",
       "       '501-1.9', '70-1.7', '116-1.1', '90-1.9', '107-1.2', '560-78.3',\n",
       "       '5-304.11', '23-306.11', '4-5.2', '4-904.12', '4-301.2', '8-15.12',\n",
       "       '107-1.4', '6-3.5', '3-5.01', '119-1.0', '13-305.12', '95-1.7',\n",
       "       '2-2.1', '118-1.5', '95-1.8', '125-1.3', '5-21.10', '124-1.0',\n",
       "       '12-3.10', '400-8.0', '1-4.11', '116-1.0', '4-14.11', '100-1.0',\n",
       "       '114-1.5', '92-1.9', '114-1.4', '46-1.4', '93-1.3', '133-1.6',\n",
       "       '133-1.0', '126-1.8', '110-1.8', '220-2.1', '45-1.5', '124-1.5',\n",
       "       '99-1.3', '110-1.0', '70-45.4', '143-1.1', '129-1.0', '98-1.5',\n",
       "       '113-1.5', '6-3101.14', '6-303.1', '2-20.3', '5-501.112',\n",
       "       '4-204.119', '7-2.1', '21-102.12', '6-501.1', '234-1.8',\n",
       "       '5-302.15', '111-1.8', '114-1.8', '153-501.16', '4-901.1',\n",
       "       '20142-102.12', '3-2.1', '4-204.120', '4-201.12', '4-603.14',\n",
       "       '73-501.16', '76-501.111', '6-2.02', '7-207.12', '76-501.114',\n",
       "       '3-04.14', '3-305.1', '321-1.1', '13-402.12', '113-1.1', '170-1.0',\n",
       "       '126-1.7', '114-1.1', '119-1.1', '160-1.0', '171-1.3', '4-3.2',\n",
       "       '349-1.9', '6-201.15', '13-501.19', '112-1.8', '13-304.14',\n",
       "       '132-1.3', '54-601.11', '36-201.11', '13-501.14', '368-109.010',\n",
       "       '4-904.13', '6-50.1', '4-202.15', '560-78.9', '3-603.13',\n",
       "       '4-602.3', '12-402.11', '5-503.11', '4-8.03', '4-101.15',\n",
       "       '10-10.0', '4-501.1', '4-6.2', '72-402.11', '3-201.15', '7-206.12',\n",
       "       '6-501.10', '115-1.2', '6-301.1', '15-202.11', '119-1.3',\n",
       "       '106-1.0', '11-20.09', '118-1.0', '107-1.6', '2-403.11',\n",
       "       '4-201.10', '5-1.3', '6-7201.17', '5-102.13', '1-1.2014',\n",
       "       '919-688.2061', '108-1.6', '128-1.1', '48-1.3', '44-601.11',\n",
       "       '173-304.14', '3-305.117', '64-601.11', '110-1.1', '114-1.7',\n",
       "       '133-1.7', '130-1.2', '33-304.15', '8-10.3', '6-306.10',\n",
       "       '5-102.14', '14-501.11', '3-6.3', '6-5011.1', '6-3.1', '150-1.5',\n",
       "       '98-1.8', '183-403.11', '4-60.1', '3-20.2', '126-1.6', '116-1.9',\n",
       "       '126-1.0', '4-27.12', '10-17.12', '12-2.08', '7-1.12'],\n",
       "      dtype=object)"
      ]
     },
     "execution_count": 21,
     "metadata": {},
     "output_type": "execute_result"
    }
   ],
   "source": [
    "# Check the unique values in 'Formatted_FC Section'\n",
    "df1['Formatted_FC_Section'].unique()"
   ]
  },
  {
   "cell_type": "markdown",
   "id": "f90cf397",
   "metadata": {},
   "source": [
    "Some of the sections chapters and subpart codes seem to be out of place as they do not align with sections of the food code. This could be due to incorrect entries **or** these could be violation codes not related to the food code. Since the main analysis for this EDA will look mainly at food code violations, we will filter out those codes which do not appear in the NC Food Code. A future analysis may look at classifying the violations based on the actual 'comments' text to instead of using the violation codes. This would allow us to classify violations which are missing codes in the comments, or violations which do not appear in the food code. "
   ]
  },
  {
   "cell_type": "code",
   "execution_count": null,
   "id": "bc009b67",
   "metadata": {},
   "outputs": [],
   "source": [
    "# Import the 'NC_Food_Code_202.xlsx' file.\n",
    "df2 = pd.read_excel(r\"C:\\Users\\fabby\\OneDrive\\Springboard\\Capstone_2_Exploratory_Data_Analysis\\NC_Food_Code_2021.xlsx\")\n",
    "df2.head()"
   ]
  },
  {
   "cell_type": "code",
   "execution_count": null,
   "id": "d1ef6403",
   "metadata": {},
   "outputs": [],
   "source": [
    "#Create a header for Subpart # in df2\n",
    "df2[['Subpart']] = df2['Part'].str.extract('(?:-)([0-9]+)')\n",
    "df2.head()"
   ]
  },
  {
   "cell_type": "code",
   "execution_count": null,
   "id": "f087c8a3",
   "metadata": {},
   "outputs": [],
   "source": [
    "# Find entries of df1['Formatted_FC_Section'] that appear in df2['Part']\n",
    "\n",
    "# Extract chapters and subparts from df1 and store in a df called sections\n",
    "sections = df1['Formatted_FC_Section'].str.extract('([0-9]+)(?:-)([0-9]+)')\n",
    "sections['Parts'] = sections[0] + '-' + sections[1]\n",
    "\n",
    "# Find sections that appear in the Food Code by comparing to df2['Part']\n",
    "real_sections = sections['Parts'].isin(df2['Part'])\n",
    "df1 = df1[real_sections]\n",
    "print(df1['Formatted_FC_Section'].unique())"
   ]
  },
  {
   "cell_type": "markdown",
   "id": "4b6a31f5",
   "metadata": {},
   "source": [
    "Join df1 and df2 on the Chapter and Subpart columns to gain to get informationon the chapter and subpart descriptions."
   ]
  },
  {
   "cell_type": "code",
   "execution_count": null,
   "id": "b2586db4",
   "metadata": {},
   "outputs": [],
   "source": [
    "df1['Part'] = df1['FC_Chapter'] + '-' + df1['FC_Subpart']\n"
   ]
  },
  {
   "cell_type": "code",
   "execution_count": null,
   "id": "a6909f0e",
   "metadata": {},
   "outputs": [],
   "source": [
    "df = pd.merge(df1, df2, on = 'Part', how = 'inner')\n",
    "df.head(3)"
   ]
  },
  {
   "cell_type": "code",
   "execution_count": null,
   "id": "82ed6576",
   "metadata": {},
   "outputs": [],
   "source": [
    "df.info()"
   ]
  },
  {
   "cell_type": "markdown",
   "id": "4f727010",
   "metadata": {},
   "source": [
    "The key variables of interest are the rpt_area_desc, food code chapter, food code subpart, and the critical violations. We will create plots of these variables."
   ]
  },
  {
   "cell_type": "code",
   "execution_count": null,
   "id": "de72c673",
   "metadata": {},
   "outputs": [],
   "source": [
    "# Create a categorical plot of the rpt_area_desc, chapter description, and subpart heading.\n",
    "g = sns.catplot(x = 'rpt_area_desc', kind = 'count', data = df)"
   ]
  },
  {
   "cell_type": "markdown",
   "id": "f0707200",
   "metadata": {},
   "source": [
    "After the removal of observations where the violations do not appear in the food code, food service, mobile food and institutions are the only establishments left with violations. Food service establishments take the majority of these violations. We will look at what chapter of the food code majority of the violations appear in."
   ]
  },
  {
   "cell_type": "code",
   "execution_count": null,
   "id": "5947fca5",
   "metadata": {},
   "outputs": [],
   "source": [
    "# Create at sns categorical plot showing counts of violations from each of the food code chapters.\n",
    "g = sns.catplot(y = 'Chapter Description', kind = 'count', data = df)"
   ]
  },
  {
   "cell_type": "markdown",
   "id": "206c986b",
   "metadata": {},
   "source": [
    "Majority of the violations come from the Food, Equipment, Utensils, and Linens, Physical Facilities and Management and Personnel chapters. We will find the 3 highest violations in each of these chapters."
   ]
  },
  {
   "cell_type": "code",
   "execution_count": null,
   "id": "47863fae",
   "metadata": {},
   "outputs": [],
   "source": [
    "# Create the food dataframe \n",
    "df_c3 = df[df['Chapter Description'] == 'Food']\n",
    "\n",
    "# Plot the 3 highest violation sections in the food chapter\n",
    "df_c3['Formatted_FC_Section'].value_counts().iloc[0:3].plot(kind = 'bar')\n",
    "plt.ylabel('Number of Occurrences of Violation')\n",
    "plt.title('Food - Chapter 3 Violations')"
   ]
  },
  {
   "cell_type": "code",
   "execution_count": null,
   "id": "5af0ca7b",
   "metadata": {},
   "outputs": [],
   "source": [
    "# Create the 'Equipment, Utensils, and Linens' dataframe \n",
    "df_c4 = df[df['Chapter Description'] == 'Equipment, Utensils, and Linens']\n",
    "\n",
    "# Plot the 3 highest violation sections in the 'Equipment, Utensils, and Linens'chapter\n",
    "df_c4['Formatted_FC_Section'].value_counts().iloc[0:3].plot(kind = 'bar')\n",
    "plt.ylabel('Number of Occurrences of Violation')\n",
    "plt.title('Equipment, Utensils, and Linens - Chapter 4 Violations')"
   ]
  },
  {
   "cell_type": "code",
   "execution_count": null,
   "id": "230bb2f7",
   "metadata": {},
   "outputs": [],
   "source": [
    "# Create the 'Physical Facilities' dataframe \n",
    "df_c6 = df[df['Chapter Description'] == 'Physical Facilities']\n",
    "\n",
    "# Plot the 3 highest violation sections in the 'Physical Facilities' chapter\n",
    "df_c6['Formatted_FC_Section'].value_counts().iloc[0:3].plot(kind = 'bar')\n",
    "plt.ylabel('Number of Occurrences of Violation')\n",
    "plt.title('Physical Facilities - Chapter 6 Violations')"
   ]
  },
  {
   "cell_type": "code",
   "execution_count": null,
   "id": "631ea0bc",
   "metadata": {},
   "outputs": [],
   "source": [
    "# Create the 'Management and Personnel' dataframe \n",
    "df_c2 = df[df['Chapter Description'] == 'Management and Personnel']\n",
    "\n",
    "# Plot the 3 highest violation sections in the 'Management and Personnel'' chapter\n",
    "df_c2['Formatted_FC_Section'].value_counts().iloc[0:3].plot(kind = 'bar')\n",
    "plt.ylabel('Number of Occurrences of Violation')\n",
    "plt.title('Management and Personnel - Chapter 2 Violations')"
   ]
  },
  {
   "cell_type": "markdown",
   "id": "a10f2371",
   "metadata": {},
   "source": [
    "Based on the plots we see that in the Food category, most violations deal with 'Time /Temperature COntrol for Safety Food, Hot and Cold Holding. \n",
    "For the Equipment, Utensils, and Linen category. it is for ' Equipment, Food-Contact Surfaces, NonfoodContact Surfaces, and Utensils.'. \n",
    "For the Physical Facilities category the highest violation is from the Light Intensity section.\n",
    "Finally, in the Management and Personnel category the most violations come from the Certified Food Protection Manager chapter."
   ]
  },
  {
   "cell_type": "markdown",
   "id": "a5105f69",
   "metadata": {},
   "source": [
    "Let us find what section of the food code most of the critical violations came from."
   ]
  },
  {
   "cell_type": "code",
   "execution_count": null,
   "id": "503208d8",
   "metadata": {},
   "outputs": [],
   "source": [
    "# Filter the dataframe on observations where critical violations were found.\n",
    "df5 = df[df['critical'] == 'Y']\n",
    "# Plot the the sections where the critical violations came from\n",
    "df5['Formatted_FC_Section'].value_counts().plot(kind = 'bar')"
   ]
  },
  {
   "cell_type": "markdown",
   "id": "2efdabd2",
   "metadata": {},
   "source": [
    "There were 89 critical violations in the dataset and 13 of those came from Time/Temperature Control for Safety Food, Hot and Cold Holding. This is the same section where majority of the violations  in the data set came from. There is an opportunity to train and reduce the number of violations in this category."
   ]
  },
  {
   "cell_type": "markdown",
   "id": "3cb0b829",
   "metadata": {},
   "source": [
    "# Next Steps\n",
    "For future analysis it would be interesting to understand if the restaurants in df3 can be linked to the inspection data in df. From there we can analyze the comments in df to understand what specific actions are leading to violations. Also it would be interesting to complete a cluster analysis to see if specific violations are linked to specific types of establishments (food service vs. mobile food and so on). It would be helpful to understand which establishments are running into critical violations and why."
   ]
  },
  {
   "cell_type": "code",
   "execution_count": null,
   "id": "5c82cd87",
   "metadata": {},
   "outputs": [],
   "source": [
    "df.to_csv('foodinspection_eda.csv')"
   ]
  },
  {
   "cell_type": "code",
   "execution_count": null,
   "id": "8bfd5fe5",
   "metadata": {
    "scrolled": true
   },
   "outputs": [],
   "source": [
    "df3"
   ]
  },
  {
   "cell_type": "code",
   "execution_count": null,
   "id": "1935439f",
   "metadata": {},
   "outputs": [],
   "source": [
    "df3.to_csv('storechar_eda.csv')"
   ]
  },
  {
   "cell_type": "code",
   "execution_count": 22,
   "id": "4814606c",
   "metadata": {},
   "outputs": [],
   "source": [
    "df1.to_csv('allinspectionsections_eda.csv')"
   ]
  },
  {
   "cell_type": "code",
   "execution_count": null,
   "id": "b1eca7b0",
   "metadata": {},
   "outputs": [],
   "source": []
  }
 ],
 "metadata": {
  "kernelspec": {
   "display_name": "Python 3 (ipykernel)",
   "language": "python",
   "name": "python3"
  },
  "language_info": {
   "codemirror_mode": {
    "name": "ipython",
    "version": 3
   },
   "file_extension": ".py",
   "mimetype": "text/x-python",
   "name": "python",
   "nbconvert_exporter": "python",
   "pygments_lexer": "ipython3",
   "version": "3.11.5"
  }
 },
 "nbformat": 4,
 "nbformat_minor": 5
}
